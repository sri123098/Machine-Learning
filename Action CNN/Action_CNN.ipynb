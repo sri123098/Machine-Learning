{
 "cells": [
  {
   "cell_type": "markdown",
   "metadata": {},
   "source": [
    "# Training a ConvNet PyTorch\n",
    "\n",
    "In this notebook, you'll learn how to use the powerful PyTorch framework to specify a conv net architecture and train it on the human action recognition dataset. \n"
   ]
  },
  {
   "cell_type": "code",
   "execution_count": 1,
   "metadata": {},
   "outputs": [],
   "source": [
    "import torch\n",
    "import torch.nn as nn\n",
    "import torch.optim as optim\n",
    "from torch.autograd import Variable\n",
    "from torch.utils.data import DataLoader,sampler,Dataset\n",
    "import torchvision.datasets as dset\n",
    "import torchvision.transforms as T\n",
    "import timeit\n",
    "from PIL import Image\n",
    "import os\n",
    "import numpy as np\n",
    "import scipy.io\n"
   ]
  },
  {
   "cell_type": "code",
   "execution_count": 2,
   "metadata": {},
   "outputs": [
    {
     "name": "stdout",
     "output_type": "stream",
     "text": [
      "Requirement already satisfied: torchvision in ./.env/lib/python3.6/site-packages (0.2.1)\r\n",
      "Requirement already satisfied: six in ./.env/lib/python3.6/site-packages (from torchvision) (1.10.0)\r\n",
      "Requirement already satisfied: torch in ./.env/lib/python3.6/site-packages (from torchvision) (0.4.1)\r\n",
      "Requirement already satisfied: pillow>=4.1.1 in ./.env/lib/python3.6/site-packages (from torchvision) (5.3.0)\r\n",
      "Requirement already satisfied: numpy in ./.env/lib/python3.6/site-packages (from torchvision) (1.12.1)\r\n"
     ]
    }
   ],
   "source": [
    "!pip install torchvision"
   ]
  },
  {
   "cell_type": "markdown",
   "metadata": {},
   "source": [
    "## What's this PyTorch business?\n",
    "\n",
    "* When using a framework like PyTorch or TensorFlow you can harness the power of the GPU for your own custom neural network architectures without having to write CUDA code directly.\n",
    "* this notebook will walk you through much of what you need to do to train models using pytorch. if you want to learn more or need further clarification on topics that aren't fully explained here, here are 2 good Pytorch tutorials. 1): http://pytorch.org/tutorials/beginner/deep_learning_60min_blitz.html 2)http://pytorch.org/tutorials/beginner/pytorch_with_examples.html\n",
    "* It's not necessary to have a GPU for this homework, using a GPU can make your code run faster.\n"
   ]
  },
  {
   "cell_type": "markdown",
   "metadata": {},
   "source": [
    "## Load Datasets\n",
    "\n",
    "In this part, we will load the action recognition dataset for the neural network. In order to load data from our custom dataset, we need to write a custom Dataloader. If you put hw6_data.mat, /valClips,/trainClips,/testClips under the folder of ./data/ , you do not need to change anything in this part."
   ]
  },
  {
   "cell_type": "markdown",
   "metadata": {},
   "source": [
    "First, load the labels of the dataset, you should write your path of the hw6_data.mat file."
   ]
  },
  {
   "cell_type": "code",
   "execution_count": 3,
   "metadata": {},
   "outputs": [
    {
     "name": "stdout",
     "output_type": "stream",
     "text": [
      "7770\n",
      "2230\n"
     ]
    }
   ],
   "source": [
    "label_mat=scipy.io.loadmat('./data/hw6_data.mat')\n",
    "label_train=label_mat['trLb']\n",
    "print(len(label_train))\n",
    "label_val=label_mat['valLb']\n",
    "print(len(label_val))"
   ]
  },
  {
   "cell_type": "code",
   "execution_count": null,
   "metadata": {
    "collapsed": true
   },
   "outputs": [],
   "source": [
    "# print(label_mat.keys())\n",
    "# labels it is from 0 to 10 categories"
   ]
  },
  {
   "cell_type": "code",
   "execution_count": null,
   "metadata": {
    "collapsed": true
   },
   "outputs": [],
   "source": [
    "# label_mat contains only labels "
   ]
  },
  {
   "cell_type": "code",
   "execution_count": 4,
   "metadata": {},
   "outputs": [
    {
     "name": "stdout",
     "output_type": "stream",
     "text": [
      "Requirement already satisfied: pandas in ./.env/lib/python3.6/site-packages (0.23.4)\r\n",
      "Requirement already satisfied: python-dateutil>=2.5.0 in ./.env/lib/python3.6/site-packages (from pandas) (2.7.5)\r\n",
      "Requirement already satisfied: numpy>=1.9.0 in ./.env/lib/python3.6/site-packages (from pandas) (1.12.1)\r\n",
      "Requirement already satisfied: pytz>=2011k in ./.env/lib/python3.6/site-packages (from pandas) (2015.7)\r\n",
      "Requirement already satisfied: six>=1.5 in ./.env/lib/python3.6/site-packages (from python-dateutil>=2.5.0->pandas) (1.10.0)\r\n"
     ]
    },
    {
     "data": {
      "text/plain": [
       "array([  1.,   2.,   3.,   4.,   5.,   6.,   7.,   8.,   9.,  10.], dtype=float32)"
      ]
     },
     "execution_count": 4,
     "metadata": {},
     "output_type": "execute_result"
    }
   ],
   "source": [
    "!pip install pandas\n",
    "import pandas as pd\n",
    "np.unique(label_val)"
   ]
  },
  {
   "cell_type": "markdown",
   "metadata": {},
   "source": [
    "### Dataset class\n",
    "\n",
    "torch.utils.data.Dataset is an abstract class representing a dataset. The custom dataset should inherit Dataset and override the following methods:\n",
    "\n",
    "    __len__ so that len(dataset) returns the size of the dataset.\n",
    "    __getitem__ to support the indexing such that dataset[i] can be used to get ith sample\n",
    "\n",
    "Let’s create a dataset class for our action recognition dataset. We will read images in __getitem__. This is memory efficient because all the images are not stored in the memory at once but read as required.\n",
    "\n",
    "Sample of our dataset will be a dict {'image':image,'img_path':img_path,'Label':Label}. Our datset will take an optional argument transform so that any required processing can be applied on the sample. "
   ]
  },
  {
   "cell_type": "code",
   "execution_count": 5,
   "metadata": {
    "collapsed": true
   },
   "outputs": [],
   "source": [
    "class ActionDataset(Dataset):\n",
    "    \"\"\"Action dataset.\"\"\"\n",
    "\n",
    "    def __init__(self,  root_dir,labels=[], transform=None):\n",
    "        \"\"\"\n",
    "        Args:\n",
    "            root_dir (string): Directory with all the images.\n",
    "            labels(list): labels if images.\n",
    "            transform (callable, optional): Optional transform to be applied on a sample.\n",
    "        \"\"\"\n",
    "        self.root_dir = root_dir\n",
    "        self.transform = transform\n",
    "        self.length=len(os.listdir(self.root_dir))\n",
    "        self.labels=labels\n",
    "    def __len__(self):\n",
    "        return self.length*3\n",
    "\n",
    "    def __getitem__(self, idx):\n",
    "        folder=int(idx/3)+1\n",
    "        imidx=idx%3+1\n",
    "        folder=format(folder,'05d')\n",
    "        imgname=str(imidx)+'.jpg'\n",
    "        img_path = os.path.join(self.root_dir,\n",
    "                                folder,imgname)\n",
    "        image = Image.open(img_path)\n",
    "        if len(self.labels)!=0:\n",
    "            Label=self.labels[int(idx/3)][0]-1\n",
    "        if self.transform:\n",
    "            image = self.transform(image)\n",
    "        if len(self.labels)!=0:\n",
    "            sample={'image':image,'img_path':img_path,'Label':Label}\n",
    "        else:\n",
    "            sample={'image':image,'img_path':img_path}\n",
    "        return sample\n",
    "  "
   ]
  },
  {
   "cell_type": "markdown",
   "metadata": {},
   "source": [
    "Iterating over the dataset by a for loop."
   ]
  },
  {
   "cell_type": "code",
   "execution_count": 6,
   "metadata": {},
   "outputs": [
    {
     "name": "stdout",
     "output_type": "stream",
     "text": [
      "torch.Size([3, 64, 64])\n",
      "0.0\n",
      "./data/trainClips/00001/1.jpg\n",
      "torch.Size([3, 64, 64])\n",
      "0.0\n",
      "./data/trainClips/00001/2.jpg\n",
      "torch.Size([3, 64, 64])\n",
      "0.0\n",
      "./data/trainClips/00001/3.jpg\n",
      "torch.Size([3, 64, 64])\n",
      "0.0\n",
      "./data/trainClips/00002/1.jpg\n",
      "torch.Size([3, 64, 64])\n",
      "0.0\n",
      "./data/trainClips/00002/2.jpg\n",
      "torch.Size([3, 64, 64])\n",
      "0.0\n",
      "./data/trainClips/00002/3.jpg\n",
      "torch.Size([3, 64, 64])\n",
      "0.0\n",
      "./data/trainClips/00003/1.jpg\n",
      "torch.Size([3, 64, 64])\n",
      "0.0\n",
      "./data/trainClips/00003/2.jpg\n",
      "torch.Size([3, 64, 64])\n",
      "0.0\n",
      "./data/trainClips/00003/3.jpg\n",
      "torch.Size([3, 64, 64])\n",
      "0.0\n",
      "./data/trainClips/00004/1.jpg\n"
     ]
    }
   ],
   "source": [
    "image_dataset=ActionDataset(root_dir='./data/trainClips/',\\\n",
    "                            labels=label_train,transform=T.ToTensor())\n",
    "\n",
    "#iterating though the dataset\n",
    "for i in range(10):\n",
    "    sample=image_dataset[i]\n",
    "    print(sample['image'].shape)\n",
    "    print(sample['Label'])\n",
    "    print(sample['img_path'])\n",
    "     \n",
    "   "
   ]
  },
  {
   "cell_type": "markdown",
   "metadata": {},
   "source": [
    "We can iterate over the created dataset with a 'for' loop as before. However, we are losing a lot of features by using a simple for loop to iterate over the data. In particular, we are missing out on:\n",
    "\n",
    "* Batching the data\n",
    "* Shuffling the data\n",
    "* Load the data in parallel using multiprocessing workers.\n",
    "\n",
    "torch.utils.data.DataLoader is an iterator which provides all these features. "
   ]
  },
  {
   "cell_type": "code",
   "execution_count": 7,
   "metadata": {},
   "outputs": [
    {
     "name": "stdout",
     "output_type": "stream",
     "text": [
      "0 torch.Size([4, 3, 64, 64]) ['./data/trainClips/01984/1.jpg', './data/trainClips/03954/3.jpg', './data/trainClips/02063/3.jpg', './data/trainClips/06201/3.jpg'] tensor([2., 4., 2., 7.], dtype=torch.float64)\n",
      "1 torch.Size([4, 3, 64, 64]) ['./data/trainClips/00962/1.jpg', './data/trainClips/03399/2.jpg', './data/trainClips/07682/2.jpg', './data/trainClips/02981/1.jpg'] tensor([1., 3., 9., 3.], dtype=torch.float64)\n",
      "2 torch.Size([4, 3, 64, 64]) ['./data/trainClips/04184/3.jpg', './data/trainClips/00396/3.jpg', './data/trainClips/05571/2.jpg', './data/trainClips/01802/2.jpg'] tensor([5., 0., 6., 1.], dtype=torch.float64)\n",
      "3 torch.Size([4, 3, 64, 64]) ['./data/trainClips/04393/1.jpg', './data/trainClips/03895/2.jpg', './data/trainClips/06360/2.jpg', './data/trainClips/04863/3.jpg'] tensor([5., 4., 7., 5.], dtype=torch.float64)\n",
      "4 torch.Size([4, 3, 64, 64]) ['./data/trainClips/02305/2.jpg', './data/trainClips/06525/2.jpg', './data/trainClips/01523/3.jpg', './data/trainClips/06621/2.jpg'] tensor([2., 8., 1., 8.], dtype=torch.float64)\n",
      "5 torch.Size([4, 3, 64, 64]) ['./data/trainClips/05989/3.jpg', './data/trainClips/06455/3.jpg', './data/trainClips/00181/2.jpg', './data/trainClips/01572/3.jpg'] tensor([7., 7., 0., 1.], dtype=torch.float64)\n",
      "6 torch.Size([4, 3, 64, 64]) ['./data/trainClips/06636/2.jpg', './data/trainClips/03522/2.jpg', './data/trainClips/03685/2.jpg', './data/trainClips/06988/1.jpg'] tensor([8., 4., 4., 8.], dtype=torch.float64)\n",
      "7 torch.Size([4, 3, 64, 64]) ['./data/trainClips/02710/3.jpg', './data/trainClips/04460/1.jpg', './data/trainClips/06178/1.jpg', './data/trainClips/03538/1.jpg'] tensor([3., 5., 7., 4.], dtype=torch.float64)\n",
      "8 torch.Size([4, 3, 64, 64]) ['./data/trainClips/01138/3.jpg', './data/trainClips/01291/3.jpg', './data/trainClips/06241/1.jpg', './data/trainClips/07387/3.jpg'] tensor([1., 1., 7., 9.], dtype=torch.float64)\n",
      "9 torch.Size([4, 3, 64, 64]) ['./data/trainClips/02033/2.jpg', './data/trainClips/04422/3.jpg', './data/trainClips/00040/1.jpg', './data/trainClips/00282/3.jpg'] tensor([2., 5., 0., 0.], dtype=torch.float64)\n",
      "10 torch.Size([4, 3, 64, 64]) ['./data/trainClips/01099/2.jpg', './data/trainClips/01559/1.jpg', './data/trainClips/01010/2.jpg', './data/trainClips/03590/3.jpg'] tensor([1., 1., 1., 4.], dtype=torch.float64)\n",
      "11 torch.Size([4, 3, 64, 64]) ['./data/trainClips/06618/3.jpg', './data/trainClips/00940/1.jpg', './data/trainClips/07382/3.jpg', './data/trainClips/05929/3.jpg'] tensor([8., 1., 9., 7.], dtype=torch.float64)\n",
      "12 torch.Size([4, 3, 64, 64]) ['./data/trainClips/07740/2.jpg', './data/trainClips/00773/1.jpg', './data/trainClips/02484/2.jpg', './data/trainClips/03692/1.jpg'] tensor([9., 0., 2., 4.], dtype=torch.float64)\n",
      "13 torch.Size([4, 3, 64, 64]) ['./data/trainClips/04651/2.jpg', './data/trainClips/01679/1.jpg', './data/trainClips/00199/1.jpg', './data/trainClips/04036/2.jpg'] tensor([5., 1., 0., 4.], dtype=torch.float64)\n",
      "14 torch.Size([4, 3, 64, 64]) ['./data/trainClips/02550/3.jpg', './data/trainClips/04297/1.jpg', './data/trainClips/03492/3.jpg', './data/trainClips/06591/1.jpg'] tensor([2., 5., 3., 8.], dtype=torch.float64)\n",
      "15 torch.Size([4, 3, 64, 64]) ['./data/trainClips/01573/2.jpg', './data/trainClips/01564/1.jpg', './data/trainClips/00279/3.jpg', './data/trainClips/04426/1.jpg'] tensor([1., 1., 0., 5.], dtype=torch.float64)\n",
      "16 torch.Size([4, 3, 64, 64]) ['./data/trainClips/04313/1.jpg', './data/trainClips/02508/1.jpg', './data/trainClips/04889/3.jpg', './data/trainClips/06085/1.jpg'] tensor([5., 2., 5., 7.], dtype=torch.float64)\n",
      "17 torch.Size([4, 3, 64, 64]) ['./data/trainClips/04633/2.jpg', './data/trainClips/01642/3.jpg', './data/trainClips/04791/2.jpg', './data/trainClips/07233/3.jpg'] tensor([5., 1., 5., 9.], dtype=torch.float64)\n",
      "18 torch.Size([4, 3, 64, 64]) ['./data/trainClips/05339/2.jpg', './data/trainClips/05845/1.jpg', './data/trainClips/01347/1.jpg', './data/trainClips/01609/3.jpg'] tensor([6., 7., 1., 1.], dtype=torch.float64)\n",
      "19 torch.Size([4, 3, 64, 64]) ['./data/trainClips/06949/2.jpg', './data/trainClips/01789/1.jpg', './data/trainClips/06517/2.jpg', './data/trainClips/01144/2.jpg'] tensor([8., 1., 8., 1.], dtype=torch.float64)\n",
      "20 torch.Size([4, 3, 64, 64]) ['./data/trainClips/02573/2.jpg', './data/trainClips/06970/2.jpg', './data/trainClips/04506/2.jpg', './data/trainClips/00665/1.jpg'] tensor([2., 8., 5., 0.], dtype=torch.float64)\n",
      "21 torch.Size([4, 3, 64, 64]) ['./data/trainClips/04314/2.jpg', './data/trainClips/04878/2.jpg', './data/trainClips/05828/3.jpg', './data/trainClips/02572/2.jpg'] tensor([5., 5., 7., 2.], dtype=torch.float64)\n"
     ]
    }
   ],
   "source": [
    "image_dataloader = DataLoader(image_dataset, batch_size=4,\n",
    "                        shuffle=True, num_workers=4)\n",
    "\n",
    "for i,sample in enumerate(image_dataloader):\n",
    "    sample['image']=sample['image']\n",
    "    print(i,sample['image'].shape,sample['img_path'],sample['Label'])\n",
    "    if i>20: \n",
    "        break"
   ]
  },
  {
   "cell_type": "markdown",
   "metadata": {},
   "source": [
    "Dataloaders for the training, validationg and testing set. "
   ]
  },
  {
   "cell_type": "code",
   "execution_count": 8,
   "metadata": {
    "collapsed": true
   },
   "outputs": [],
   "source": [
    "image_dataset_train=ActionDataset(root_dir='./data/trainClips/',labels=label_train,transform=T.ToTensor())\n",
    "\n",
    "image_dataloader_train = DataLoader(image_dataset_train, batch_size=32,\n",
    "                        shuffle=True, num_workers=4)\n",
    "image_dataset_val=ActionDataset(root_dir='./data/valClips/',labels=label_val,transform=T.ToTensor())\n",
    "\n",
    "image_dataloader_val = DataLoader(image_dataset_val, batch_size=32,\n",
    "                        shuffle=False, num_workers=4)\n",
    "image_dataset_test=ActionDataset(root_dir='./data/testClips/',labels=[],transform=T.ToTensor())\n",
    "\n",
    "image_dataloader_test = DataLoader(image_dataset_test, batch_size=32,\n",
    "                        shuffle=False, num_workers=4)"
   ]
  },
  {
   "cell_type": "code",
   "execution_count": 9,
   "metadata": {
    "collapsed": true
   },
   "outputs": [],
   "source": [
    "dtype = torch.FloatTensor # the CPU datatype\n",
    "# Constant to control how frequently we print train loss\n",
    "print_every = 100\n",
    "# This is a little utility that we'll use to reset the model\n",
    "# if we want to re-initialize all our parameters\n",
    "def reset(m):\n",
    "    if hasattr(m, 'reset_parameters'):\n",
    "        m.reset_parameters()"
   ]
  },
  {
   "cell_type": "markdown",
   "metadata": {},
   "source": [
    "## Example Model\n",
    "\n",
    "### Some assorted tidbits\n",
    "\n",
    "Let's start by looking at a simple model. First, note that PyTorch operates on Tensors, which are n-dimensional arrays functionally analogous to numpy's ndarrays, with the additional feature that they can be used for computations on GPUs.\n",
    "\n",
    "We'll provide you with a Flatten function, which we explain here. Remember that our image data (and more relevantly, our intermediate feature maps) are initially N x C x H x W, where:\n",
    "* N is the number of datapoints\n",
    "* C is the number of image channels. \n",
    "* H is the height of the intermediate feature map in pixels\n",
    "* W is the height of the intermediate feature map in pixels\n",
    "\n",
    "This is the right way to represent the data when we are doing something like a 2D convolution, that needs spatial understanding of where the intermediate features are relative to each other. When we input  data into fully connected affine layers, however, we want each datapoint to be represented by a single vector -- it's no longer useful to segregate the different channels, rows, and columns of the data. So, we use a \"Flatten\" operation to collapse the C x H x W values per representation into a single long vector. The Flatten function below first reads in the N, C, H, and W values from a given batch of data, and then returns a \"view\" of that data. \"View\" is analogous to numpy's \"reshape\" method: it reshapes x's dimensions to be N x ??, where ?? is allowed to be anything (in this case, it will be C x H x W, but we don't need to specify that explicitly). "
   ]
  },
  {
   "cell_type": "code",
   "execution_count": 10,
   "metadata": {
    "collapsed": true
   },
   "outputs": [],
   "source": [
    "class Flatten(nn.Module):\n",
    "    def forward(self, x):\n",
    "        N, C, H, W = x.size() # read in N, C, H, W\n",
    "        return x.view(N, -1)  # \"flatten\" the C * H * W values into a single vector per image"
   ]
  },
  {
   "cell_type": "markdown",
   "metadata": {},
   "source": [
    "### The example model itself\n",
    "\n",
    "The first step to training your own model is defining its architecture.\n",
    "\n",
    "Here's an example of a convolutional neural network defined in PyTorch -- try to understand what each line is doing, remembering that each layer is composed upon the previous layer. We haven't trained anything yet - that'll come next - for now, we want you to understand how everything gets set up.  nn.Sequential is a container which applies each layer\n",
    "one after the other.\n",
    "\n",
    "In this example, you see 2D convolutional layers (Conv2d), ReLU activations, and fully-connected layers (Linear). You also see the Cross-Entropy loss function, and the Adam optimizer being used. \n",
    "\n",
    "Make sure you understand why the parameters of the Linear layer are 10092 and 10.\n"
   ]
  },
  {
   "cell_type": "code",
   "execution_count": 10,
   "metadata": {
    "collapsed": true
   },
   "outputs": [],
   "source": [
    "# Here's where we define the architecture of the model... \n",
    "simple_model = nn.Sequential(\n",
    "                nn.Conv2d(3, 32, kernel_size=7, stride=2),\n",
    "#     N*C*H*W=====> (N=1 if you are sending only one image but here N=32 batch) *3*64*64 \n",
    "#     64 is the input size, 64 is the input size ----- (n+2p-f)/s + 1-----(64-7)/2 + 1--- 32*32*29*29\n",
    "#     torch.nn.Conv2d(in_channels, out_channels, kernel_size, stride=1,\n",
    "#     32*(64-7/2 + 1)*(64-7/2 + 1)-----32*29*29----26912 instead of 10092 should be the output.\n",
    "                nn.ReLU(inplace=True),\n",
    "                Flatten(), # see above for explanation\n",
    "                nn.Linear(26912, 10), # affine layer\n",
    "              )\n",
    "\n",
    "# torch.randn(*sizes, out=None, dtype=None, layout=torch.strided, device=None, requires_grad=False)\n",
    "# Set the type of all data in this model to be FloatTensor \n",
    "simple_model.type(dtype)\n",
    "\n",
    "loss_fn = nn.CrossEntropyLoss().type(dtype)\n",
    "optimizer = optim.Adam(simple_model.parameters(), lr=1e-2) # lr sets the learning rate of the optimizer"
   ]
  },
  {
   "cell_type": "markdown",
   "metadata": {},
   "source": [
    "PyTorch supports many other layer types, loss functions, and optimizers - you will experiment with these next. Here's the official API documentation for these (if any of the parameters used above were unclear, this resource will also be helpful). \n",
    "\n",
    "* Layers: http://pytorch.org/docs/nn.html\n",
    "* Activations: http://pytorch.org/docs/nn.html#non-linear-activations\n",
    "* Loss functions: http://pytorch.org/docs/nn.html#loss-functions\n",
    "* Optimizers: http://pytorch.org/docs/optim.html#algorithms"
   ]
  },
  {
   "cell_type": "markdown",
   "metadata": {},
   "source": [
    "## Training a specific model\n",
    "\n",
    "In this section, we're going to specify a model for you to construct. The goal here isn't to get good performance (that'll be next), but instead to get comfortable with understanding the PyTorch documentation and configuring your own model. \n",
    "\n",
    "Using the code provided above as guidance, and using the following PyTorch documentation, specify a model with the following architecture:\n",
    "\n",
    "* 7x7 Convolutional Layer with 8 filters and stride of 1\n",
    "* ReLU Activation Layer\n",
    "* 2x2 Max Pooling layer with a stride of 2\n",
    "* 7x7 Convolutional Layer with 16 filters and stride of 1\n",
    "* ReLU Activation Layer\n",
    "* 2x2 Max Pooling layer with a stride of 2\n",
    "* Flatten the feature map\n",
    "* ReLU Activation Layer\n",
    "* Affine layer to map input units to 10 outputs, you need to figure out the input size here.\n"
   ]
  },
  {
   "cell_type": "code",
   "execution_count": 11,
   "metadata": {
    "collapsed": true
   },
   "outputs": [],
   "source": [
    "fixed_model_base = nn.Sequential( \n",
    "    #########1st TODO  (10 points)###################\n",
    "#     torch.nn.Conv2d(in_channels, out_channels, kernel_size, stride=1,\n",
    "#     32 is the mini batch size,3,64,64 is my input size\n",
    "#     8*((64-7)/1 +1)*((64-7)/1 + 1)------8*58*58\n",
    "            nn.Conv2d(3, 8, kernel_size = 7, stride = 1),\n",
    "            nn.ReLU(inplace = True),\n",
    "            nn.MaxPool2d(2, stride = 2),\n",
    "#floor[(W1-f)/s +1] is the size for this.\n",
    "# 8*(29)*29\n",
    "#     It is reducing the size of the 8*29*29\n",
    "    #Original size is divided by 4 as the size of the kernel is 4 and the stride horizontal and bottom is 2, so it is leaving\n",
    "            nn.Conv2d(8, 16, kernel_size = 7, stride = 1),\n",
    "#16* (29-7 + 1) *(29-7 + 1)-----16*23*23  \n",
    "            nn.ReLU(inplace = True),\n",
    "            nn.MaxPool2d(2, stride = 2),\n",
    "#16*11*11\n",
    "            Flatten(),\n",
    "#1936 is the size of each example after flattening\n",
    "            nn.ReLU(inplace = True),\n",
    "#class torch.nn.Linear(in_features, out_features, bias=True)[source]\n",
    "# Applies a linear transformation to the incoming data: y=xAT+b\n",
    "# Input: (N,∗,in_features)\n",
    "# Output: (N,∗,out_features)\n",
    "#  where all but the last dimension are the same shape as the input.\n",
    "# 32*10 is the final output.\n",
    "            nn.Linear(1936, 10)\n",
    "    ####################################\n",
    "            )\n",
    "fixed_model = fixed_model_base.type(dtype)\n",
    "\n"
   ]
  },
  {
   "cell_type": "markdown",
   "metadata": {},
   "source": [
    "To make sure you're doing the right thing, use the following tool to check the dimensionality of your output (it should be 32 x 10, since our batches have size 32 and the output of the final affine layer should be 10, corresponding to our 10 classes):"
   ]
  },
  {
   "cell_type": "code",
   "execution_count": 12,
   "metadata": {},
   "outputs": [
    {
     "name": "stdout",
     "output_type": "stream",
     "text": [
      "[32 10]\n"
     ]
    },
    {
     "data": {
      "text/plain": [
       "True"
      ]
     },
     "execution_count": 12,
     "metadata": {},
     "output_type": "execute_result"
    }
   ],
   "source": [
    "## Now we're going to feed a random batch into the model you defined and make sure the output is the right size\n",
    "x = torch.randn(32, 3, 64, 64).type(dtype)\n",
    "\n",
    "x_var = Variable(x.type(dtype)) # Construct a PyTorch Variable out of your input data\n",
    "ans = fixed_model(x_var)        # Feed it through the model! \n",
    "\n",
    "# Check to make sure what comes out of your model\n",
    "# is the right dimensionality... this should be True\n",
    "# if you've done everything correctly\n",
    "print(np.array(ans.size()))\n",
    "np.array_equal(np.array(ans.size()), np.array([32, 10]))   \n"
   ]
  },
  {
   "cell_type": "markdown",
   "metadata": {},
   "source": [
    "### Train the model.\n",
    "\n",
    "Now that you've seen how to define a model and do a single forward pass of some data through it, let's  walk through how you'd actually train one whole epoch over your training data (using the fixed_model_base we provided above).\n",
    "\n",
    "Make sure you understand how each PyTorch function used below corresponds to what you implemented in your custom neural network implementation.\n",
    "\n",
    "Note that because we are not resetting the weights anywhere below, if you run the cell multiple times, you are effectively training multiple epochs (so your performance should improve).\n",
    "\n",
    "First, set up an RMSprop optimizer (using a 1e-4 learning rate) and a cross-entropy loss function:"
   ]
  },
  {
   "cell_type": "code",
   "execution_count": 13,
   "metadata": {
    "collapsed": true
   },
   "outputs": [],
   "source": [
    "################ 2nd TODO  (5 points)##################\n",
    "optimizer=optim.RMSprop(fixed_model.parameters(), lr=1e-4)\n",
    "loss_fn=nn.CrossEntropyLoss().type(dtype)"
   ]
  },
  {
   "cell_type": "code",
   "execution_count": 14,
   "metadata": {},
   "outputs": [
    {
     "data": {
      "text/plain": [
       "torch.utils.data.dataloader.DataLoader"
      ]
     },
     "execution_count": 14,
     "metadata": {},
     "output_type": "execute_result"
    }
   ],
   "source": [
    "type(image_dataloader_train)   "
   ]
  },
  {
   "cell_type": "code",
   "execution_count": 15,
   "metadata": {},
   "outputs": [
    {
     "name": "stdout",
     "output_type": "stream",
     "text": [
      "t = 100, loss = 1.7742\n",
      "t = 200, loss = 1.5764\n",
      "t = 300, loss = 1.1748\n",
      "t = 400, loss = 1.5502\n",
      "t = 500, loss = 1.3348\n",
      "t = 600, loss = 1.1555\n",
      "t = 700, loss = 1.1982\n"
     ]
    },
    {
     "name": "stderr",
     "output_type": "stream",
     "text": [
      "/Users/sriramreddy/Downloads/ML/hw6_data/.env/lib/python3.6/site-packages/ipykernel/__main__.py:19: UserWarning: invalid index of a 0-dim tensor. This will be an error in PyTorch 0.5. Use tensor.item() to convert a 0-dim tensor to a Python number\n"
     ]
    }
   ],
   "source": [
    "# This sets the model in \"training\" mode. \n",
    "# This is relevant for some layers that may have different behavior\n",
    "# in training mode vs testing mode, such as Dropout and BatchNorm. \n",
    "fixed_model.train()\n",
    "\n",
    "# Load one batch at a time.\n",
    "for t, sample in enumerate(image_dataloader_train):\n",
    "    x_var = Variable(sample['image'])\n",
    "    #print(type(x_var.data))\n",
    "    #print(x_var.shape)\n",
    "    y_var = Variable(sample['Label']).long()\n",
    "    # This is the forward pass: predict the scores for each class, for each x in the batch.\n",
    "    scores = fixed_model(x_var)\n",
    "    \n",
    "    # Use the correct y values and the predicted y values to compute the loss.\n",
    "    loss = loss_fn(scores, y_var)\n",
    "    \n",
    "    if (t + 1) % print_every == 0:\n",
    "        print('t = %d, loss = %.4f' % (t + 1, loss.data[0]))\n",
    "\n",
    "    # Zero out all of the gradients for the variables which the optimizer will update.\n",
    "    optimizer.zero_grad()\n",
    "    \n",
    "    # This is the backwards pass: compute the gradient of the loss with respect to each \n",
    "    # parameter of the model.\n",
    "    loss.backward()\n",
    "    \n",
    "    # Actually update the parameters of the model using the gradients computed by the backwards pass.\n",
    "    optimizer.step()\n",
    "   "
   ]
  },
  {
   "cell_type": "markdown",
   "metadata": {},
   "source": [
    "Now you've seen how the training process works in PyTorch. To save you writing boilerplate code, we're providing the following helper functions to help you train for multiple epochs and check the accuracy of your model:"
   ]
  },
  {
   "cell_type": "code",
   "execution_count": 12,
   "metadata": {
    "collapsed": true
   },
   "outputs": [],
   "source": [
    "def train(model, loss_fn, optimizer, dataloader, num_epochs = 1):\n",
    "    for epoch in range(num_epochs):\n",
    "        print('Starting epoch %d / %d' % (epoch + 1, num_epochs))\n",
    "        model.train()\n",
    "        for t, sample in enumerate(dataloader):\n",
    "            x_var = Variable(sample['image'])\n",
    "            y_var = Variable(sample['Label'].long())\n",
    "            scores = model(x_var)\n",
    "            loss = loss_fn(scores, y_var)\n",
    "            if (t + 1) % print_every == 0:\n",
    "                print('t = %d, loss = %.4f' % (t + 1, loss.data[0]))\n",
    "            optimizer.zero_grad()\n",
    "            loss.backward()\n",
    "            optimizer.step()\n",
    "\n",
    "def check_accuracy(model, loader):\n",
    "    '''\n",
    "    if loader.dataset.train:\n",
    "        print('Checking accuracy on validation set')\n",
    "    else:\n",
    "        print('Checking accuracy on test set')  \n",
    "    '''\n",
    "    num_correct = 0\n",
    "    num_samples = 0\n",
    "    model.eval() # Put the model in test mode (the opposite of model.train(), essentially)\n",
    "    for t, sample in enumerate(loader):\n",
    "        x_var = Variable(sample['image'])\n",
    "        y_var = sample['Label']\n",
    "        #y_var=y_var.cpu()\n",
    "        scores = model(x_var)\n",
    "        _, preds = scores.data.max(1)#scores.data.cpu().max(1)\n",
    "        #print(preds)\n",
    "        #print(y_var)\n",
    "        num_correct += (preds.numpy() == y_var.numpy()).sum()\n",
    "        num_samples += preds.size(0)\n",
    "    acc = float(num_correct) / num_samples\n",
    "    print('Got %d / %d correct (%.2f)' % (num_correct, num_samples, 100 * acc))\n",
    "    "
   ]
  },
  {
   "cell_type": "markdown",
   "metadata": {},
   "source": [
    "### Check the accuracy of the model.\n",
    "\n",
    "Let's see the train and check_accuracy code in action -- feel free to use these methods when evaluating the models you develop below.\n",
    "\n",
    "You should get a training loss of around 1.0-1.2, and a validation accuracy of around 50-60%. As mentioned above, if you re-run the cells, you'll be training more epochs, so your performance will improve past these numbers.\n",
    "\n",
    "But don't worry about getting these numbers better -- this was just practice before you tackle designing your own model."
   ]
  },
  {
   "cell_type": "code",
   "execution_count": 17,
   "metadata": {},
   "outputs": [
    {
     "name": "stdout",
     "output_type": "stream",
     "text": [
      "Starting epoch 1 / 20\n",
      "t = 100, loss = 2.2909\n",
      "t = 200, loss = 2.2482\n",
      "t = 300, loss = 2.1093\n",
      "t = 400, loss = 1.8647\n",
      "t = 500, loss = 1.7454\n",
      "t = 600, loss = 1.5619\n",
      "t = 700, loss = 1.5676\n",
      "Starting epoch 2 / 20\n"
     ]
    },
    {
     "name": "stderr",
     "output_type": "stream",
     "text": [
      "/Users/sriramreddy/Downloads/ML/hw6_data/.env/lib/python3.6/site-packages/ipykernel/__main__.py:11: UserWarning: invalid index of a 0-dim tensor. This will be an error in PyTorch 0.5. Use tensor.item() to convert a 0-dim tensor to a Python number\n"
     ]
    },
    {
     "name": "stdout",
     "output_type": "stream",
     "text": [
      "t = 100, loss = 1.8257\n",
      "t = 200, loss = 1.4317\n",
      "t = 300, loss = 1.0852\n",
      "t = 400, loss = 1.0638\n",
      "t = 500, loss = 1.1948\n",
      "t = 600, loss = 1.0566\n",
      "t = 700, loss = 1.0145\n",
      "Starting epoch 3 / 20\n",
      "t = 100, loss = 0.9957\n",
      "t = 200, loss = 1.1713\n",
      "t = 300, loss = 0.6351\n",
      "t = 400, loss = 1.1693\n",
      "t = 500, loss = 0.9544\n",
      "t = 600, loss = 0.8443\n",
      "t = 700, loss = 0.6936\n",
      "Starting epoch 4 / 20\n",
      "t = 100, loss = 0.5383\n",
      "t = 200, loss = 0.4932\n",
      "t = 300, loss = 0.5882\n",
      "t = 400, loss = 0.8857\n",
      "t = 500, loss = 0.9050\n",
      "t = 600, loss = 0.6130\n",
      "t = 700, loss = 0.5943\n",
      "Starting epoch 5 / 20\n",
      "t = 100, loss = 0.7920\n",
      "t = 200, loss = 0.7090\n",
      "t = 300, loss = 0.5724\n",
      "t = 400, loss = 0.7165\n",
      "t = 500, loss = 0.3786\n",
      "t = 600, loss = 0.4419\n",
      "t = 700, loss = 0.4991\n",
      "Starting epoch 6 / 20\n",
      "t = 100, loss = 0.3843\n",
      "t = 200, loss = 0.6913\n",
      "t = 300, loss = 0.2980\n",
      "t = 400, loss = 0.3216\n",
      "t = 500, loss = 0.4289\n",
      "t = 600, loss = 0.3761\n",
      "t = 700, loss = 0.4739\n",
      "Starting epoch 7 / 20\n",
      "t = 100, loss = 0.4589\n",
      "t = 200, loss = 0.2663\n",
      "t = 300, loss = 0.4864\n",
      "t = 400, loss = 0.5990\n",
      "t = 500, loss = 0.3108\n",
      "t = 600, loss = 0.4026\n",
      "t = 700, loss = 0.3941\n",
      "Starting epoch 8 / 20\n",
      "t = 100, loss = 0.3465\n",
      "t = 200, loss = 0.6501\n",
      "t = 300, loss = 0.2567\n",
      "t = 400, loss = 0.2965\n",
      "t = 500, loss = 0.3390\n",
      "t = 600, loss = 0.7081\n",
      "t = 700, loss = 0.1672\n",
      "Starting epoch 9 / 20\n",
      "t = 100, loss = 0.1715\n",
      "t = 200, loss = 0.2350\n",
      "t = 300, loss = 0.1680\n",
      "t = 400, loss = 0.1290\n",
      "t = 500, loss = 0.2264\n",
      "t = 600, loss = 0.2187\n",
      "t = 700, loss = 0.1774\n",
      "Starting epoch 10 / 20\n",
      "t = 100, loss = 0.2518\n",
      "t = 200, loss = 0.1587\n",
      "t = 300, loss = 0.4859\n",
      "t = 400, loss = 0.1969\n",
      "t = 500, loss = 0.3140\n",
      "t = 600, loss = 0.3750\n",
      "t = 700, loss = 0.4449\n",
      "Starting epoch 11 / 20\n",
      "t = 100, loss = 0.2176\n",
      "t = 200, loss = 0.2276\n",
      "t = 300, loss = 0.3392\n",
      "t = 400, loss = 0.2628\n",
      "t = 500, loss = 0.1354\n",
      "t = 600, loss = 0.4673\n",
      "t = 700, loss = 0.3168\n",
      "Starting epoch 12 / 20\n",
      "t = 100, loss = 0.2193\n",
      "t = 200, loss = 0.1176\n",
      "t = 300, loss = 0.1374\n",
      "t = 400, loss = 0.1720\n",
      "t = 500, loss = 0.1924\n",
      "t = 600, loss = 0.2487\n",
      "t = 700, loss = 0.3864\n",
      "Starting epoch 13 / 20\n",
      "t = 100, loss = 0.3742\n",
      "t = 200, loss = 0.1617\n",
      "t = 300, loss = 0.0743\n",
      "t = 400, loss = 0.1898\n",
      "t = 500, loss = 0.0878\n",
      "t = 600, loss = 0.1497\n",
      "t = 700, loss = 0.1129\n",
      "Starting epoch 14 / 20\n",
      "t = 100, loss = 0.1223\n",
      "t = 200, loss = 0.4435\n",
      "t = 300, loss = 0.1362\n",
      "t = 400, loss = 0.2509\n",
      "t = 500, loss = 0.2231\n",
      "t = 600, loss = 0.1126\n",
      "t = 700, loss = 0.1877\n",
      "Starting epoch 15 / 20\n",
      "t = 100, loss = 0.1613\n",
      "t = 200, loss = 0.1934\n",
      "t = 300, loss = 0.1483\n",
      "t = 400, loss = 0.1871\n",
      "t = 500, loss = 0.1414\n",
      "t = 600, loss = 0.0694\n",
      "t = 700, loss = 0.2036\n",
      "Starting epoch 16 / 20\n",
      "t = 100, loss = 0.0466\n",
      "t = 200, loss = 0.0768\n",
      "t = 300, loss = 0.2383\n",
      "t = 400, loss = 0.1175\n",
      "t = 500, loss = 0.1544\n",
      "t = 600, loss = 0.2260\n",
      "t = 700, loss = 0.1219\n",
      "Starting epoch 17 / 20\n",
      "t = 100, loss = 0.0947\n",
      "t = 200, loss = 0.1064\n",
      "t = 300, loss = 0.0717\n",
      "t = 400, loss = 0.1418\n",
      "t = 500, loss = 0.0980\n",
      "t = 600, loss = 0.0749\n",
      "t = 700, loss = 0.0827\n",
      "Starting epoch 18 / 20\n",
      "t = 100, loss = 0.1875\n",
      "t = 200, loss = 0.1311\n",
      "t = 300, loss = 0.0526\n",
      "t = 400, loss = 0.0501\n",
      "t = 500, loss = 0.1496\n",
      "t = 600, loss = 0.1894\n",
      "t = 700, loss = 0.1876\n",
      "Starting epoch 19 / 20\n",
      "t = 100, loss = 0.2724\n",
      "t = 200, loss = 0.1179\n",
      "t = 300, loss = 0.2174\n",
      "t = 400, loss = 0.0746\n",
      "t = 500, loss = 0.1275\n",
      "t = 600, loss = 0.1485\n",
      "t = 700, loss = 0.0574\n",
      "Starting epoch 20 / 20\n",
      "t = 100, loss = 0.0405\n",
      "t = 200, loss = 0.1156\n",
      "t = 300, loss = 0.1433\n",
      "t = 400, loss = 0.0668\n",
      "t = 500, loss = 0.1054\n",
      "t = 600, loss = 0.0642\n",
      "t = 700, loss = 0.1732\n",
      "Got 22612 / 23310 correct (97.01)\n"
     ]
    }
   ],
   "source": [
    "torch.random.manual_seed(12345)\n",
    "fixed_model.cpu()\n",
    "fixed_model.apply(reset) \n",
    "fixed_model.train() \n",
    "train(fixed_model, loss_fn, optimizer,image_dataloader_train, num_epochs=20) \n",
    "check_accuracy(fixed_model, image_dataloader_train)# check accuracy on the training set\n"
   ]
  },
  {
   "cell_type": "markdown",
   "metadata": {},
   "source": [
    "### Don't forget the validation set!\n",
    "\n",
    "And note that you can use the check_accuracy function to evaluate on the validation set, by passing **image_dataloader_val** as the second argument to check_accuracy. The accuracy on validation set is arround 40-50%."
   ]
  },
  {
   "cell_type": "code",
   "execution_count": 18,
   "metadata": {},
   "outputs": [
    {
     "name": "stdout",
     "output_type": "stream",
     "text": [
      "Got 3691 / 6690 correct (55.17)\n"
     ]
    }
   ],
   "source": [
    "check_accuracy(fixed_model, image_dataloader_val)#check accuracy on the validation set"
   ]
  },
  {
   "cell_type": "code",
   "execution_count": 19,
   "metadata": {
    "collapsed": true
   },
   "outputs": [],
   "source": [
    "def Evalmodel(model, data, num_epochs_to_run = 10):\n",
    "    optimizer = optim.RMSprop(model.parameters(), lr=1e-4)\n",
    "    #optimizer = optim.Adam(model.parameters(), lr = 1e-4) \n",
    "    loss_fn = nn.CrossEntropyLoss().type(dtype)\n",
    "    train_Acc = train(model, loss_fn, optimizer,data, num_epochs=num_epochs_to_run) \n",
    "    return train_Acc"
   ]
  },
  {
   "cell_type": "code",
   "execution_count": null,
   "metadata": {
    "collapsed": true
   },
   "outputs": [],
   "source": [
    "fix_model_1 = nn.Sequential( \n",
    "            nn.Conv2d(3, 8, kernel_size = 6, stride = 1),\n",
    "#8*59*59\n",
    "            nn.BatchNorm2d(8),\n",
    "    \n",
    "            nn.ReLU(inplace = True),\n",
    "            nn.MaxPool2d(2, stride = 2),\n",
    "    #8*29*29\n",
    "            nn.Conv2d(8, 16, kernel_size = 4, stride = 1),\n",
    "    \n",
    "#     16*26*26\n",
    "            nn.BatchNorm2d(16),\n",
    "            nn.ReLU(inplace = True),\n",
    "            nn.MaxPool2d(2, stride = 2),\n",
    "#     16*13*13\n",
    "    \n",
    "            nn.Conv2d(16, 32, kernel_size = 3, stride = 1),\n",
    "    \n",
    "#     32*11*11\n",
    "            nn.BatchNorm2d(32),\n",
    "            nn.ReLU(inplace = True),\n",
    "            nn.MaxPool2d(2, stride = 2),\n",
    "    #32*5*5----800\n",
    "    \n",
    "#             nn.Conv2d(32, 32, kernel_size = 3, stride = 1),\n",
    "# #     32*3*3\n",
    "#             nn.BatchNorm2d(32),\n",
    "#             nn.ReLU(inplace = True),\n",
    "#             nn.MaxPool2d(2, stride = 2),\n",
    "# #     32*1*1\n",
    "    \n",
    "    \n",
    "            Flatten(),\n",
    "            nn.ReLU(inplace = True),\n",
    "            nn.Linear(800, 10)\n",
    "            )\n",
    "model_1 = fix_model_1.type(dtype)"
   ]
  },
  {
   "cell_type": "code",
   "execution_count": null,
   "metadata": {},
   "outputs": [],
   "source": [
    "model = model_1\n",
    "optimizer = optim.RMSprop(model.parameters(), lr=1e-4)\n",
    "loss_fn = nn.CrossEntropyLoss().type(dtype)\n",
    "\n",
    "train(model, loss_fn, optimizer,image_dataloader_train, num_epochs=8) \n",
    "check_accuracy(model, image_dataloader_val)"
   ]
  },
  {
   "cell_type": "code",
   "execution_count": null,
   "metadata": {
    "collapsed": true
   },
   "outputs": [],
   "source": [
    "fix_model_normed = nn.Sequential( \n",
    "            nn.Conv2d(3, 8, kernel_size = 6, stride = 1),\n",
    "#     8*59*59\n",
    "            nn.BatchNorm2d(8),    \n",
    "            nn.ReLU(inplace = True),\n",
    "            nn.MaxPool2d(2, stride = 2),\n",
    "    #8*29*29\n",
    "            nn.Conv2d(8, 16, kernel_size = 4, stride = 1),\n",
    "#     16*26*26\n",
    "            nn.BatchNorm2d(16),\n",
    "            nn.ReLU(inplace = True),\n",
    "            nn.MaxPool2d(2, stride = 2),\n",
    "#     16*13*13\n",
    "            nn.Conv2d(16, 32, kernel_size = 3, stride = 1),\n",
    "#     32*11*11\n",
    "            nn.BatchNorm2d(32),\n",
    "            nn.ReLU(inplace = True),\n",
    "            nn.MaxPool2d(2, stride = 2),\n",
    "    #32*5*5----800\n",
    "            nn.Conv2d(32, 32, kernel_size = 3, stride = 1),\n",
    "#     32*3*3\n",
    "            nn.BatchNorm2d(32),\n",
    "            nn.ReLU(inplace = True),\n",
    "#             nn.MaxPool2d(2, stride = 2),\n",
    "#     32*1*1\n",
    "            Flatten(),\n",
    "            nn.ReLU(inplace = True),\n",
    "            nn.Linear(288, 10)\n",
    "            )\n",
    "model_2 = fix_model_normed.type(dtype)\n",
    "model = model_2\n",
    "optimizer = optim.RMSprop(model.parameters(), lr=1e-4)\n",
    "loss_fn = nn.CrossEntropyLoss().type(dtype)\n",
    "\n",
    "train(model, loss_fn, optimizer,image_dataloader_train, num_epochs=8) \n",
    "check_accuracy(model, image_dataloader_val)"
   ]
  },
  {
   "cell_type": "code",
   "execution_count": 14,
   "metadata": {},
   "outputs": [
    {
     "name": "stdout",
     "output_type": "stream",
     "text": [
      "Starting epoch 1 / 8\n"
     ]
    },
    {
     "name": "stderr",
     "output_type": "stream",
     "text": [
      "/Users/sriramreddy/Downloads/ML/hw6_data/.env/lib/python3.6/site-packages/torch/nn/modules/container.py:91: UserWarning: Implicit dimension choice for log_softmax has been deprecated. Change the call to include dim=X as an argument.\n",
      "  input = module(input)\n",
      "/Users/sriramreddy/Downloads/ML/hw6_data/.env/lib/python3.6/site-packages/ipykernel/__main__.py:11: UserWarning: invalid index of a 0-dim tensor. This will be an error in PyTorch 0.5. Use tensor.item() to convert a 0-dim tensor to a Python number\n"
     ]
    },
    {
     "name": "stdout",
     "output_type": "stream",
     "text": [
      "t = 100, loss = 1.5696\n",
      "t = 200, loss = 1.3600\n",
      "t = 300, loss = 1.2169\n",
      "t = 400, loss = 0.7267\n",
      "t = 500, loss = 0.6851\n",
      "t = 600, loss = 1.0963\n",
      "t = 700, loss = 0.6028\n",
      "Starting epoch 2 / 8\n",
      "t = 100, loss = 0.4983\n",
      "t = 200, loss = 0.5397\n",
      "t = 300, loss = 0.2959\n",
      "t = 400, loss = 0.3556\n",
      "t = 500, loss = 0.7853\n",
      "t = 600, loss = 0.4164\n",
      "t = 700, loss = 0.3157\n",
      "Starting epoch 3 / 8\n",
      "t = 100, loss = 0.6906\n",
      "t = 200, loss = 0.2663\n",
      "t = 300, loss = 0.1697\n",
      "t = 400, loss = 0.2484\n",
      "t = 500, loss = 0.3311\n",
      "t = 600, loss = 0.3446\n",
      "t = 700, loss = 0.2819\n",
      "Starting epoch 4 / 8\n",
      "t = 100, loss = 0.2633\n",
      "t = 200, loss = 0.3199\n",
      "t = 300, loss = 0.0340\n",
      "t = 400, loss = 0.1479\n",
      "t = 500, loss = 0.3374\n",
      "t = 600, loss = 0.1348\n",
      "t = 700, loss = 0.1286\n",
      "Starting epoch 5 / 8\n",
      "t = 100, loss = 0.2852\n",
      "t = 200, loss = 0.0878\n",
      "t = 300, loss = 0.2888\n",
      "t = 400, loss = 0.2161\n",
      "t = 500, loss = 0.1021\n",
      "t = 600, loss = 0.1929\n",
      "t = 700, loss = 0.1308\n",
      "Starting epoch 6 / 8\n",
      "t = 100, loss = 0.1294\n",
      "t = 200, loss = 0.2911\n",
      "t = 300, loss = 0.1636\n",
      "t = 400, loss = 0.2181\n",
      "t = 500, loss = 0.0839\n",
      "t = 600, loss = 0.2066\n",
      "t = 700, loss = 0.0827\n",
      "Starting epoch 7 / 8\n",
      "t = 100, loss = 0.0928\n",
      "t = 200, loss = 0.1454\n",
      "t = 300, loss = 0.1116\n",
      "t = 400, loss = 0.4030\n",
      "t = 500, loss = 0.0299\n",
      "t = 600, loss = 0.0761\n",
      "t = 700, loss = 0.0891\n",
      "Starting epoch 8 / 8\n",
      "t = 100, loss = 0.1185\n",
      "t = 200, loss = 0.0820\n",
      "t = 300, loss = 0.1199\n",
      "t = 400, loss = 0.2514\n",
      "t = 500, loss = 0.0918\n",
      "t = 600, loss = 0.0408\n",
      "t = 700, loss = 0.0740\n",
      "Got 4474 / 6690 correct (66.88)\n"
     ]
    }
   ],
   "source": [
    "#Model 3\n",
    "fix_model_normed = nn.Sequential(     \n",
    "    nn.Conv2d(3, 32, kernel_size=5, stride=1),\n",
    "#     32*60*60\n",
    "                nn.ReLU(inplace=True),\n",
    "                nn.MaxPool2d(2, stride = 2),\n",
    "    #32*30*30\n",
    "    \n",
    "                nn.BatchNorm2d(32),\n",
    "                nn.Dropout2d(0.1),\n",
    "                nn.Conv2d(32, 24, kernel_size=5, stride=1),\n",
    "    #24*26*26\n",
    "                nn.ReLU(inplace=True),\n",
    "                nn.MaxPool2d(2, stride = 2),\n",
    "                nn.BatchNorm2d(24),\n",
    "    #24*13*13\n",
    "                nn.Dropout2d(0.2),\n",
    "                nn.Conv2d(24, 20, kernel_size=4, stride=1),\n",
    "#     20*10*10\n",
    "                nn.ReLU(inplace=True),\n",
    "                nn.MaxPool2d(2, stride=2),\n",
    "    #20*5*5\n",
    "                nn.BatchNorm2d(20),\n",
    "                Flatten(),\n",
    "                nn.Linear(500, 100),\n",
    "                nn.Linear(100, 50),\n",
    "                nn.Linear(50, 10),\n",
    "                nn.LogSoftmax()\n",
    "    )\n",
    "\n",
    "# Whether the \n",
    "model_3 = fix_model_normed.type(dtype)\n",
    "model = model_3\n",
    "optimizer = optim.RMSprop(model.parameters(), lr=1e-4)\n",
    "loss_fn = nn.CrossEntropyLoss().type(dtype)\n",
    "train(model, loss_fn, optimizer,image_dataloader_train, num_epochs=8) \n",
    "check_accuracy(model, image_dataloader_val)"
   ]
  },
  {
   "cell_type": "code",
   "execution_count": 16,
   "metadata": {},
   "outputs": [
    {
     "name": "stdout",
     "output_type": "stream",
     "text": [
      "Starting epoch 1 / 8\n"
     ]
    },
    {
     "name": "stderr",
     "output_type": "stream",
     "text": [
      "/Users/sriramreddy/Downloads/ML/hw6_data/.env/lib/python3.6/site-packages/torch/nn/modules/container.py:91: UserWarning: Implicit dimension choice for log_softmax has been deprecated. Change the call to include dim=X as an argument.\n",
      "  input = module(input)\n",
      "/Users/sriramreddy/Downloads/ML/hw6_data/.env/lib/python3.6/site-packages/ipykernel/__main__.py:11: UserWarning: invalid index of a 0-dim tensor. This will be an error in PyTorch 0.5. Use tensor.item() to convert a 0-dim tensor to a Python number\n"
     ]
    },
    {
     "name": "stdout",
     "output_type": "stream",
     "text": [
      "t = 100, loss = 1.2613\n",
      "t = 200, loss = 0.6819\n",
      "t = 300, loss = 0.4639\n",
      "t = 400, loss = 0.5367\n",
      "t = 500, loss = 0.5016\n",
      "t = 600, loss = 0.2766\n",
      "t = 700, loss = 0.2215\n",
      "Starting epoch 2 / 8\n",
      "t = 100, loss = 0.2786\n",
      "t = 200, loss = 0.0966\n",
      "t = 300, loss = 0.2408\n",
      "t = 400, loss = 0.1344\n",
      "t = 500, loss = 0.2224\n",
      "t = 600, loss = 0.0710\n",
      "t = 700, loss = 0.1581\n",
      "Starting epoch 3 / 8\n",
      "t = 100, loss = 0.0470\n",
      "t = 200, loss = 0.3320\n",
      "t = 300, loss = 0.0795\n",
      "t = 400, loss = 0.0880\n",
      "t = 500, loss = 0.1454\n",
      "t = 600, loss = 0.0427\n",
      "t = 700, loss = 0.1762\n",
      "Starting epoch 4 / 8\n",
      "t = 100, loss = 0.1313\n",
      "t = 200, loss = 0.0656\n",
      "t = 300, loss = 0.0636\n",
      "t = 400, loss = 0.1260\n",
      "t = 500, loss = 0.1332\n",
      "t = 600, loss = 0.1102\n",
      "t = 700, loss = 0.1367\n",
      "Starting epoch 5 / 8\n",
      "t = 100, loss = 0.0400\n",
      "t = 200, loss = 0.1231\n",
      "t = 300, loss = 0.1657\n",
      "t = 400, loss = 0.1659\n",
      "t = 500, loss = 0.0333\n",
      "t = 600, loss = 0.0214\n",
      "t = 700, loss = 0.1139\n",
      "Starting epoch 6 / 8\n",
      "t = 100, loss = 0.2570\n",
      "t = 200, loss = 0.0290\n",
      "t = 300, loss = 0.1436\n",
      "t = 400, loss = 0.0907\n",
      "t = 500, loss = 0.0234\n",
      "t = 600, loss = 0.2121\n",
      "t = 700, loss = 0.0643\n",
      "Starting epoch 7 / 8\n",
      "t = 100, loss = 0.0076\n",
      "t = 200, loss = 0.0848\n",
      "t = 300, loss = 0.0168\n",
      "t = 400, loss = 0.3692\n",
      "t = 500, loss = 0.0133\n",
      "t = 600, loss = 0.0063\n",
      "t = 700, loss = 0.0203\n",
      "Starting epoch 8 / 8\n",
      "t = 100, loss = 0.0472\n",
      "t = 200, loss = 0.0105\n",
      "t = 300, loss = 0.0428\n",
      "t = 400, loss = 0.0099\n",
      "t = 500, loss = 0.0210\n",
      "t = 600, loss = 0.0140\n",
      "t = 700, loss = 0.0256\n",
      "Got 4448 / 6690 correct (66.49)\n"
     ]
    }
   ],
   "source": [
    "#Model 4\n",
    "fix_model_normed = nn.Sequential(\n",
    "    nn.Conv2d(3, 200, kernel_size=10, stride=3),\n",
    "                nn.ReLU(inplace=True),\n",
    "                nn.MaxPool2d(3, stride = 1),\n",
    "                nn.BatchNorm2d(200),\n",
    "                nn.Dropout2d(0.1),\n",
    "                nn.Conv2d(200, 100, kernel_size=5, stride=2),\n",
    "                nn.ReLU(inplace=True),\n",
    "                nn.MaxPool2d(3, stride = 1),\n",
    "                nn.BatchNorm2d(100),\n",
    "                nn.Dropout2d(0.2),\n",
    "                nn.Conv2d(100, 50, kernel_size=3, stride=1),\n",
    "                nn.ReLU(inplace=True),\n",
    "                nn.MaxPool2d(2, stride=1),\n",
    "                nn.BatchNorm2d(50),\n",
    "                Flatten(),\n",
    "                nn.Linear(200, 100),\n",
    "                nn.Linear(100, 50),\n",
    "                nn.Linear(50, 10),\n",
    "                nn.LogSoftmax())\n",
    "\n",
    "# Whether the \n",
    "model_4 = fix_model_normed.type(dtype)\n",
    "model = model_4\n",
    "optimizer = optim.RMSprop(model.parameters(), lr=1e-4)\n",
    "loss_fn = nn.CrossEntropyLoss().type(dtype)\n",
    "train(model, loss_fn, optimizer,image_dataloader_train, num_epochs=8) \n",
    "check_accuracy(model, image_dataloader_val)"
   ]
  },
  {
   "cell_type": "code",
   "execution_count": 18,
   "metadata": {},
   "outputs": [
    {
     "name": "stdout",
     "output_type": "stream",
     "text": [
      "Starting epoch 1 / 2\n"
     ]
    },
    {
     "name": "stderr",
     "output_type": "stream",
     "text": [
      "/Users/sriramreddy/Downloads/ML/hw6_data/.env/lib/python3.6/site-packages/torch/nn/modules/container.py:91: UserWarning: Implicit dimension choice for log_softmax has been deprecated. Change the call to include dim=X as an argument.\n",
      "  input = module(input)\n",
      "/Users/sriramreddy/Downloads/ML/hw6_data/.env/lib/python3.6/site-packages/ipykernel/__main__.py:11: UserWarning: invalid index of a 0-dim tensor. This will be an error in PyTorch 0.5. Use tensor.item() to convert a 0-dim tensor to a Python number\n"
     ]
    },
    {
     "name": "stdout",
     "output_type": "stream",
     "text": [
      "t = 100, loss = 0.0463\n",
      "t = 200, loss = 0.0179\n",
      "t = 300, loss = 0.0107\n",
      "t = 400, loss = 0.0072\n",
      "t = 500, loss = 0.0083\n",
      "t = 600, loss = 0.0647\n",
      "t = 700, loss = 0.0027\n",
      "Starting epoch 2 / 2\n",
      "t = 100, loss = 0.0328\n",
      "t = 200, loss = 0.2204\n",
      "t = 300, loss = 0.0447\n",
      "t = 400, loss = 0.0643\n",
      "t = 500, loss = 0.0627\n",
      "t = 600, loss = 0.0735\n",
      "t = 700, loss = 0.0586\n"
     ]
    }
   ],
   "source": [
    "train(model, loss_fn, optimizer,image_dataloader_train, num_epochs=2)"
   ]
  },
  {
   "cell_type": "code",
   "execution_count": 19,
   "metadata": {},
   "outputs": [
    {
     "name": "stdout",
     "output_type": "stream",
     "text": [
      "Got 4151 / 6690 correct (62.05)\n"
     ]
    },
    {
     "name": "stderr",
     "output_type": "stream",
     "text": [
      "/Users/sriramreddy/Downloads/ML/hw6_data/.env/lib/python3.6/site-packages/torch/nn/modules/container.py:91: UserWarning: Implicit dimension choice for log_softmax has been deprecated. Change the call to include dim=X as an argument.\n",
      "  input = module(input)\n"
     ]
    }
   ],
   "source": [
    "check_accuracy(model, image_dataloader_val)"
   ]
  },
  {
   "cell_type": "code",
   "execution_count": 51,
   "metadata": {},
   "outputs": [
    {
     "name": "stdout",
     "output_type": "stream",
     "text": [
      "Starting epoch 1 / 1\n"
     ]
    },
    {
     "name": "stderr",
     "output_type": "stream",
     "text": [
      "/Users/sriramreddy/Downloads/ML/hw6_data/.env/lib/python3.6/site-packages/torch/nn/modules/container.py:91: UserWarning: Implicit dimension choice for log_softmax has been deprecated. Change the call to include dim=X as an argument.\n",
      "  input = module(input)\n",
      "/Users/sriramreddy/Downloads/ML/hw6_data/.env/lib/python3.6/site-packages/ipykernel/__main__.py:11: UserWarning: invalid index of a 0-dim tensor. This will be an error in PyTorch 0.5. Use tensor.item() to convert a 0-dim tensor to a Python number\n"
     ]
    },
    {
     "name": "stdout",
     "output_type": "stream",
     "text": [
      "t = 100, loss = 1.2454\n",
      "t = 200, loss = 0.7382\n",
      "t = 300, loss = 0.4839\n",
      "t = 400, loss = 0.2754\n",
      "t = 500, loss = 0.2724\n",
      "t = 600, loss = 0.2316\n",
      "t = 700, loss = 0.1815\n",
      "Got 4374 / 6690 correct (65.38)\n"
     ]
    }
   ],
   "source": [
    "#Model 5 VGG NET ARCHITECTURE implementation\n",
    "# I have gone through the original paper. Particularly, I liked the motivation behind implementation of this paper. \n",
    "\n",
    "#Model 3\n",
    "fix_model_normed = nn.Sequential(     \n",
    "    nn.Conv2d(3, 32, kernel_size=3, stride=1),\n",
    "    nn.ReLU(inplace=True),\n",
    "    nn.Conv2d(32, 32, kernel_size=3, stride=1),\n",
    "    nn.ReLU(inplace=True),  \n",
    "#     32*60*60\n",
    "                nn.MaxPool2d(2, stride = 2),\n",
    "    #32*30*30\n",
    "            nn.BatchNorm2d(32),\n",
    "                nn.Dropout2d(0.1),\n",
    "                nn.Conv2d(32, 64, kernel_size=3, stride=1),\n",
    "    #64*28*28\n",
    "                nn.ReLU(inplace=True),\n",
    "                nn.MaxPool2d(2, stride = 2),\n",
    "                nn.BatchNorm2d(64),\n",
    "    #64*14*14\n",
    "                nn.Dropout2d(0.2),\n",
    "                nn.Conv2d(64, 128, kernel_size=5, stride=1),\n",
    "#     128*10*10\n",
    "                nn.ReLU(inplace=True),\n",
    "                nn.MaxPool2d(2, stride=2),\n",
    "    #128*5*5\n",
    "                nn.BatchNorm2d(128),\n",
    "                Flatten(),\n",
    "                nn.Linear(3200, 100),\n",
    "                nn.ReLU(inplace=True),\n",
    "                nn.Dropout2d(0.1),\n",
    "                nn.Linear(100, 10),\n",
    "                nn.ReLU(inplace=True),\n",
    "                nn.LogSoftmax()\n",
    "    )\n",
    "\n",
    "# Whether the \n",
    "model_3 = fix_model_normed.type(dtype)\n",
    "model = model_3\n",
    "optimizer = optim.RMSprop(model.parameters(), lr=1e-4)\n",
    "loss_fn = nn.CrossEntropyLoss().type(dtype)\n",
    "train(model, loss_fn, optimizer,image_dataloader_train, num_epochs=1) \n",
    "check_accuracy(model, image_dataloader_val)\n",
    "\n",
    "\n",
    "\n",
    "\n",
    "# Residual network is the one of the best networks which are available. "
   ]
  },
  {
   "cell_type": "code",
   "execution_count": 52,
   "metadata": {},
   "outputs": [
    {
     "name": "stdout",
     "output_type": "stream",
     "text": [
      "Starting epoch 1 / 7\n"
     ]
    },
    {
     "name": "stderr",
     "output_type": "stream",
     "text": [
      "/Users/sriramreddy/Downloads/ML/hw6_data/.env/lib/python3.6/site-packages/torch/nn/modules/container.py:91: UserWarning: Implicit dimension choice for log_softmax has been deprecated. Change the call to include dim=X as an argument.\n",
      "  input = module(input)\n",
      "/Users/sriramreddy/Downloads/ML/hw6_data/.env/lib/python3.6/site-packages/ipykernel/__main__.py:11: UserWarning: invalid index of a 0-dim tensor. This will be an error in PyTorch 0.5. Use tensor.item() to convert a 0-dim tensor to a Python number\n"
     ]
    },
    {
     "name": "stdout",
     "output_type": "stream",
     "text": [
      "t = 100, loss = 0.1374\n",
      "t = 200, loss = 0.0532\n",
      "t = 300, loss = 0.1319\n",
      "t = 400, loss = 0.0531\n",
      "t = 500, loss = 0.0790\n",
      "t = 600, loss = 0.1452\n",
      "t = 700, loss = 0.0850\n",
      "Starting epoch 2 / 7\n",
      "t = 100, loss = 0.0365\n",
      "t = 200, loss = 0.0600\n",
      "t = 300, loss = 0.0562\n",
      "t = 400, loss = 0.0439\n",
      "t = 500, loss = 0.1435\n",
      "t = 600, loss = 0.1537\n",
      "t = 700, loss = 0.0280\n",
      "Starting epoch 3 / 7\n",
      "t = 100, loss = 0.0152\n",
      "t = 200, loss = 0.1011\n",
      "t = 300, loss = 0.0216\n",
      "t = 400, loss = 0.0606\n",
      "t = 500, loss = 0.0486\n",
      "t = 600, loss = 0.0061\n",
      "t = 700, loss = 0.0133\n",
      "Starting epoch 4 / 7\n",
      "t = 100, loss = 0.0061\n",
      "t = 200, loss = 0.0121\n",
      "t = 300, loss = 0.0975\n",
      "t = 400, loss = 0.0231\n",
      "t = 500, loss = 0.0079\n",
      "t = 600, loss = 0.0158\n",
      "t = 700, loss = 0.0174\n",
      "Starting epoch 5 / 7\n",
      "t = 100, loss = 0.0261\n",
      "t = 200, loss = 0.0116\n",
      "t = 300, loss = 0.0289\n",
      "t = 400, loss = 0.0064\n",
      "t = 500, loss = 0.0051\n",
      "t = 600, loss = 0.0373\n",
      "t = 700, loss = 0.0136\n",
      "Starting epoch 6 / 7\n",
      "t = 100, loss = 0.0143\n",
      "t = 200, loss = 0.0183\n",
      "t = 300, loss = 0.0175\n",
      "t = 400, loss = 0.0042\n",
      "t = 500, loss = 0.1179\n",
      "t = 600, loss = 0.0038\n",
      "t = 700, loss = 0.0452\n",
      "Starting epoch 7 / 7\n",
      "t = 100, loss = 0.0030\n",
      "t = 200, loss = 0.0028\n",
      "t = 300, loss = 0.0336\n",
      "t = 400, loss = 0.0094\n",
      "t = 500, loss = 0.0069\n",
      "t = 600, loss = 0.2886\n",
      "t = 700, loss = 0.0018\n",
      "Got 4323 / 6690 correct (64.62)\n"
     ]
    }
   ],
   "source": [
    "train(model, loss_fn, optimizer,image_dataloader_train, num_epochs=7) \n",
    "check_accuracy(model, image_dataloader_val)"
   ]
  },
  {
   "cell_type": "code",
   "execution_count": null,
   "metadata": {
    "collapsed": true
   },
   "outputs": [],
   "source": [
    "# A motivation for dropout comes from a theory of the role of sex in evolution (Livnat et al., 2010). \n",
    "# Sexual reproduction involves taking half the genes of one parent and half of the other, \n",
    "# adding a very small amount of random mutation, and combining them to produce an offspring. \n",
    "# The asexual alternative is to create an offspring with a slightly mutated copy of the parent’s genes.\n",
    "# It seems plausible that asexual reproduction should be a better way to optimize individual fitness \n",
    "# because a good set of genes that have come to work well together can be passed on directly to the offspring."
   ]
  },
  {
   "cell_type": "code",
   "execution_count": 53,
   "metadata": {},
   "outputs": [
    {
     "name": "stdout",
     "output_type": "stream",
     "text": [
      "Starting epoch 1 / 1\n"
     ]
    },
    {
     "name": "stderr",
     "output_type": "stream",
     "text": [
      "/Users/sriramreddy/Downloads/ML/hw6_data/.env/lib/python3.6/site-packages/torch/nn/modules/container.py:91: UserWarning: Implicit dimension choice for log_softmax has been deprecated. Change the call to include dim=X as an argument.\n",
      "  input = module(input)\n",
      "/Users/sriramreddy/Downloads/ML/hw6_data/.env/lib/python3.6/site-packages/ipykernel/__main__.py:11: UserWarning: invalid index of a 0-dim tensor. This will be an error in PyTorch 0.5. Use tensor.item() to convert a 0-dim tensor to a Python number\n"
     ]
    },
    {
     "name": "stdout",
     "output_type": "stream",
     "text": [
      "t = 100, loss = 0.0018\n",
      "t = 200, loss = 0.0083\n",
      "t = 300, loss = 0.0164\n",
      "t = 400, loss = 0.0030\n",
      "t = 500, loss = 0.0520\n",
      "t = 600, loss = 0.0091\n",
      "t = 700, loss = 0.0031\n",
      "Got 4569 / 6690 correct (68.30)\n"
     ]
    }
   ],
   "source": [
    "train(model, loss_fn, optimizer,image_dataloader_train, num_epochs=1) \n",
    "check_accuracy(model, image_dataloader_val)"
   ]
  },
  {
   "cell_type": "code",
   "execution_count": 65,
   "metadata": {},
   "outputs": [
    {
     "name": "stdout",
     "output_type": "stream",
     "text": [
      "Starting epoch 1 / 1\n"
     ]
    },
    {
     "name": "stderr",
     "output_type": "stream",
     "text": [
      "/Users/sriramreddy/Downloads/ML/hw6_data/.env/lib/python3.6/site-packages/torch/nn/modules/container.py:91: UserWarning: Implicit dimension choice for log_softmax has been deprecated. Change the call to include dim=X as an argument.\n",
      "  input = module(input)\n",
      "/Users/sriramreddy/Downloads/ML/hw6_data/.env/lib/python3.6/site-packages/ipykernel/__main__.py:11: UserWarning: invalid index of a 0-dim tensor. This will be an error in PyTorch 0.5. Use tensor.item() to convert a 0-dim tensor to a Python number\n"
     ]
    },
    {
     "name": "stdout",
     "output_type": "stream",
     "text": [
      "t = 100, loss = 0.5244\n",
      "t = 200, loss = 0.2845\n",
      "t = 300, loss = 0.1719\n",
      "t = 400, loss = 0.0624\n",
      "t = 500, loss = 0.0667\n",
      "t = 600, loss = 0.0268\n",
      "t = 700, loss = 0.2128\n",
      "Got 4253 / 6690 correct (63.57)\n"
     ]
    }
   ],
   "source": [
    "#Model 6\n",
    "#Relu is being used in the network.\n",
    "# We note that none of our networks (except for one)contain Local Response Normalisation (LRN) normalisation (Krizhevsky et al., 2012): as will be shown in Sect. 4, such normalisation does not improve the performance on the ILSVRC dataset, but leads to increased memory con- sumption and computation time.\n",
    "\n",
    "fix_model_normed = nn.Sequential(     \n",
    "    nn.Conv2d(3, 64, kernel_size=3, stride=1),\n",
    "     nn.ReLU(inplace=True),\n",
    "    nn.Conv2d(64, 64, kernel_size=3, stride=1),\n",
    "     nn.ReLU(inplace=True),  \n",
    "#     64*60*60\n",
    "                nn.MaxPool2d(2, stride = 2),\n",
    "    #64*30*30\n",
    "             nn.BatchNorm2d(64),\n",
    "                nn.Dropout2d(0.1),\n",
    "                nn.Conv2d(64, 128, kernel_size=3, stride=1),\n",
    "    #128*28*28\n",
    "                nn.ReLU(inplace=True),\n",
    "                nn.MaxPool2d(2, stride = 2),\n",
    "                 nn.BatchNorm2d(128),\n",
    "    #128*14*14\n",
    "                nn.Dropout2d(0.2),\n",
    "                nn.Conv2d(128, 256, kernel_size=5, stride=1),\n",
    "#     256*10*10\n",
    "                nn.ReLU(inplace=True),\n",
    "                nn.MaxPool2d(2, stride=2),\n",
    "    #256*5*5\n",
    "    \n",
    "                nn.BatchNorm2d(256),\n",
    "                Flatten(),\n",
    "                nn.Linear(6400, 1000),\n",
    "                nn.ReLU(inplace=True),\n",
    "                nn.Dropout2d(0.1),\n",
    "                nn.Linear(1000, 10),\n",
    "                nn.ReLU(inplace=True),\n",
    "                nn.LogSoftmax()\n",
    "    )\n",
    "\n",
    "# Whether the \n",
    "model_3 = fix_model_normed.type(dtype)\n",
    "model = model_3\n",
    "optimizer = optim.RMSprop(model.parameters(), lr=1e-4)\n",
    "loss_fn = nn.CrossEntropyLoss().type(dtype)\n",
    "train(model, loss_fn, optimizer,image_dataloader_train, num_epochs=1) \n",
    "check_accuracy(model, image_dataloader_val)"
   ]
  },
  {
   "cell_type": "code",
   "execution_count": 63,
   "metadata": {},
   "outputs": [],
   "source": [
    "# The following are the results after removing batch norm \n",
    "# t = 100, loss = 2.0829\n",
    "# t = 200, loss = 2.1944\n",
    "# t = 300, loss = 1.5626\n",
    "# t = 400, loss = 1.7697\n",
    "# t = 500, loss = 1.8518\n",
    "# t = 600, loss = 1.3729\n",
    "# t = 700, loss = 1.2789\n",
    "# Got 2850 / 6690 correct (42.60)\n",
    "\n",
    "# After using the batch normalization.\n",
    "# t = 100, loss = 0.7344\n",
    "# t = 200, loss = 0.7674\n",
    "# t = 300, loss = 0.3910\n",
    "# t = 400, loss = 0.4354\n",
    "# t = 500, loss = 0.3365\n",
    "# t = 600, loss = 0.2192\n",
    "# t = 700, loss = 0.3745\n",
    "# Got 3991 / 6690 correct (59.66)"
   ]
  },
  {
   "cell_type": "code",
   "execution_count": 66,
   "metadata": {},
   "outputs": [
    {
     "name": "stdout",
     "output_type": "stream",
     "text": [
      "Starting epoch 1 / 7\n"
     ]
    },
    {
     "name": "stderr",
     "output_type": "stream",
     "text": [
      "/Users/sriramreddy/Downloads/ML/hw6_data/.env/lib/python3.6/site-packages/torch/nn/modules/container.py:91: UserWarning: Implicit dimension choice for log_softmax has been deprecated. Change the call to include dim=X as an argument.\n",
      "  input = module(input)\n",
      "/Users/sriramreddy/Downloads/ML/hw6_data/.env/lib/python3.6/site-packages/ipykernel/__main__.py:11: UserWarning: invalid index of a 0-dim tensor. This will be an error in PyTorch 0.5. Use tensor.item() to convert a 0-dim tensor to a Python number\n"
     ]
    },
    {
     "name": "stdout",
     "output_type": "stream",
     "text": [
      "t = 100, loss = 0.0125\n",
      "t = 200, loss = 0.0173\n",
      "t = 300, loss = 0.0254\n",
      "t = 400, loss = 0.0042\n",
      "t = 500, loss = 0.1716\n",
      "t = 600, loss = 0.0032\n",
      "t = 700, loss = 0.0337\n",
      "Starting epoch 2 / 7\n",
      "t = 100, loss = 0.0104\n",
      "t = 200, loss = 0.0084\n",
      "t = 300, loss = 0.0022\n",
      "t = 400, loss = 0.0078\n",
      "t = 500, loss = 0.1179\n",
      "t = 600, loss = 0.0021\n",
      "t = 700, loss = 0.0244\n",
      "Starting epoch 3 / 7\n",
      "t = 100, loss = 0.0023\n",
      "t = 200, loss = 0.0070\n",
      "t = 300, loss = 0.0063\n",
      "t = 400, loss = 0.0018\n",
      "t = 500, loss = 0.0341\n",
      "t = 600, loss = 0.0104\n",
      "t = 700, loss = 0.0331\n",
      "Starting epoch 4 / 7\n",
      "t = 100, loss = 0.0022\n",
      "t = 200, loss = 0.0010\n",
      "t = 300, loss = 0.0709\n",
      "t = 400, loss = 0.0038\n",
      "t = 500, loss = 0.0021\n",
      "t = 600, loss = 0.0016\n",
      "t = 700, loss = 0.0001\n",
      "Starting epoch 5 / 7\n",
      "t = 100, loss = 0.0014\n",
      "t = 200, loss = 0.0564\n",
      "t = 300, loss = 0.0003\n",
      "t = 400, loss = 0.0003\n",
      "t = 500, loss = 0.0001\n",
      "t = 600, loss = 0.0011\n",
      "t = 700, loss = 0.0001\n",
      "Starting epoch 6 / 7\n",
      "t = 100, loss = 0.0067\n",
      "t = 200, loss = 0.0021\n",
      "t = 300, loss = 0.0004\n",
      "t = 400, loss = 0.0001\n",
      "t = 500, loss = 0.0001\n",
      "t = 600, loss = 0.0002\n",
      "t = 700, loss = 0.0006\n",
      "Starting epoch 7 / 7\n",
      "t = 100, loss = 0.0000\n",
      "t = 200, loss = 0.0005\n",
      "t = 300, loss = 0.2015\n",
      "t = 400, loss = 0.0011\n",
      "t = 500, loss = 0.0002\n",
      "t = 600, loss = 0.0111\n",
      "t = 700, loss = 0.0002\n"
     ]
    }
   ],
   "source": [
    "train(model, loss_fn, optimizer,image_dataloader_train, num_epochs=7) "
   ]
  },
  {
   "cell_type": "code",
   "execution_count": 67,
   "metadata": {},
   "outputs": [
    {
     "name": "stdout",
     "output_type": "stream",
     "text": [
      "Got 4474 / 6690 correct (66.88)\n"
     ]
    },
    {
     "name": "stderr",
     "output_type": "stream",
     "text": [
      "/Users/sriramreddy/Downloads/ML/hw6_data/.env/lib/python3.6/site-packages/torch/nn/modules/container.py:91: UserWarning: Implicit dimension choice for log_softmax has been deprecated. Change the call to include dim=X as an argument.\n",
      "  input = module(input)\n"
     ]
    }
   ],
   "source": [
    "check_accuracy(model, image_dataloader_val)"
   ]
  },
  {
   "cell_type": "code",
   "execution_count": 70,
   "metadata": {},
   "outputs": [
    {
     "name": "stdout",
     "output_type": "stream",
     "text": [
      "Starting epoch 1 / 1\n"
     ]
    },
    {
     "name": "stderr",
     "output_type": "stream",
     "text": [
      "/Users/sriramreddy/Downloads/ML/hw6_data/.env/lib/python3.6/site-packages/torch/nn/modules/container.py:91: UserWarning: Implicit dimension choice for log_softmax has been deprecated. Change the call to include dim=X as an argument.\n",
      "  input = module(input)\n",
      "/Users/sriramreddy/Downloads/ML/hw6_data/.env/lib/python3.6/site-packages/ipykernel/__main__.py:11: UserWarning: invalid index of a 0-dim tensor. This will be an error in PyTorch 0.5. Use tensor.item() to convert a 0-dim tensor to a Python number\n"
     ]
    },
    {
     "name": "stdout",
     "output_type": "stream",
     "text": [
      "t = 100, loss = 0.0001\n",
      "t = 200, loss = 0.0019\n",
      "t = 300, loss = 0.0732\n",
      "t = 400, loss = 0.0001\n",
      "t = 500, loss = 0.0002\n",
      "t = 600, loss = 0.0170\n",
      "t = 700, loss = 0.0000\n"
     ]
    }
   ],
   "source": [
    "train(model, loss_fn, optimizer,image_dataloader_train, num_epochs=1) "
   ]
  },
  {
   "cell_type": "code",
   "execution_count": 71,
   "metadata": {},
   "outputs": [
    {
     "name": "stdout",
     "output_type": "stream",
     "text": [
      "Got 4780 / 6690 correct (71.45)\n"
     ]
    },
    {
     "name": "stderr",
     "output_type": "stream",
     "text": [
      "/Users/sriramreddy/Downloads/ML/hw6_data/.env/lib/python3.6/site-packages/torch/nn/modules/container.py:91: UserWarning: Implicit dimension choice for log_softmax has been deprecated. Change the call to include dim=X as an argument.\n",
      "  input = module(input)\n"
     ]
    }
   ],
   "source": [
    "check_accuracy(model, image_dataloader_val)"
   ]
  },
  {
   "cell_type": "markdown",
   "metadata": {},
   "source": [
    "##### Train a better  model for action recognition!\n",
    "\n",
    "Now it's your job to experiment with architectures, hyperparameters, loss functions, and optimizers to train a model that achieves better accuracy on the action recognition **validation** set. You can use the check_accuracy and train functions from above."
   ]
  },
  {
   "cell_type": "markdown",
   "metadata": {},
   "source": [
    "### Things you should try:\n",
    "- **Filter size**: Above we used 7x7; this makes pretty pictures but smaller filters may be more efficient\n",
    "- **Number of filters**: Do more or fewer do better?\n",
    "- **Pooling vs Strided Convolution**: Do you use max pooling or just stride convolutions?\n",
    "- **Batch normalization**: Try adding spatial batch normalization after convolution layers and vanilla batch normalization after affine layers. Do your networks train faster?\n",
    "- **Network architecture**: The network above has two layers of trainable parameters. Can you do better with a deep network? Good architectures to try include:\n",
    "    - [conv-relu-pool]xN -> [affine]xM -> [softmax or SVM]\n",
    "    - [conv-relu-conv-relu-pool]xN -> [affine]xM -> [softmax or SVM]\n",
    "    - [batchnorm-relu-conv]xN -> [affine]xM -> [softmax or SVM]\n",
    "- **Global Average Pooling**: Instead of flattening and then having multiple affine layers, perform convolutions until your image gets small (7x7 or so) and then perform an average pooling operation to get to a 1x1 image picture (1, 1 , Filter#), which is then reshaped into a (Filter#) vector. This is used in [Google's Inception Network](https://arxiv.org/abs/1512.00567) (See Table 1 for their architecture).\n",
    "- **Regularization**: Add l2 weight regularization, or perhaps use Dropout.\n",
    "\n",
    "### Tips for training\n",
    "For each network architecture that you try, you should tune the learning rate and regularization strength. When doing this there are a couple important things to keep in mind:\n",
    "\n",
    "- If the parameters are working well, you should see improvement within a few hundred iterations\n",
    "- Remember the coarse-to-fine approach for hyperparameter tuning: start by testing a large range of hyperparameters for just a few training iterations to find the combinations of parameters that are working at all.\n",
    "- Once you have found some sets of parameters that seem to work, search more finely around these parameters. You may need to train for more epochs.\n",
    "- You should use the validation set for hyperparameter search, and save your test set for evaluating your architecture on the best parameters as selected by the validation set.\n",
    "\n",
    "### Going above and beyond\n",
    "If you are feeling adventurous there are many other features you can implement to try and improve your performance. You are **not required** to implement any of these; however they would be good things to try.\n",
    "\n",
    "- Alternative update steps: For the assignment we implemented SGD+momentum, RMSprop, and Adam; you could try alternatives like AdaGrad or AdaDelta.\n",
    "- Alternative activation functions such as leaky ReLU, parametric ReLU, ELU, or MaxOut.\n",
    "- Model ensembles\n",
    "- Data augmentation\n",
    "- New Architectures\n",
    "  - [ResNets](https://arxiv.org/abs/1512.03385) where the input from the previous layer is added to the output.\n",
    "  - [DenseNets](https://arxiv.org/abs/1608.06993) where inputs into previous layers are concatenated together.\n",
    "  - [This blog has an in-depth overview](https://chatbotslife.com/resnets-highwaynets-and-densenets-oh-my-9bb15918ee32)\n",
    "\n",
    "If you do decide to implement something extra, clearly describe it in the \"Extra Credit Description\" cell below.\n",
    "\n",
    "### What we expect\n",
    "At the very least, you should be able to train a ConvNet that gets at least 55% accuracy on the validation set. This is just a lower bound - if you are careful it should be possible to get accuracies much higher than that! Extra credit points will be awarded for particularly high-scoring models or unique approaches.\n",
    "\n",
    "You should use the space below to experiment and train your network. \n",
    "\n"
   ]
  },
  {
   "cell_type": "code",
   "execution_count": 1,
   "metadata": {},
   "outputs": [],
   "source": [
    "###########3rd TODO (20 points, must submit the results to Kaggle) ##############\n",
    "# Train your model here, and make sure the output of this cell is the accuracy of your best model on the \n",
    "# train, val, and test sets. Here's some code to get you started. The output of this cell should be the training\n",
    "# and validation accuracy on your best model (measured by validation accuracy).\n",
    "\n",
    "\n",
    "\n",
    "# I have checked the literature and loss_fn which they are using for this task is Cross Entrophy Loss\n",
    "# Based on convex optimization, Adam is one of the best optimizers.    \n",
    "model = fixed_model\n",
    "loss_fn = nn.CrossEntropyLoss().type(dtype)\n",
    "optimizer = optim.RMSprop(model.parameters(), lr=1e-4)\n",
    "#optimizer = optim.Adam(model.parameters(), lr = 1e-4) \n",
    "\n",
    "train(fixed_model_base, loss_fn, optimizer,image_dataloader_train, num_epochs=1) \n",
    "check_accuracy(fixed_model, image_dataloader_val)\n",
    "#I'm adding the picture below for the best model accuracy below as it had run earlier and it will take more time to rerun.\n",
    "#You can verify this by scrolling up a bit."
   ]
  },
  {
   "cell_type": "code",
   "execution_count": 2,
   "metadata": {},
   "outputs": [
    {
     "data": {
      "image/png": "[encoded data removed]",
      "text/plain": [
       "<IPython.core.display.Image object>"
      ]
     },
     "execution_count": 2,
     "metadata": {},
     "output_type": "execute_result"
    }
   ],
   "source": [
    "from IPython.display import Image\n",
    "Image('/Users/sriramreddy/Desktop/accuracyscore1.png')\n",
    "# ,width=600, height=800)"
   ]
  },
  {
   "cell_type": "markdown",
   "metadata": {},
   "source": [
    "### Describe what you did \n",
    "\n",
    "In the cell below you should write an explanation of what you did, any additional features that you implemented, and any visualizations or graphs that you make in the process of training and evaluating your network."
   ]
  },
  {
   "cell_type": "markdown",
   "metadata": {},
   "source": [
    "Tell us here!\n",
    "###########4th TODO (5 points) ##############\n",
    "\n",
    "I have tried the following things:\n",
    "\n",
    "1)Training the network using the CNN layer filter from 7 and varying to 5 and 3 by increasing the CNN layers. \n",
    "I have observed the training the network is faster for using filter size 3 as the number of parameters in the network is reduced drastically.\n",
    "\n",
    "2)I have trained the network with and without the batch normalization. I have seen little improvement if I'm using the network with Batch Normalization. \n",
    "\n",
    "3)I used data augmentation techniques by adding salt and pepper noise and flipping the pictures. I have uploaded the script for data augmentation in my github. Please find the link below:\n",
    "\n",
    "\n",
    "It had improved the performance but only 1%.\n",
    "\n",
    "4)I have played with different Optimization techniques and properly tuned the learning rate. RMSprop and Adam gave decent results.\n",
    "\n",
    "5)Similarly,I have seen the benefits of drop out as it is helping to reduce the overfit problem because of the training for more epochs. Moreover, I'm fascianted behind the idea of dropout as it came from reproduction in biology.\n",
    "Using the layers, conv2d, relu, maxpool,Batchnorm and Affine layers, I have constructed seven networks. Out of which, I got the cross validation accuracy i.e best for the model which is given below.\n",
    "\n",
    "CONV2D -> RELU -> CONV2D -> RELU -> MAXPOOL2D -> BATCH NORM -> DROP OUT ->\n",
    "CONV2D -> RELU -> MAXPOOL2D ->BATCHNORM -> DROPOUT ->CONV2D -> RELU -> MAX POOL2D ->\n",
    "BATCHNORM 2D ->FLATTEN -> AFFINE -> RELU -> DROP OUT -> AFFINE -> RELU -> SOFTMAX\n",
    "\n",
    "Exact description is given as below:\n",
    "1.\t3x3 Convolutional Layer with 64 filters and stride of 1\n",
    "\n",
    "2.\tReLU Activation Layer\n",
    "\n",
    "3.\t3x3 Convolutional Layer with 64 filters and stride of 1\n",
    "\n",
    "4.\tReLU Activation Layer\n",
    "\n",
    "5.\t2x2 Max Pooling layer with a stride of 2\n",
    "\n",
    "6.\tBatch Normalization Layer\n",
    "\n",
    "7.\tDrop out layer of 0.1\n",
    "\n",
    "8.\t3x3 Convolutional Layer with 128 filters and stride of 1\n",
    "\n",
    "9.\tReLU Activation Layer\n",
    "\n",
    "10.\t2x2 Max Pooling layer with a stride of 2\n",
    "\n",
    "11.\tBatch Normalization Layer\n",
    "\n",
    "12.\tDrop out layer of 0.2\n",
    "\n",
    "13.\t5x5 Convolutional Layer with 256 filters and stride of 1\n",
    "\n",
    "14.\tReLU Activation Layer\n",
    "\n",
    "15.\t2x2 Max Pooling layer with a stride of 2\n",
    "\n",
    "16.\tBatch Normalization Layer\n",
    "\n",
    "17.\tFlatten\n",
    "\n",
    "18.\tAffine layer\n",
    "\n",
    "19.\tReLU Activation Layer\n",
    "\n",
    "20.\tDrop out layer of 0.2\n",
    "\n",
    "21.\tAffine layer\n",
    "\n",
    "22.\tReLU Activation Layer\n",
    "\n",
    "23.\tSoftmax layer\n",
    "\n",
    "Affine transformation is nothing but the linear layer with dense connections similar to that of tensorflow. \n",
    "\n",
    "The above network is some what similar to VGG Net 19 architecture. \n",
    "\n",
    "With the above network, I got cross validation accuracy of 71.45%.\n"
   ]
  },
  {
   "cell_type": "markdown",
   "metadata": {},
   "source": [
    "### Testing the model and submit on Kaggle\n",
    "Testing the model on the testing set and save the results as a .csv file. \n",
    "Please submitted the results.csv file generated by predict_on_test() to Kaggle(https://www.kaggle.com/c/cse512springhw3) to see how well your network performs on the test set. \n",
    "#######5th TODO (submit the result to Kaggle, the highest 3 entries get extra 10 points )###############"
   ]
  },
  {
   "cell_type": "code",
   "execution_count": 3,
   "metadata": {},
   "outputs": [
    {
     "data": {
      "image/png": "[encoded data removed]",
      "text/plain": [
       "<IPython.core.display.Image object>"
      ]
     },
     "execution_count": 3,
     "metadata": {},
     "output_type": "execute_result"
    }
   ],
   "source": [
    "Image('/Users/sriramreddy/Desktop/image_result.png')"
   ]
  },
  {
   "cell_type": "code",
   "execution_count": 72,
   "metadata": {},
   "outputs": [
    {
     "name": "stdout",
     "output_type": "stream",
     "text": [
      "9810\n"
     ]
    },
    {
     "name": "stderr",
     "output_type": "stream",
     "text": [
      "/Users/sriramreddy/Downloads/ML/hw6_data/.env/lib/python3.6/site-packages/torch/nn/modules/container.py:91: UserWarning: Implicit dimension choice for log_softmax has been deprecated. Change the call to include dim=X as an argument.\n",
      "  input = module(input)\n"
     ]
    }
   ],
   "source": [
    "def predict_on_test(model, loader):\n",
    "    '''\n",
    "    if loader.dataset.train:\n",
    "        print('Checking accuracy on validation set')\n",
    "    else:\n",
    "        print('Checking accuracy on test set')  \n",
    "    '''\n",
    "    num_correct = 0\n",
    "    num_samples = 0\n",
    "    model.eval() # Put the model in test mode (the opposite of model.train(), essentially)\n",
    "    results=open('results_final2.csv','w')\n",
    "    count=0\n",
    "    results.write('Id'+','+'Class'+'\\n')\n",
    "    for t, sample in enumerate(loader):\n",
    "        x_var = Variable(sample['image'])\n",
    "        scores = model(x_var)\n",
    "        _, preds = scores.data.max(1)\n",
    "        for i in range(len(preds)):\n",
    "            results.write(str(count)+','+str(preds[i])+'\\n')\n",
    "            count+=1\n",
    "    results.close()\n",
    "    return count\n",
    "\n",
    "fixed_model = model\n",
    "count=predict_on_test(fixed_model, image_dataloader_test)\n",
    "print(count)"
   ]
  },
  {
   "cell_type": "markdown",
   "metadata": {},
   "source": [
    "### GPU! (This part is optional, 0 points)\n",
    "\n",
    "If you have access to GPU, you can make the code run on GPU, it would be much faster. \n",
    "\n",
    "Now, we're going to switch the dtype of the model and our data to the GPU-friendly tensors, and see what happens... everything is the same, except we are casting our model and input tensors as this new dtype instead of the old one.\n",
    "\n",
    "If this returns false, or otherwise fails in a not-graceful way (i.e., with some error message), you may not have an NVIDIA GPU available on your machine. "
   ]
  },
  {
   "cell_type": "code",
   "execution_count": null,
   "metadata": {
    "collapsed": true
   },
   "outputs": [],
   "source": [
    "# Verify that CUDA is properly configured and you have a GPU available\n",
    "\n",
    "torch.cuda.is_available()"
   ]
  },
  {
   "cell_type": "code",
   "execution_count": null,
   "metadata": {
    "collapsed": true
   },
   "outputs": [],
   "source": [
    "import copy\n",
    "gpu_dtype = torch.cuda.FloatTensor\n",
    "\n",
    "fixed_model_gpu = copy.deepcopy(fixed_model_base)#.type(gpu_dtype)\n",
    "fixed_model_gpu.cuda()\n",
    "x_gpu = torch.randn(4, 3, 64, 64).cuda()#.type(gpu_dtype)\n",
    "x_var_gpu = Variable(x_gpu)#type(gpu_dtype)) # Construct a PyTorch Variable out of your input data\n",
    "ans = fixed_model_gpu(x_var_gpu)        # Feed it through the model! \n",
    "\n",
    "# Check to make sure what comes out of your model\n",
    "# is the right dimensionality... this should be True\n",
    "# if you've done everything correctly\n",
    "np.array_equal(np.array(ans.size()), np.array([4, 10]))\n"
   ]
  },
  {
   "cell_type": "markdown",
   "metadata": {},
   "source": [
    "Run the following cell to evaluate the performance of the forward pass running on the CPU:"
   ]
  },
  {
   "cell_type": "code",
   "execution_count": null,
   "metadata": {
    "collapsed": true
   },
   "outputs": [],
   "source": [
    "%%timeit \n",
    "ans = fixed_model(x_var)"
   ]
  },
  {
   "cell_type": "markdown",
   "metadata": {},
   "source": [
    "... and now the GPU:"
   ]
  },
  {
   "cell_type": "code",
   "execution_count": null,
   "metadata": {
    "collapsed": true
   },
   "outputs": [],
   "source": [
    "%%timeit \n",
    "torch.cuda.synchronize() # Make sure there are no pending GPU computations\n",
    "ans = fixed_model_gpu(x_var_gpu)        # Feed it through the model! \n",
    "torch.cuda.synchronize() # Make sure there are no pending GPU computations"
   ]
  },
  {
   "cell_type": "markdown",
   "metadata": {},
   "source": [
    "You should observe that even a simple forward pass like this is significantly faster on the GPU. So for the rest of the assignment (and when you go train your models in assignment 3 and your project!), you should use the GPU datatype for your model and your tensors: as a reminder that is *torch.cuda.FloatTensor* (in our notebook here as *gpu_dtype*)"
   ]
  },
  {
   "cell_type": "markdown",
   "metadata": {},
   "source": [
    "Let's make the loss function and training variables to GPU friendly format by '.cuda()'"
   ]
  },
  {
   "cell_type": "code",
   "execution_count": null,
   "metadata": {
    "collapsed": true
   },
   "outputs": [],
   "source": [
    "loss_fn = nn.CrossEntropyLoss().cuda()\n",
    "optimizer = optim.RMSprop(fixed_model_gpu.parameters(), lr=1e-4)"
   ]
  },
  {
   "cell_type": "code",
   "execution_count": null,
   "metadata": {
    "collapsed": true
   },
   "outputs": [],
   "source": [
    "def train(model, loss_fn, optimizer, dataloader, num_epochs = 1):\n",
    "    for epoch in range(num_epochs):\n",
    "        print('Starting epoch %d / %d' % (epoch + 1, num_epochs))\n",
    "        model.train()\n",
    "        for t, sample in enumerate(dataloader):\n",
    "            x_var = Variable(sample['image'].cuda())\n",
    "            y_var = Variable(sample['Label'].cuda().long())\n",
    "\n",
    "            scores = model(x_var)\n",
    "            \n",
    "            loss = loss_fn(scores, y_var)\n",
    "            if (t + 1) % print_every == 0:\n",
    "                print('t = %d, loss = %.4f' % (t + 1, loss.data[0]))\n",
    "\n",
    "            optimizer.zero_grad()\n",
    "            loss.backward()\n",
    "            optimizer.step()\n",
    "\n",
    "def check_accuracy(model, loader):\n",
    "    '''\n",
    "    if loader.dataset.train:\n",
    "        print('Checking accuracy on validation set')\n",
    "    else:\n",
    "        print('Checking accuracy on test set')  \n",
    "    '''\n",
    "    num_correct = 0\n",
    "    num_samples = 0\n",
    "    model.eval() # Put the model in test mode (the opposite of model.train(), essentially)\n",
    "    for t, sample in enumerate(loader):\n",
    "        x_var = Variable(sample['image'].cuda())\n",
    "        y_var = sample['Label'].cuda()\n",
    "        y_var=y_var.cpu()\n",
    "        scores = model(x_var)\n",
    "        _, preds = scores.data.cpu().max(1)\n",
    "        #print(preds)\n",
    "        #print(y_var)\n",
    "        num_correct += (preds.numpy() == y_var.numpy()).sum()\n",
    "        num_samples += preds.size(0)\n",
    "    acc = float(num_correct) / num_samples\n",
    "    print('Got %d / %d correct (%.2f)' % (num_correct, num_samples, 100 * acc))"
   ]
  },
  {
   "cell_type": "markdown",
   "metadata": {},
   "source": [
    "Run on GPU!"
   ]
  },
  {
   "cell_type": "code",
   "execution_count": null,
   "metadata": {
    "collapsed": true
   },
   "outputs": [],
   "source": [
    "torch.cuda.random.manual_seed(12345)\n",
    "\n",
    "fixed_model_gpu.apply(reset) \n",
    "fixed_model_gpu.train() \n",
    "train(fixed_model_gpu, loss_fn, optimizer,image_dataloader_train, num_epochs=1) \n",
    "check_accuracy(fixed_model_gpu, image_dataloader_train)# check accuracy on the training set\n"
   ]
  },
  {
   "cell_type": "markdown",
   "metadata": {},
   "source": [
    "### 3D Convolution on video clips (25 points+10 extra points)\n",
    "3D convolution is for videos, it has one more dimension than 2d convolution. You can find the document for 3D convolution here http://pytorch.org/docs/master/nn.html#torch.nn.Conv3dIn. In our dataset, each clip is a video of 3 frames. Lets classify the each clip rather than each image using 3D convolution.\n",
    "We offer the data loader, the train_3d and check_accuracy"
   ]
  },
  {
   "cell_type": "code",
   "execution_count": 20,
   "metadata": {},
   "outputs": [
    {
     "name": "stdout",
     "output_type": "stream",
     "text": [
      "torch.Size([3, 3, 64, 64])\n",
      "0.0\n",
      "00001\n",
      "torch.Size([3, 3, 64, 64])\n",
      "0.0\n",
      "00002\n",
      "torch.Size([3, 3, 64, 64])\n",
      "0.0\n",
      "00003\n",
      "torch.Size([3, 3, 64, 64])\n",
      "0.0\n",
      "00004\n",
      "torch.Size([3, 3, 64, 64])\n",
      "0.0\n",
      "00005\n",
      "torch.Size([3, 3, 64, 64])\n",
      "0.0\n",
      "00006\n",
      "torch.Size([3, 3, 64, 64])\n",
      "0.0\n",
      "00007\n",
      "torch.Size([3, 3, 64, 64])\n",
      "0.0\n",
      "00008\n",
      "torch.Size([3, 3, 64, 64])\n",
      "0.0\n",
      "00009\n",
      "torch.Size([3, 3, 64, 64])\n",
      "0.0\n",
      "00010\n"
     ]
    }
   ],
   "source": [
    "class ActionClipDataset(Dataset):\n",
    "    \"\"\"Action Landmarks dataset.\"\"\"\n",
    "\n",
    "    def __init__(self,  root_dir,labels=[], transform=None):\n",
    "        \"\"\"\n",
    "        Args:\n",
    "            csv_file (string): Path to the csv file with annotations.\n",
    "            root_dir (string): Directory with all the images.\n",
    "            transform (callable, optional): Optional transform to be applied\n",
    "                on a sample.\n",
    "        \"\"\"\n",
    "        \n",
    "        self.root_dir = root_dir\n",
    "        self.transform = transform\n",
    "        self.length=len(os.listdir(self.root_dir))\n",
    "        self.labels=labels\n",
    "\n",
    "    def __len__(self):\n",
    "        return self.length\n",
    "\n",
    "    def __getitem__(self, idx):\n",
    "        \n",
    "        folder=idx+1\n",
    "        folder=format(folder,'05d')\n",
    "        clip=[]\n",
    "        if len(self.labels)!=0:\n",
    "            Label=self.labels[idx][0]-1\n",
    "        for i in range(3):\n",
    "            imidx=i+1\n",
    "            imgname=str(imidx)+'.jpg'\n",
    "            img_path = os.path.join(self.root_dir,\n",
    "                                    folder,imgname)\n",
    "            image = Image.open(img_path)\n",
    "            image=np.array(image)\n",
    "            clip.append(image)\n",
    "        if self.transform:\n",
    "            clip=np.asarray(clip)\n",
    "            clip=np.transpose(clip, (0,3,1,2))\n",
    "            clip = torch.from_numpy(np.asarray(clip))\n",
    "        if len(self.labels)!=0:\n",
    "            sample={'clip':clip,'Label':Label,'folder':folder}\n",
    "        else:\n",
    "            sample={'clip':clip,'folder':folder}\n",
    "        return sample\n",
    "\n",
    "clip_dataset=ActionClipDataset(root_dir='./data/trainClips/',\\\n",
    "                               labels=label_train,transform=T.ToTensor())#/home/tqvinh/Study/CSE512/cse512-s18/hw2data/trainClips/\n",
    "for i in range(10):\n",
    "    sample=clip_dataset[i]\n",
    "    print(sample['clip'].shape)\n",
    "    print(sample['Label'])\n",
    "    print(sample['folder'])"
   ]
  },
  {
   "cell_type": "code",
   "execution_count": 21,
   "metadata": {},
   "outputs": [
    {
     "name": "stdout",
     "output_type": "stream",
     "text": [
      "0 torch.Size([4, 3, 3, 64, 64]) ['00848', '04731', '00323', '03170'] tensor([0., 5., 0., 3.], dtype=torch.float64)\n",
      "1 torch.Size([4, 3, 3, 64, 64]) ['03713', '06089', '07311', '00508'] tensor([4., 7., 9., 0.], dtype=torch.float64)\n",
      "2 torch.Size([4, 3, 3, 64, 64]) ['06913', '02345', '04267', '04541'] tensor([8., 2., 5., 5.], dtype=torch.float64)\n",
      "3 torch.Size([4, 3, 3, 64, 64]) ['02668', '05548', '06420', '07537'] tensor([2., 6., 7., 9.], dtype=torch.float64)\n",
      "4 torch.Size([4, 3, 3, 64, 64]) ['04443', '01097', '03435', '03473'] tensor([5., 1., 3., 3.], dtype=torch.float64)\n",
      "5 torch.Size([4, 3, 3, 64, 64]) ['04056', '03056', '04982', '03035'] tensor([4., 3., 6., 3.], dtype=torch.float64)\n",
      "6 torch.Size([4, 3, 3, 64, 64]) ['02348', '06924', '03008', '07338'] tensor([2., 8., 3., 9.], dtype=torch.float64)\n",
      "7 torch.Size([4, 3, 3, 64, 64]) ['02546', '03775', '06399', '03798'] tensor([2., 4., 7., 4.], dtype=torch.float64)\n",
      "8 torch.Size([4, 3, 3, 64, 64]) ['02593', '03687', '01732', '06350'] tensor([2., 4., 1., 7.], dtype=torch.float64)\n",
      "9 torch.Size([4, 3, 3, 64, 64]) ['06102', '01256', '03834', '03288'] tensor([7., 1., 4., 3.], dtype=torch.float64)\n",
      "10 torch.Size([4, 3, 3, 64, 64]) ['05482', '00543', '03891', '05129'] tensor([6., 0., 4., 6.], dtype=torch.float64)\n",
      "11 torch.Size([4, 3, 3, 64, 64]) ['06366', '02530', '04531', '06507'] tensor([7., 2., 5., 8.], dtype=torch.float64)\n",
      "12 torch.Size([4, 3, 3, 64, 64]) ['06116', '07481', '01807', '03843'] tensor([7., 9., 1., 4.], dtype=torch.float64)\n",
      "13 torch.Size([4, 3, 3, 64, 64]) ['02444', '01968', '05344', '01741'] tensor([2., 2., 6., 1.], dtype=torch.float64)\n",
      "14 torch.Size([4, 3, 3, 64, 64]) ['00308', '00329', '07368', '07735'] tensor([0., 0., 9., 9.], dtype=torch.float64)\n",
      "15 torch.Size([4, 3, 3, 64, 64]) ['03176', '04729', '01193', '05957'] tensor([3., 5., 1., 7.], dtype=torch.float64)\n",
      "16 torch.Size([4, 3, 3, 64, 64]) ['05635', '01920', '07019', '07672'] tensor([7., 2., 8., 9.], dtype=torch.float64)\n",
      "17 torch.Size([4, 3, 3, 64, 64]) ['07734', '06291', '01329', '00511'] tensor([9., 7., 1., 0.], dtype=torch.float64)\n",
      "18 torch.Size([4, 3, 3, 64, 64]) ['03697', '04821', '03625', '03708'] tensor([4., 5., 4., 4.], dtype=torch.float64)\n",
      "19 torch.Size([4, 3, 3, 64, 64]) ['07082', '05663', '00790', '06065'] tensor([8., 7., 0., 7.], dtype=torch.float64)\n",
      "20 torch.Size([4, 3, 3, 64, 64]) ['07542', '06051', '06897', '06952'] tensor([9., 7., 8., 8.], dtype=torch.float64)\n",
      "21 torch.Size([4, 3, 3, 64, 64]) ['00570', '05011', '03602', '01926'] tensor([0., 6., 4., 2.], dtype=torch.float64)\n"
     ]
    }
   ],
   "source": [
    "clip_dataloader = DataLoader(clip_dataset, batch_size=4,\n",
    "                        shuffle=True, num_workers=4)\n",
    "\n",
    "\n",
    "for i,sample in enumerate(clip_dataloader):\n",
    "    print(i,sample['clip'].shape,sample['folder'],sample['Label'])\n",
    "    if i>20: \n",
    "        break"
   ]
  },
  {
   "cell_type": "code",
   "execution_count": 22,
   "metadata": {
    "collapsed": true
   },
   "outputs": [],
   "source": [
    "clip_dataset_train=ActionClipDataset(root_dir='./data/trainClips/',labels=label_train,transform=T.ToTensor())\n",
    "\n",
    "clip_dataloader_train = DataLoader(clip_dataset_train, batch_size=16,\n",
    "                        shuffle=True, num_workers=4)\n",
    "clip_dataset_val=ActionClipDataset(root_dir='./data/valClips/',labels=label_val,transform=T.ToTensor())\n",
    "\n",
    "clip_dataloader_val = DataLoader(clip_dataset_val, batch_size=16,\n",
    "                        shuffle=True, num_workers=4)\n",
    "clip_dataset_test=ActionClipDataset(root_dir='./data/testClips/',labels=[],transform=T.ToTensor())\n",
    "\n",
    "clip_dataloader_test = DataLoader(clip_dataset_test, batch_size=16,\n",
    "                        shuffle=False, num_workers=4)"
   ]
  },
  {
   "cell_type": "markdown",
   "metadata": {},
   "source": [
    "Write the Flatten for 3d covolution feature maps."
   ]
  },
  {
   "cell_type": "code",
   "execution_count": 32,
   "metadata": {
    "collapsed": true
   },
   "outputs": [],
   "source": [
    "class Flatten3d(nn.Module):\n",
    "    def forward(self, x):\n",
    "        N, C, T, H, W = x.size() # read in N, C, H, W\n",
    "        return x.view(N, -1)  # \"flatten\" the C * H * W values into a single vector per image\n",
    "        \n",
    "        ###############6th TODO (5 points)###################\n",
    "        "
   ]
  },
  {
   "cell_type": "markdown",
   "metadata": {},
   "source": [
    "Design a network using 3D convolution on videos for video classification."
   ]
  },
  {
   "cell_type": "code",
   "execution_count": 34,
   "metadata": {},
   "outputs": [
    {
     "name": "stderr",
     "output_type": "stream",
     "text": [
      "/Users/sriramreddy/Downloads/ML/hw6_data/.env/lib/python3.6/site-packages/torch/nn/modules/container.py:91: UserWarning: Implicit dimension choice for log_softmax has been deprecated. Change the call to include dim=X as an argument.\n",
      "  input = module(input)\n"
     ]
    },
    {
     "data": {
      "text/plain": [
       "True"
      ]
     },
     "execution_count": 34,
     "metadata": {},
     "output_type": "execute_result"
    }
   ],
   "source": [
    "fixed_model_3d = nn.Sequential( # You fill this in!\n",
    "    ###############7th TODO (20 points)#########################\n",
    " nn.Conv3d(3, 32, kernel_size=(1,5,5), stride=1),\n",
    "#     32*60*60\n",
    "                nn.ReLU(inplace=True),\n",
    "                nn.MaxPool3d((1,2,2), stride = (1,2,2)),\n",
    "    #32*30*30\n",
    "                nn.BatchNorm3d(32),\n",
    "                nn.Dropout3d(0.1),\n",
    "                nn.Conv3d(32, 24, kernel_size=(1,5,5), stride=1),\n",
    "    #24*26*26\n",
    "                nn.ReLU(inplace=True),\n",
    "                nn.MaxPool3d((1,2,2), stride = (1,2,2)),\n",
    "                nn.BatchNorm3d(24),\n",
    "    #24*13*13\n",
    "                nn.Dropout3d(0.2),\n",
    "                nn.Conv3d(24, 20, kernel_size=(1,4,4), stride=1),\n",
    "#     20*10*10\n",
    "                nn.ReLU(inplace=True),\n",
    "                nn.MaxPool3d((1,2,2), stride = (1,2,2)),\n",
    "    #20*5*5\n",
    "                nn.BatchNorm3d(20),\n",
    "                Flatten3d(),\n",
    "                nn.Linear(1500, 500),\n",
    "                nn.Linear(500, 100),\n",
    "                nn.Linear(100, 50),\n",
    "                nn.Linear(50, 10),\n",
    "                nn.LogSoftmax() )\n",
    "\n",
    "fixed_model_3d = fixed_model_3d.type(dtype)\n",
    "x = torch.randn(32,3, 3, 64, 64).type(dtype)\n",
    "x_var = Variable(x).type(dtype) # Construct a PyTorch Variable out of your input data\n",
    "ans = fixed_model_3d(x_var) \n",
    "np.array_equal(np.array(ans.size()), np.array([32, 10]))\n"
   ]
  },
  {
   "cell_type": "markdown",
   "metadata": {},
   "source": [
    "### Describe what you did (5 points)\n",
    "\n",
    "In the cell below you should write an explanation of what you did, any additional features that you implemented, and any visualizations or graphs that you make in the process of training and evaluating your network.\n"
   ]
  },
  {
   "cell_type": "markdown",
   "metadata": {},
   "source": [
    "### 8th TODO Tell us here:\n",
    "\n",
    "I have implemented the best 3 architectures from the image classification and tweaked the parameters corresponding for the 3d by using the strides and kernel sizes accordingly. What I observed was, the training time is more as it involves one more dimension for video. \n",
    "\n",
    "Please find the best architecture below:\n",
    "\n",
    "by considering the frame parameter which is one extra dimension to an image. \n",
    "\n",
    " 1. Conv3d with 32 channels kernel_size=(1,5,5), stride=(1,1,1)\n",
    " 2. Re LU Activation Layer\n",
    " 3. Max pooling 3d with filter size 1,2,2 and stride 1,2,2\n",
    " 4. Batch Normalization Layer\n",
    " 5. Drop out layer with 0.1 percentage\n",
    " 6. Conv3d with 24 channels kernel_size=(1,5,5), stride=(1,1,1)\n",
    " 7. Re LU Activation Layer\n",
    " 8. Max pooling 3d with filter size 1,2,2 and stride 1,2,2\n",
    " 9. Batch Normalization Layer\n",
    " 10. Drop out layer with 0.2 percentage\n",
    " 11. Conv3d with 20 channels kernel_size=(1,4,4), stride=(1,1,1)\n",
    " 12. Re LU Activation Layer\n",
    " 13. Max pooling 3d with filter size 1,2,2 and stride 1,2,2\n",
    " 14. Batch Normalization Layer\n",
    " 15. Flatten 3d\n",
    " 16. Affine layer connecting 1500 to 500\n",
    " 17. Affine layer connecting 500 to 100\n",
    " 18. Affine layer connecting 100 to 50\n",
    " 19. Affine layer connecting 50 to 10\n",
    " 20. Soft max layer\n",
    " \n",
    "The above network gave cross validation accuracy of 69.10%\n",
    "\n",
    "\n",
    "\n",
    "\n"
   ]
  },
  {
   "cell_type": "code",
   "execution_count": 35,
   "metadata": {
    "collapsed": true
   },
   "outputs": [],
   "source": [
    "loss_fn = nn.CrossEntropyLoss().type(dtype)\n",
    "optimizer = optim.RMSprop(fixed_model_3d.parameters(), lr=1e-4)\n"
   ]
  },
  {
   "cell_type": "code",
   "execution_count": 36,
   "metadata": {
    "collapsed": true
   },
   "outputs": [],
   "source": [
    "def train_3d(model, loss_fn, optimizer,dataloader,num_epochs = 1):\n",
    "    for epoch in range(num_epochs):\n",
    "        print('Starting epoch %d / %d' % (epoch + 1, num_epochs))\n",
    "        model.train()\n",
    "        for t, sample in enumerate(dataloader):\n",
    "            x_var = Variable(sample['clip'].type(dtype))\n",
    "            y_var = Variable(sample['Label'].type(dtype).long())\n",
    "\n",
    "            scores = model(x_var)\n",
    "            \n",
    "            loss = loss_fn(scores, y_var)\n",
    "            if (t + 1) % print_every == 0:\n",
    "                print('t = %d, loss = %.4f' % (t + 1, loss.data[0]))\n",
    "\n",
    "            optimizer.zero_grad()\n",
    "            loss.backward()\n",
    "            optimizer.step()\n",
    "\n",
    "def check_accuracy_3d(model, loader):\n",
    "    '''\n",
    "    if loader.dataset.train:\n",
    "        print('Checking accuracy on validation set')\n",
    "    else:\n",
    "        print('Checking accuracy on test set')  \n",
    "    '''\n",
    "    num_correct = 0\n",
    "    num_samples = 0\n",
    "    model.eval() # Put the model in test mode (the opposite of model.train(), essentially)\n",
    "    for t, sample in enumerate(loader):\n",
    "        x_var = Variable(sample['clip'].type(dtype))\n",
    "        y_var = sample['Label'].type(dtype)\n",
    "        y_var=y_var.cpu()\n",
    "        scores = model(x_var)\n",
    "        _, preds = scores.data.cpu().max(1)\n",
    "        #print(preds)\n",
    "        #print(y_var)\n",
    "        num_correct += (preds.numpy() == y_var.numpy()).sum()\n",
    "        num_samples += preds.size(0)\n",
    "    acc = float(num_correct) / num_samples\n",
    "    print('Got %d / %d correct (%.2f)' % (num_correct, num_samples, 100 * acc))"
   ]
  },
  {
   "cell_type": "code",
   "execution_count": null,
   "metadata": {},
   "outputs": [],
   "source": []
  },
  {
   "cell_type": "code",
   "execution_count": 38,
   "metadata": {},
   "outputs": [
    {
     "name": "stdout",
     "output_type": "stream",
     "text": [
      "Starting epoch 1 / 8\n"
     ]
    },
    {
     "name": "stderr",
     "output_type": "stream",
     "text": [
      "/Users/sriramreddy/Downloads/ML/hw6_data/.env/lib/python3.6/site-packages/torch/nn/modules/container.py:91: UserWarning: Implicit dimension choice for log_softmax has been deprecated. Change the call to include dim=X as an argument.\n",
      "  input = module(input)\n",
      "/Users/sriramreddy/Downloads/ML/hw6_data/.env/lib/python3.6/site-packages/ipykernel/__main__.py:13: UserWarning: invalid index of a 0-dim tensor. This will be an error in PyTorch 0.5. Use tensor.item() to convert a 0-dim tensor to a Python number\n"
     ]
    },
    {
     "name": "stdout",
     "output_type": "stream",
     "text": [
      "t = 100, loss = 1.5388\n",
      "t = 200, loss = 1.4160\n",
      "t = 300, loss = 0.9735\n",
      "t = 400, loss = 0.8717\n",
      "Starting epoch 2 / 8\n",
      "t = 100, loss = 1.0365\n",
      "t = 200, loss = 0.8146\n",
      "t = 300, loss = 1.1443\n",
      "t = 400, loss = 0.7251\n",
      "Starting epoch 3 / 8\n",
      "t = 100, loss = 0.2995\n",
      "t = 200, loss = 0.1649\n",
      "t = 300, loss = 0.2752\n",
      "t = 400, loss = 0.3877\n",
      "Starting epoch 4 / 8\n",
      "t = 100, loss = 0.2216\n",
      "t = 200, loss = 0.2135\n",
      "t = 300, loss = 0.2636\n",
      "t = 400, loss = 0.0387\n",
      "Starting epoch 5 / 8\n",
      "t = 100, loss = 0.0989\n",
      "t = 200, loss = 0.3504\n",
      "t = 300, loss = 0.2990\n",
      "t = 400, loss = 0.1520\n",
      "Starting epoch 6 / 8\n",
      "t = 100, loss = 0.1962\n",
      "t = 200, loss = 0.3128\n",
      "t = 300, loss = 0.1248\n",
      "t = 400, loss = 0.0925\n",
      "Starting epoch 7 / 8\n",
      "t = 100, loss = 0.0495\n",
      "t = 200, loss = 0.0629\n",
      "t = 300, loss = 0.0537\n",
      "t = 400, loss = 0.0409\n",
      "Starting epoch 8 / 8\n",
      "t = 100, loss = 0.2107\n",
      "t = 200, loss = 0.1300\n",
      "t = 300, loss = 0.0620\n",
      "t = 400, loss = 0.0609\n",
      "Got 1534 / 2230 correct (68.79)\n"
     ]
    }
   ],
   "source": [
    "torch.cuda.random.manual_seed(12345)\n",
    "fixed_model_3d.apply(reset) \n",
    "fixed_model_3d.train() \n",
    "train_3d(fixed_model_3d, loss_fn, optimizer,clip_dataloader_train, num_epochs=8) \n",
    "fixed_model_3d.eval() \n",
    "check_accuracy_3d(fixed_model_3d, clip_dataloader_val)"
   ]
  },
  {
   "cell_type": "code",
   "execution_count": 40,
   "metadata": {},
   "outputs": [
    {
     "name": "stdout",
     "output_type": "stream",
     "text": [
      "Starting epoch 1 / 3\n"
     ]
    },
    {
     "name": "stderr",
     "output_type": "stream",
     "text": [
      "/Users/sriramreddy/Downloads/ML/hw6_data/.env/lib/python3.6/site-packages/torch/nn/modules/container.py:91: UserWarning: Implicit dimension choice for log_softmax has been deprecated. Change the call to include dim=X as an argument.\n",
      "  input = module(input)\n",
      "/Users/sriramreddy/Downloads/ML/hw6_data/.env/lib/python3.6/site-packages/ipykernel/__main__.py:13: UserWarning: invalid index of a 0-dim tensor. This will be an error in PyTorch 0.5. Use tensor.item() to convert a 0-dim tensor to a Python number\n"
     ]
    },
    {
     "name": "stdout",
     "output_type": "stream",
     "text": [
      "t = 100, loss = 0.4062\n",
      "t = 200, loss = 0.2293\n",
      "t = 300, loss = 0.1897\n",
      "t = 400, loss = 0.2072\n",
      "Starting epoch 2 / 3\n",
      "t = 100, loss = 0.1088\n",
      "t = 200, loss = 0.0010\n",
      "t = 300, loss = 0.0311\n",
      "t = 400, loss = 0.0183\n",
      "Starting epoch 3 / 3\n",
      "t = 100, loss = 0.0063\n",
      "t = 200, loss = 0.1303\n",
      "t = 300, loss = 0.0245\n",
      "t = 400, loss = 0.2597\n"
     ]
    }
   ],
   "source": [
    "train_3d(fixed_model_3d, loss_fn, optimizer,clip_dataloader_train, num_epochs=3) "
   ]
  },
  {
   "cell_type": "code",
   "execution_count": 41,
   "metadata": {},
   "outputs": [
    {
     "name": "stdout",
     "output_type": "stream",
     "text": [
      "Got 1414 / 2230 correct (63.41)\n"
     ]
    },
    {
     "name": "stderr",
     "output_type": "stream",
     "text": [
      "/Users/sriramreddy/Downloads/ML/hw6_data/.env/lib/python3.6/site-packages/torch/nn/modules/container.py:91: UserWarning: Implicit dimension choice for log_softmax has been deprecated. Change the call to include dim=X as an argument.\n",
      "  input = module(input)\n"
     ]
    }
   ],
   "source": [
    "fixed_model_3d.eval() \n",
    "check_accuracy_3d(fixed_model_3d, clip_dataloader_val)"
   ]
  },
  {
   "cell_type": "code",
   "execution_count": 42,
   "metadata": {},
   "outputs": [
    {
     "name": "stdout",
     "output_type": "stream",
     "text": [
      "Starting epoch 1 / 1\n"
     ]
    },
    {
     "name": "stderr",
     "output_type": "stream",
     "text": [
      "/Users/sriramreddy/Downloads/ML/hw6_data/.env/lib/python3.6/site-packages/torch/nn/modules/container.py:91: UserWarning: Implicit dimension choice for log_softmax has been deprecated. Change the call to include dim=X as an argument.\n",
      "  input = module(input)\n",
      "/Users/sriramreddy/Downloads/ML/hw6_data/.env/lib/python3.6/site-packages/ipykernel/__main__.py:13: UserWarning: invalid index of a 0-dim tensor. This will be an error in PyTorch 0.5. Use tensor.item() to convert a 0-dim tensor to a Python number\n"
     ]
    },
    {
     "name": "stdout",
     "output_type": "stream",
     "text": [
      "t = 100, loss = 0.1027\n",
      "t = 200, loss = 0.0166\n",
      "t = 300, loss = 0.0193\n",
      "t = 400, loss = 0.0288\n"
     ]
    }
   ],
   "source": [
    "train_3d(fixed_model_3d, loss_fn, optimizer,clip_dataloader_train, num_epochs=1) "
   ]
  },
  {
   "cell_type": "code",
   "execution_count": 43,
   "metadata": {},
   "outputs": [
    {
     "name": "stdout",
     "output_type": "stream",
     "text": [
      "Got 1541 / 2230 correct (69.10)\n"
     ]
    },
    {
     "name": "stderr",
     "output_type": "stream",
     "text": [
      "/Users/sriramreddy/Downloads/ML/hw6_data/.env/lib/python3.6/site-packages/torch/nn/modules/container.py:91: UserWarning: Implicit dimension choice for log_softmax has been deprecated. Change the call to include dim=X as an argument.\n",
      "  input = module(input)\n"
     ]
    }
   ],
   "source": [
    "fixed_model_3d.eval() \n",
    "check_accuracy_3d(fixed_model_3d, clip_dataloader_val)"
   ]
  },
  {
   "cell_type": "markdown",
   "metadata": {
    "collapsed": true
   },
   "source": [
    "Test your 3d convolution model on the validation set. You don't need to submit the result of this part to kaggle.  "
   ]
  },
  {
   "cell_type": "markdown",
   "metadata": {
    "collapsed": true
   },
   "source": [
    "Test your model on the test set, predict_on_test_3d() will generate a file named 'results_3d.csv'. Please submit the csv file to kaggle https://www.kaggle.com/c/cse512springhw3video\n",
    "The highest 3 entries get extra 10 points.\n"
   ]
  },
  {
   "cell_type": "code",
   "execution_count": 5,
   "metadata": {},
   "outputs": [
    {
     "data": {
      "image/png": "[encoded data removed]",
      "text/plain": [
       "<IPython.core.display.Image object>"
      ]
     },
     "execution_count": 5,
     "metadata": {},
     "output_type": "execute_result"
    }
   ],
   "source": [
    "Image('/Users/sriramreddy/Desktop/video_result.png')"
   ]
  },
  {
   "cell_type": "code",
   "execution_count": 44,
   "metadata": {},
   "outputs": [
    {
     "name": "stdout",
     "output_type": "stream",
     "text": [
      "3270\n"
     ]
    },
    {
     "name": "stderr",
     "output_type": "stream",
     "text": [
      "/Users/sriramreddy/Downloads/ML/hw6_data/.env/lib/python3.6/site-packages/torch/nn/modules/container.py:91: UserWarning: Implicit dimension choice for log_softmax has been deprecated. Change the call to include dim=X as an argument.\n",
      "  input = module(input)\n"
     ]
    }
   ],
   "source": [
    "def predict_on_test_3d(model, loader):\n",
    "    '''\n",
    "    if loader.dataset.train:\n",
    "        print('Checking accuracy on validation set')\n",
    "    else:\n",
    "        print('Checking accuracy on test set')  \n",
    "    '''\n",
    "    num_correct = 0\n",
    "    num_samples = 0\n",
    "    model.eval() # Put the model in test mode (the opposite of model.train(), essentially)\n",
    "    results=open('results_3d_2.csv','w')\n",
    "    count=0\n",
    "    results.write('Id'+','+'Class'+'\\n')\n",
    "    for t, sample in enumerate(loader):\n",
    "        x_var = Variable(sample['clip'].type(dtype))\n",
    "        scores = model(x_var)\n",
    "        _, preds = scores.data.max(1)\n",
    "        for i in range(len(preds)):\n",
    "            results.write(str(count)+','+str(preds[i])+'\\n')\n",
    "            count+=1\n",
    "    results.close()\n",
    "    return count\n",
    "    \n",
    "count=predict_on_test_3d(fixed_model_3d, clip_dataloader_test)\n",
    "print(count)"
   ]
  },
  {
   "cell_type": "code",
   "execution_count": 46,
   "metadata": {},
   "outputs": [
    {
     "name": "stderr",
     "output_type": "stream",
     "text": [
      "/Users/sriramreddy/Downloads/ML/hw6_data/.env/lib/python3.6/site-packages/torch/nn/modules/container.py:91: UserWarning: Implicit dimension choice for log_softmax has been deprecated. Change the call to include dim=X as an argument.\n",
      "  input = module(input)\n"
     ]
    },
    {
     "data": {
      "text/plain": [
       "True"
      ]
     },
     "execution_count": 46,
     "metadata": {},
     "output_type": "execute_result"
    }
   ],
   "source": [
    "fixed_model_3d = nn.Sequential( # You fill this in!\n",
    "    ###############7th TODO (20 points)#########################\n",
    " nn.Conv3d(3, 32, kernel_size=(1,3,3), stride=1),\n",
    "#     32*62*62\n",
    "                nn.ReLU(inplace=True),\n",
    "     nn.Conv3d(32, 32, kernel_size=(1,5,5), stride=1),\n",
    "    nn.ReLU(inplace=True),\n",
    "    #32*58*58\n",
    "                nn.MaxPool3d((1,3,3), stride = (1,1,1)),\n",
    "#32*56*56\n",
    "                nn.BatchNorm3d(32),\n",
    "                nn.Dropout3d(0.1),\n",
    "                nn.Conv3d(32, 24, kernel_size=(1,5,5), stride=1),\n",
    "    #24*52*52\n",
    "                nn.ReLU(inplace=True),\n",
    "                nn.MaxPool3d((1,2,2), stride = (1,2,2)),\n",
    "                nn.BatchNorm3d(24),\n",
    "    #24*26*26\n",
    "                nn.Dropout3d(0.2),\n",
    "                nn.Conv3d(24, 10, kernel_size=(1,5,5), stride=1),\n",
    "#     10*22*22\n",
    "                nn.ReLU(inplace=True),\n",
    "                nn.MaxPool3d((1,2,2), stride = (1,2,2)),\n",
    "    #10*11*11*3\n",
    "                nn.BatchNorm3d(10),    \n",
    "                Flatten3d(),\n",
    "                nn.Linear(3630, 500),\n",
    "                nn.Linear(500, 100),\n",
    "                nn.Linear(100, 50),\n",
    "                nn.Linear(50, 10),\n",
    "                nn.LogSoftmax())\n",
    "\n",
    "fixed_model_3d = fixed_model_3d.type(dtype)\n",
    "x = torch.randn(32,3, 3, 64, 64).type(dtype)\n",
    "x_var = Variable(x).type(dtype) # Construct a PyTorch Variable out of your input data\n",
    "ans = fixed_model_3d(x_var) \n",
    "np.array_equal(np.array(ans.size()), np.array([32, 10]))"
   ]
  },
  {
   "cell_type": "code",
   "execution_count": 49,
   "metadata": {},
   "outputs": [],
   "source": [
    "# t = 100, loss = 2.3200\n",
    "# t = 200, loss = 2.3111\n",
    "# t = 300, loss = 2.2980\n",
    "# t = 400, loss = 2.3177\n",
    "torch.cuda.random.manual_seed(12345)\n",
    "fixed_model_3d.apply(reset) \n",
    "fixed_model_3d.train() \n",
    "train_3d(fixed_model_3d, loss_fn, optimizer,clip_dataloader_train, num_epochs=8) \n",
    "fixed_model_3d.eval() \n",
    "check_accuracy_3d(fixed_model_3d, clip_dataloader_val)"
   ]
  },
  {
   "cell_type": "code",
   "execution_count": null,
   "metadata": {
    "collapsed": true
   },
   "outputs": [],
   "source": []
  },
  {
   "cell_type": "code",
   "execution_count": null,
   "metadata": {
    "collapsed": true
   },
   "outputs": [],
   "source": [
    "count=predict_on_test_3d(fixed_model_3d, clip_dataloader_test)\n",
    "print(count)"
   ]
  },
  {
   "cell_type": "code",
   "execution_count": 48,
   "metadata": {},
   "outputs": [
    {
     "name": "stdout",
     "output_type": "stream",
     "text": [
      "Got 167 / 2230 correct (7.49)\n"
     ]
    },
    {
     "name": "stderr",
     "output_type": "stream",
     "text": [
      "/Users/sriramreddy/Downloads/ML/hw6_data/.env/lib/python3.6/site-packages/torch/nn/modules/container.py:91: UserWarning: Implicit dimension choice for log_softmax has been deprecated. Change the call to include dim=X as an argument.\n",
      "  input = module(input)\n"
     ]
    }
   ],
   "source": [
    "check_accuracy_3d(fixed_model_3d, clip_dataloader_val)"
   ]
  },
  {
   "cell_type": "code",
   "execution_count": null,
   "metadata": {
    "collapsed": true
   },
   "outputs": [],
   "source": [
    "fixed_model_3d = nn.Sequential( # You fill this in!\n",
    "    ###############7th TODO (20 points)#########################\n",
    "    nn.Conv3d(3, 32, kernel_size=(1,3,3), stride=1),\n",
    "#     32*62*62\n",
    "                nn.ReLU(inplace=True),\n",
    "                nn.MaxPool3d((1,2,2), stride = (1,2,2)),\n",
    "    #32*31*31\n",
    "                nn.BatchNorm3d(32),\n",
    "                nn.Dropout3d(0.1),\n",
    "                nn.Conv3d(32, 24, kernel_size=(1,5,5), stride=1),\n",
    "    #24*26*26\n",
    "                nn.ReLU(inplace=True),\n",
    "                nn.MaxPool3d((1,2,2), stride = (1,2,2)),\n",
    "                nn.BatchNorm3d(24),\n",
    "    #24*13*13\n",
    "                nn.Dropout3d(0.2),\n",
    "                nn.Conv3d(24, 20, kernel_size=(1,4,4), stride=1),\n",
    "#     20*10*10\n",
    "                nn.ReLU(inplace=True),\n",
    "                nn.MaxPool3d((1,2,2), stride = (1,2,2)),\n",
    "    #20*5*5\n",
    "                nn.BatchNorm3d(20),\n",
    "                Flatten3d(),\n",
    "                nn.Linear(1500, 500),\n",
    "                nn.Linear(500, 100),\n",
    "                nn.Linear(100, 50),\n",
    "                nn.Linear(50, 10),\n",
    "                nn.LogSoftmax() )\n",
    "    \n",
    "    \n",
    "    \n",
    "    \n",
    " nn.Conv3d(3, 32, kernel_size=(1,3,3), stride=1),\n",
    "#     32*62*62\n",
    "                nn.ReLU(inplace=True),\n",
    "     nn.Conv3d(32, 32, kernel_size=(1,5,5), stride=1),\n",
    "    nn.ReLU(inplace=True),\n",
    "    #32*58*58\n",
    "                nn.MaxPool3d((1,3,3), stride = (1,1,1)),\n",
    "#32*56*56\n",
    "                nn.BatchNorm3d(32),\n",
    "                nn.Dropout3d(0.1),\n",
    "                nn.Conv3d(32, 24, kernel_size=(1,5,5), stride=1),\n",
    "    #24*52*52\n",
    "                nn.ReLU(inplace=True),\n",
    "                nn.MaxPool3d((1,2,2), stride = (1,2,2)),\n",
    "                nn.BatchNorm3d(24),\n",
    "    #24*26*26\n",
    "                nn.Dropout3d(0.2),\n",
    "                nn.Conv3d(24, 10, kernel_size=(1,5,5), stride=1),\n",
    "#     10*22*22\n",
    "                nn.ReLU(inplace=True),\n",
    "                nn.MaxPool3d((1,2,2), stride = (1,2,2)),\n",
    "    #10*11*11*3\n",
    "                nn.BatchNorm3d(10),    \n",
    "                Flatten3d(),\n",
    "                nn.Linear(3630, 500),\n",
    "                nn.Linear(500, 100),\n",
    "                nn.Linear(100, 50),\n",
    "                nn.Linear(50, 10),\n",
    "                nn.LogSoftmax())\n",
    "\n",
    "fixed_model_3d = fixed_model_3d.type(dtype)\n",
    "x = torch.randn(32,3, 3, 64, 64).type(dtype)\n",
    "x_var = Variable(x).type(dtype) # Construct a PyTorch Variable out of your input data\n",
    "ans = fixed_model_3d(x_var) \n",
    "np.array_equal(np.array(ans.size()), np.array([32, 10]))"
   ]
  },
  {
   "cell_type": "code",
   "execution_count": null,
   "metadata": {
    "collapsed": true
   },
   "outputs": [],
   "source": []
  },
  {
   "cell_type": "code",
   "execution_count": 56,
   "metadata": {},
   "outputs": [
    {
     "name": "stdout",
     "output_type": "stream",
     "text": [
      "Starting epoch 1 / 1\n"
     ]
    },
    {
     "name": "stderr",
     "output_type": "stream",
     "text": [
      "/Users/sriramreddy/Downloads/ML/hw6_data/.env/lib/python3.6/site-packages/torch/nn/modules/container.py:91: UserWarning: Implicit dimension choice for log_softmax has been deprecated. Change the call to include dim=X as an argument.\n",
      "  input = module(input)\n",
      "/Users/sriramreddy/Downloads/ML/hw6_data/.env/lib/python3.6/site-packages/ipykernel/__main__.py:13: UserWarning: invalid index of a 0-dim tensor. This will be an error in PyTorch 0.5. Use tensor.item() to convert a 0-dim tensor to a Python number\n"
     ]
    },
    {
     "name": "stdout",
     "output_type": "stream",
     "text": [
      "t = 100, loss = 2.3164\n",
      "t = 200, loss = 2.2735\n",
      "t = 300, loss = 2.3118\n",
      "t = 400, loss = 2.2758\n",
      "Got 349 / 2230 correct (15.65)\n"
     ]
    }
   ],
   "source": [
    "fixed_model_3d =  nn.Sequential(     \n",
    "    nn.Conv3d(3, 32, kernel_size=(1,3,3), stride=1),\n",
    "    nn.ReLU(inplace=True),\n",
    "    nn.Conv3d(32, 32, kernel_size=(1,3,3), stride=1),\n",
    "    nn.ReLU(inplace=True),  \n",
    "#     32*60*60\n",
    "                nn.MaxPool3d((1,2,2), stride = (1,2,2)),\n",
    "    #32*30*30\n",
    "            nn.BatchNorm3d(32),\n",
    "                nn.Dropout3d(0.1),\n",
    "                nn.Conv3d(32, 64, kernel_size=(1,3,3), stride=1),\n",
    "    #64*28*28\n",
    "                nn.ReLU(inplace=True),\n",
    "                nn.MaxPool3d((1,2,2), stride = (1,2,2)),\n",
    "                nn.BatchNorm3d(64),\n",
    "    #64*14*14\n",
    "                nn.Dropout3d(0.2),\n",
    "                nn.Conv3d(64, 128, kernel_size=(1,5,5), stride=1),\n",
    "#     128*10*10\n",
    "                nn.ReLU(inplace=True),\n",
    "                nn.MaxPool3d((1,2,2), stride=(1,2,2)),\n",
    "    #128*5*5\n",
    "                nn.BatchNorm3d(128),\n",
    "                Flatten3d(),\n",
    "                nn.Linear(9600, 1000),\n",
    "                nn.ReLU(inplace=True),\n",
    "                nn.Dropout3d(0.1),\n",
    "                nn.Linear(1000, 10),\n",
    "                nn.ReLU(inplace=True),\n",
    "                nn.LogSoftmax())\n",
    "    \n",
    "    \n",
    "torch.cuda.random.manual_seed(12345)\n",
    "fixed_model_3d.apply(reset) \n",
    "fixed_model_3d.train() \n",
    "train_3d(fixed_model_3d, loss_fn, optimizer,clip_dataloader_train, num_epochs=1) \n",
    "fixed_model_3d.eval() \n",
    "check_accuracy_3d(fixed_model_3d, clip_dataloader_val)"
   ]
  },
  {
   "cell_type": "code",
   "execution_count": 58,
   "metadata": {},
   "outputs": [],
   "source": [
    "train_3d(fixed_model_3d, loss_fn, optimizer,clip_dataloader_train, num_epochs=8) \n",
    "fixed_model_3d.eval() \n",
    "check_accuracy_3d(fixed_model_3d, clip_dataloader_val)\n",
    "\n",
    "# t = 100, loss = 2.3102\n",
    "# t = 200, loss = 2.2599\n",
    "# t = 300, loss = 2.2938\n",
    "# t = 400, loss = 2.2512\n",
    "# Starting epoch 2 / 8\n",
    "# t = 100, loss = 2.2931\n",
    "# t = 200, loss = 2.3002\n",
    "# t = 300, loss = 2.2783\n",
    "# t = 400, loss = 2.3208\n",
    "# Starting epoch 3 / 8\n",
    "# t = 100, loss = 2.3123\n",
    "# t = 200, loss = 2.3170\n",
    "# t = 300, loss = 2.2825"
   ]
  },
  {
   "cell_type": "code",
   "execution_count": 59,
   "metadata": {
    "collapsed": true
   },
   "outputs": [],
   "source": [
    "# Some how the same Resnet model is not decreasing.\n",
    "# Earlier model behaves way better."
   ]
  },
  {
   "cell_type": "code",
   "execution_count": null,
   "metadata": {
    "collapsed": true
   },
   "outputs": [],
   "source": []
  },
  {
   "cell_type": "code",
   "execution_count": null,
   "metadata": {
    "collapsed": true
   },
   "outputs": [],
   "source": []
  }
 ],
 "metadata": {
  "kernelspec": {
   "display_name": "Python 3",
   "language": "python",
   "name": "python3"
  },
  "language_info": {
   "codemirror_mode": {
    "name": "ipython",
    "version": 3
   },
   "file_extension": ".py",
   "mimetype": "text/x-python",
   "name": "python",
   "nbconvert_exporter": "python",
   "pygments_lexer": "ipython3",
   "version": "3.6.6"
  }
 },
 "nbformat": 4,
 "nbformat_minor": 1
}
