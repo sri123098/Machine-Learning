{
 "cells": [
  {
   "cell_type": "markdown",
   "metadata": {},
   "source": [
    "# Sequence Classification using Recurrent Neural Networks(RNN)\n",
    "In this homework, you will learn how to train a recurrent neural network for human action classification. RNN is designed handle sequential data. The network can incorporate both past history and current input. [This](http://colah.github.io/posts/2015-08-Understanding-LSTMs/) is a very good tutorial. You should read it before you start."
   ]
  },
  {
   "cell_type": "markdown",
   "metadata": {},
   "source": [
    "## Setup\n",
    "Please make sure you have h5py and torchnet installed\n",
    "> pip install h5py\n",
    "\n",
    "> pip install git+https://github.com/pytorch/tnt.git@master\n"
   ]
  },
  {
   "cell_type": "code",
   "execution_count": 2,
   "metadata": {
    "collapsed": false
   },
   "outputs": [],
   "source": [
    "# !pip install torchnet"
   ]
  },
  {
   "cell_type": "code",
   "execution_count": 1,
   "metadata": {
    "collapsed": false
   },
   "outputs": [
    {
     "name": "stdout",
     "output_type": "stream",
     "text": [
      "use cuda: False\n"
     ]
    }
   ],
   "source": [
    "import os\n",
    "import numpy as np\n",
    "import h5py\n",
    "\n",
    "import torch\n",
    "import torch.nn as nn\n",
    "from torch.autograd import Variable\n",
    "import torch.utils.data as DD\n",
    "import torchnet as tnt\n",
    "\n",
    "use_cuda = torch.cuda.is_available()\n",
    "print('use cuda: %s'%(use_cuda))\n",
    "FloatTensor = torch.cuda.FloatTensor if use_cuda else torch.FloatTensor\n",
    "LongTensor = torch.cuda.LongTensor if use_cuda else torch.LongTensor\n",
    "ByteTensor = torch.cuda.ByteTensor if use_cuda else torch.ByteTensor\n"
   ]
  },
  {
   "cell_type": "markdown",
   "metadata": {},
   "source": [
    "## Dataset\n",
    "The data we are using is skeleton data, which indicates the 3D locations of body joints. In total, there are 25 body joints. It is collected by Kinect v2. To make it easier, each sequence have same number of frames. You need to classify 10 different actions. There are 2000 training sequences, 400 validation sequences, and 500 test sequences. Each sequence has 15 frames, each frame is a 75-dimension vector (3*25).\n",
    "\n",
    "For your convenience, we provide the dataloader for you.\n"
   ]
  },
  {
   "cell_type": "code",
   "execution_count": 2,
   "metadata": {
    "collapsed": true
   },
   "outputs": [],
   "source": [
    "class Dataset(DD.Dataset):\n",
    "    # subset can be: 'train', 'val', 'test'\n",
    "    def __init__(self, data_path, subset='train'):\n",
    "        super(Dataset, self).__init__()\n",
    "        self.data_path = os.path.join(data_path, '%s_data.h5'%subset)\n",
    "        self.subset = subset\n",
    "\n",
    "        with h5py.File(self.data_path) as f:\n",
    "            self.data = np.array(f['data'])\n",
    "\n",
    "        if subset != 'test':\n",
    "            self.label_path = os.path.join(data_path, '%s_label.h5'%subset)\n",
    "            with h5py.File(self.label_path) as f:\n",
    "                self.label = np.array(f['label'])\n",
    "\n",
    "        self.num_sequences = self.data.shape[0]\n",
    "        self.seq_len = self.data.shape[1]\n",
    "        self.n_dim = self.data.shape[2]\n",
    "\n",
    "    def __getitem__(self, index):\n",
    "        seq = self.data[index]\n",
    "        if self.subset != 'test':\n",
    "            label = int(self.label[index])\n",
    "            sample = {'seq': seq, 'label': label}\n",
    "        else:\n",
    "            sample = {'seq': seq}\n",
    "        return sample\n",
    "\n",
    "    def __len__(self):\n",
    "        return self.num_sequences\n",
    "\n",
    "trSet = Dataset('./all', subset='train')\n",
    "valSet = Dataset('./all', subset='val')\n",
    "tstSet = Dataset('./all', subset='test')\n",
    "\n",
    "batch_size = 50\n",
    "trLD = DD.DataLoader(trSet, batch_size=batch_size,\n",
    "       sampler=DD.sampler.RandomSampler(trSet),\n",
    "       num_workers=2, pin_memory=False)\n",
    "valLD = DD.DataLoader(valSet, batch_size=batch_size,\n",
    "       sampler=DD.sampler.SequentialSampler(valSet),\n",
    "       num_workers=1, pin_memory=False)\n",
    "tstLD = DD.DataLoader(tstSet, batch_size=batch_size,\n",
    "       sampler=DD.sampler.SequentialSampler(tstSet),\n",
    "       num_workers=1, pin_memory=False)\n",
    "\n",
    "input_dim = trSet.n_dim\n",
    "num_class = 10"
   ]
  },
  {
   "cell_type": "markdown",
   "metadata": {},
   "source": [
    "## Model\n",
    "Pytorch has implemented different types of recurrent layers for you. For this homework, you can use any type of RNNs as you want:\n",
    "> torch.nn.RNN()\n",
    "\n",
    "> torch.nn.LSTM()\n",
    "\n",
    "> torch.nn.GRU()\n",
    "\n",
    "You can check details for different types of recurrent layers here: [RNN](http://pytorch.org/docs/master/nn.html#torch.nn.RNN), [LSTM]( http://pytorch.org/docs/master/nn.html#torch.nn.LSTM), [GRU](http://pytorch.org/docs/master/nn.html#torch.nn.GRU)\n",
    "\n",
    "\n",
    "### Implement a specific model\n",
    "In this section, you need to implement a model for sequence classification. The model has following layers:\n",
    "* A linear layer that can map features of 75-dimension to 100-dimension.\n",
    "* 1 Layer LSTM layer with hidden size of 100\n",
    "* A linear layer that goes from 100 to num_class (10). \n",
    "\n",
    "An LSTM layer takes an input of size of (batch_size, seq_len, fea_dim) and outputs a variable of shape (batch_size, seq_len, hidden_size). In this homework, the classification score for a sequence is the classification score for the last step of rnn_outputs.\n",
    "\n"
   ]
  },
  {
   "cell_type": "code",
   "execution_count": 3,
   "metadata": {
    "collapsed": false
   },
   "outputs": [],
   "source": [
    "# sequence classification model\n",
    "class SequenceClassify(nn.Module):\n",
    "    def __init__(self):\n",
    "        super(SequenceClassify, self).__init__()\n",
    "        \n",
    "        ############## 1st To Do (10 points) ##############\n",
    "#         self.lstm = nn.LSTM(self.input_dim, self.hidden_dim, self.num_layers)\n",
    "        ###################################################\n",
    "#         self.lstm = nn.LSTM(self.input_dim, self.hidden_dim, self.num_layers)\n",
    "        self.project_layer = torch.nn.Linear(75,100)\n",
    "        self.recurrent_layer = torch.nn.LSTM(hidden_size = 100, input_size = 100)\n",
    "        self.classify_layer = torch.nn.Linear(100,10)\n",
    "        ###################################################\n",
    "    \n",
    "    # the size of input is [batch_size, seq_len(15), input_dim(75)]\n",
    "    # the size of logits is [batch_size, num_class]\n",
    "    def forward(self, input, h_t_1=None, c_t_1=None):\n",
    "        # the size of rnn_outputs is [batch_size, seq_len, rnn_size]\n",
    "        rnn_outputs, (hn, cn) = self.recurrent_layer(self.project_layer(input))\n",
    "        # classify the last step of rnn_outpus\n",
    "        # the size of logits is [batch_size, num_class]\n",
    "        logits = self.classify_layer(rnn_outputs[:,-1])\n",
    "        return logits\n",
    "\n",
    "model = SequenceClassify()"
   ]
  },
  {
   "cell_type": "markdown",
   "metadata": {},
   "source": [
    "## Train the model\n",
    "After you have the dataloader and model, you can start training the model. Define a SGD optimizer with learning rate of 1e-3, and a cross-entropy loss function:"
   ]
  },
  {
   "cell_type": "code",
   "execution_count": 4,
   "metadata": {
    "collapsed": true
   },
   "outputs": [],
   "source": [
    "################ 2nd To Do  (5 points)##################\n",
    "optimizer = torch.optim.SGD(model.parameters(), lr = 1e-2)\n",
    "criterion = torch.nn.CrossEntropyLoss()"
   ]
  },
  {
   "cell_type": "code",
   "execution_count": 5,
   "metadata": {
    "collapsed": false
   },
   "outputs": [
    {
     "name": "stdout",
     "output_type": "stream",
     "text": [
      "train Epoch: 0  , Loss: 2.3078,  Accuracy: 10.65\n"
     ]
    },
    {
     "name": "stderr",
     "output_type": "stream",
     "text": [
      "/Users/sriramreddy/Downloads/ML/hw7_data/.env/lib/python3.6/site-packages/ipykernel/__main__.py:31: UserWarning: invalid index of a 0-dim tensor. This will be an error in PyTorch 0.5. Use tensor.item() to convert a 0-dim tensor to a Python number\n"
     ]
    },
    {
     "name": "stdout",
     "output_type": "stream",
     "text": [
      "val Epoch: 0  , Loss: 2.3016,  Accuracy: 12.50\n"
     ]
    }
   ],
   "source": [
    "# run the model for one epoch\n",
    "# can be used for both training or validation model\n",
    "def run_epoch(data_loader, model, criterion, epoch, is_training, optimizer=None):\n",
    "    if is_training:\n",
    "        model.train()\n",
    "        logger_prefix = 'train'\n",
    "    else:\n",
    "        model.eval()\n",
    "        logger_prefix = 'val'\n",
    "\n",
    "    confusion_matrix = tnt.meter.ConfusionMeter(num_class)\n",
    "    acc = tnt.meter.ClassErrorMeter(accuracy=True)\n",
    "    meter_loss = tnt.meter.AverageValueMeter()\n",
    "\n",
    "    for batch_idx, sample in enumerate(data_loader):\n",
    "        sequence = sample['seq']\n",
    "        label = sample['label']\n",
    "        input_sequence_var = Variable(sequence).type(FloatTensor)\n",
    "        input_label_var = Variable(label).type(LongTensor)\n",
    "\n",
    "        # compute output\n",
    "        # output_logits: [batch_size, num_class]\n",
    "        output_logits = model(input_sequence_var)\n",
    "        loss = criterion(output_logits, input_label_var)\n",
    "\n",
    "        if is_training:\n",
    "            optimizer.zero_grad()\n",
    "            loss.backward()\n",
    "            optimizer.step()\n",
    "\n",
    "        meter_loss.add(loss.data[0])\n",
    "        acc.add(output_logits.data, input_label_var.data)\n",
    "        confusion_matrix.add(output_logits.data, input_label_var.data)\n",
    "\n",
    "\n",
    "    print('%s Epoch: %d  , Loss: %.4f,  Accuracy: %.2f'%(logger_prefix, epoch, meter_loss.value()[0], acc.value()[0]))\n",
    "    return acc.value()[0]\n",
    "\n",
    "num_epochs = 1\n",
    "evaluate_every_epoch = 5\n",
    "for e in range(num_epochs):\n",
    "    run_epoch(trLD, model, criterion, e, True, optimizer)\n",
    "    if e % evaluate_every_epoch == 0:\n",
    "        run_epoch(valLD, model, criterion, e, False, None)   \n"
   ]
  },
  {
   "cell_type": "markdown",
   "metadata": {},
   "source": [
    "## Submit your results on Kaggle\n",
    "\n",
    "### Train a better model for action recognition!\n",
    "Now it's your job to experiment with architectures, hyperparameters, loss functions, and optimizers to train a model that achieves better accuracy on the action recognition validation set.\n",
    "\n",
    "\n",
    "### Testing the model and submit on Kaggle\n",
    "Testing the model on the testing set and save the results as a .csv file. \n",
    "Please submitted the results.csv file generated by predict_on_test() to Kaggle(https://www.kaggle.com/t/934b80879bd741e6ac1967195604d4d9) to see how well your network performs on the test set. \n",
    "################ 3rd To Do  (20 points, the highest 3 entries get extra 10 points) ###############\n"
   ]
  },
  {
   "cell_type": "code",
   "execution_count": 18,
   "metadata": {
    "collapsed": false
   },
   "outputs": [
    {
     "name": "stdout",
     "output_type": "stream",
     "text": [
      "train Epoch: 0  , Loss: 2.2288,  Accuracy: 13.65\n"
     ]
    },
    {
     "name": "stderr",
     "output_type": "stream",
     "text": [
      "/Users/sriramreddy/Downloads/ML/hw7_data/.env/lib/python3.6/site-packages/ipykernel/__main__.py:31: UserWarning: invalid index of a 0-dim tensor. This will be an error in PyTorch 0.5. Use tensor.item() to convert a 0-dim tensor to a Python number\n"
     ]
    },
    {
     "name": "stdout",
     "output_type": "stream",
     "text": [
      "val Epoch: 0  , Loss: 1.9894,  Accuracy: 18.25\n",
      "train Epoch: 1  , Loss: 1.9574,  Accuracy: 19.05\n",
      "train Epoch: 2  , Loss: 1.8405,  Accuracy: 23.65\n",
      "train Epoch: 3  , Loss: 1.6649,  Accuracy: 32.85\n",
      "train Epoch: 4  , Loss: 1.4527,  Accuracy: 43.45\n",
      "train Epoch: 5  , Loss: 1.3188,  Accuracy: 50.70\n",
      "val Epoch: 5  , Loss: 1.1941,  Accuracy: 55.75\n",
      "train Epoch: 6  , Loss: 1.1266,  Accuracy: 58.25\n",
      "train Epoch: 7  , Loss: 1.1664,  Accuracy: 55.40\n",
      "train Epoch: 8  , Loss: 1.0062,  Accuracy: 61.90\n",
      "train Epoch: 9  , Loss: 0.9641,  Accuracy: 62.20\n",
      "train Epoch: 10  , Loss: 0.9167,  Accuracy: 65.80\n",
      "val Epoch: 10  , Loss: 0.9578,  Accuracy: 69.50\n",
      "train Epoch: 11  , Loss: 0.8660,  Accuracy: 68.30\n",
      "train Epoch: 12  , Loss: 0.8510,  Accuracy: 68.65\n",
      "train Epoch: 13  , Loss: 0.7537,  Accuracy: 72.90\n",
      "train Epoch: 14  , Loss: 0.6984,  Accuracy: 74.60\n",
      "train Epoch: 15  , Loss: 0.6989,  Accuracy: 73.90\n",
      "val Epoch: 15  , Loss: 0.8273,  Accuracy: 73.75\n",
      "train Epoch: 16  , Loss: 0.6573,  Accuracy: 76.65\n",
      "train Epoch: 17  , Loss: 0.6430,  Accuracy: 77.35\n",
      "train Epoch: 18  , Loss: 0.6169,  Accuracy: 78.15\n",
      "train Epoch: 19  , Loss: 0.5643,  Accuracy: 80.00\n"
     ]
    }
   ],
   "source": [
    "class SequenceClassify(nn.Module):\n",
    "    def __init__(self):\n",
    "        super(SequenceClassify, self).__init__()\n",
    "        ############## 1st To Do (20 points) ##############\n",
    "        ###################################################\n",
    "# self.project_layer = torch.nn.Linear(75,100)\n",
    "# self.recurrent_layer = torch.nn.LSTM(hidden_size = 100, input_size = 100)\n",
    "# self.classify_layer = torch.nn.Linear(100,10)\n",
    "        self.recurrent_layer = nn.LSTM(hidden_size = 150, input_size = 75,num_layers=2,dropout=0.3, batch_first=True, bidirectional=True)\n",
    "        self.recurrent_layer2 = nn.LSTM(hidden_size = 150, input_size = 300,num_layers=4,dropout=0.3, batch_first=True, bidirectional=True)\n",
    "        self.project_layer = nn.Linear(300, 10)\n",
    "        ###################################################\n",
    "    \n",
    "    # the size of input is [batch_size, seq_len(15), input_dim(75)]\n",
    "    # the size of logits is [batch_size, num_class]\n",
    "    def forward(self, input, h_t_1=None, c_t_1=None):\n",
    "        # the size of rnn_outputs is [batch_size, seq_len, rnn_size]\n",
    "        rnn_outputs, (hn, cn) = self.recurrent_layer(input)\n",
    "        rnn_outputs, (hn, cn) = self.recurrent_layer2(rnn_outputs)\n",
    "        # classify the last step of rnn_outpus\n",
    "        # the size of logits is [batch_size, num_class]\n",
    "        logits = self.project_layer(rnn_outputs[:,-1])\n",
    "        return logits\n",
    "\n",
    "num_epochs = 20\n",
    "model=SequenceClassify()\n",
    "optimizer = torch.optim.Adam(model.parameters(), lr = 1e-3)\n",
    "criterion = torch.nn.CrossEntropyLoss()\n",
    "\n",
    "evaluate_every_epoch = 5\n",
    "for e in range(num_epochs):\n",
    "    run_epoch(trLD, model, criterion, e, True, optimizer)\n",
    "    if e % evaluate_every_epoch == 0:\n",
    "        run_epoch(valLD, model, criterion, e, False, None)\n",
    "\n"
   ]
  },
  {
   "cell_type": "code",
   "execution_count": 42,
   "metadata": {
    "collapsed": false
   },
   "outputs": [
    {
     "name": "stdout",
     "output_type": "stream",
     "text": [
      "val Epoch: 9  , Loss: 0.8953,  Accuracy: 79.25\n"
     ]
    },
    {
     "name": "stderr",
     "output_type": "stream",
     "text": [
      "/Users/sriramreddy/Downloads/ML/hw7_data/.env/lib/python3.6/site-packages/ipykernel/__main__.py:31: UserWarning: invalid index of a 0-dim tensor. This will be an error in PyTorch 0.5. Use tensor.item() to convert a 0-dim tensor to a Python number\n"
     ]
    },
    {
     "data": {
      "text/plain": [
       "79.25"
      ]
     },
     "execution_count": 42,
     "metadata": {},
     "output_type": "execute_result"
    }
   ],
   "source": [
    "# This model is what I'm running right now. \n",
    "run_epoch(valLD, model, criterion, e, False, None)\n"
   ]
  },
  {
   "cell_type": "code",
   "execution_count": 41,
   "metadata": {
    "collapsed": false
   },
   "outputs": [
    {
     "name": "stdout",
     "output_type": "stream",
     "text": [
      "train Epoch: 0  , Loss: 0.1364,  Accuracy: 95.40\n"
     ]
    },
    {
     "name": "stderr",
     "output_type": "stream",
     "text": [
      "/Users/sriramreddy/Downloads/ML/hw7_data/.env/lib/python3.6/site-packages/ipykernel/__main__.py:31: UserWarning: invalid index of a 0-dim tensor. This will be an error in PyTorch 0.5. Use tensor.item() to convert a 0-dim tensor to a Python number\n"
     ]
    },
    {
     "name": "stdout",
     "output_type": "stream",
     "text": [
      "val Epoch: 0  , Loss: 0.9748,  Accuracy: 77.75\n",
      "train Epoch: 1  , Loss: 0.1095,  Accuracy: 96.05\n",
      "train Epoch: 2  , Loss: 0.1093,  Accuracy: 96.50\n",
      "train Epoch: 3  , Loss: 0.1807,  Accuracy: 93.50\n",
      "train Epoch: 4  , Loss: 0.1233,  Accuracy: 95.45\n",
      "train Epoch: 5  , Loss: 0.1485,  Accuracy: 94.40\n",
      "val Epoch: 5  , Loss: 1.1432,  Accuracy: 75.00\n",
      "train Epoch: 6  , Loss: 0.1669,  Accuracy: 94.35\n",
      "train Epoch: 7  , Loss: 0.1842,  Accuracy: 93.85\n",
      "train Epoch: 8  , Loss: 0.1596,  Accuracy: 94.95\n",
      "train Epoch: 9  , Loss: 0.1091,  Accuracy: 96.40\n"
     ]
    }
   ],
   "source": [
    "for e in range(10):\n",
    "    run_epoch(trLD, model, criterion, e, True, optimizer)\n",
    "    if e % evaluate_every_epoch == 0:\n",
    "        run_epoch(valLD, model, criterion, e, False, None)\n",
    "\n"
   ]
  },
  {
   "cell_type": "code",
   "execution_count": 28,
   "metadata": {
    "collapsed": false
   },
   "outputs": [
    {
     "name": "stdout",
     "output_type": "stream",
     "text": [
      "train Epoch: 19  , Loss: 0.0609,  Accuracy: 97.80\n"
     ]
    },
    {
     "name": "stderr",
     "output_type": "stream",
     "text": [
      "/Users/sriramreddy/Downloads/ML/hw7_data/.env/lib/python3.6/site-packages/ipykernel/__main__.py:31: UserWarning: invalid index of a 0-dim tensor. This will be an error in PyTorch 0.5. Use tensor.item() to convert a 0-dim tensor to a Python number\n"
     ]
    },
    {
     "name": "stdout",
     "output_type": "stream",
     "text": [
      "val Epoch: 19  , Loss: 0.8826,  Accuracy: 83.50\n"
     ]
    },
    {
     "data": {
      "text/plain": [
       "83.5"
      ]
     },
     "execution_count": 28,
     "metadata": {},
     "output_type": "execute_result"
    }
   ],
   "source": [
    "run_epoch(trLD, model, criterion, e, True, optimizer)\n",
    "run_epoch(valLD, model, criterion, e, False, None)"
   ]
  },
  {
   "cell_type": "markdown",
   "metadata": {},
   "source": [
    "# 2nd Model"
   ]
  },
  {
   "cell_type": "code",
   "execution_count": 34,
   "metadata": {
    "collapsed": false
   },
   "outputs": [
    {
     "name": "stdout",
     "output_type": "stream",
     "text": [
      "train Epoch: 0  , Loss: 2.2325,  Accuracy: 12.20\n"
     ]
    },
    {
     "name": "stderr",
     "output_type": "stream",
     "text": [
      "/Users/sriramreddy/Downloads/ML/hw7_data/.env/lib/python3.6/site-packages/ipykernel/__main__.py:31: UserWarning: invalid index of a 0-dim tensor. This will be an error in PyTorch 0.5. Use tensor.item() to convert a 0-dim tensor to a Python number\n"
     ]
    },
    {
     "name": "stdout",
     "output_type": "stream",
     "text": [
      "val Epoch: 0  , Loss: 1.9603,  Accuracy: 22.50\n",
      "train Epoch: 1  , Loss: 1.9223,  Accuracy: 19.85\n",
      "train Epoch: 2  , Loss: 1.6887,  Accuracy: 33.65\n",
      "train Epoch: 3  , Loss: 1.4771,  Accuracy: 42.65\n",
      "train Epoch: 4  , Loss: 1.2704,  Accuracy: 51.00\n",
      "train Epoch: 5  , Loss: 1.1173,  Accuracy: 58.00\n",
      "val Epoch: 5  , Loss: 1.0145,  Accuracy: 62.50\n",
      "train Epoch: 6  , Loss: 1.0751,  Accuracy: 60.90\n",
      "train Epoch: 7  , Loss: 1.0187,  Accuracy: 61.80\n",
      "train Epoch: 8  , Loss: 0.9830,  Accuracy: 64.25\n",
      "train Epoch: 9  , Loss: 0.9008,  Accuracy: 66.30\n",
      "train Epoch: 10  , Loss: 0.8572,  Accuracy: 68.85\n",
      "val Epoch: 10  , Loss: 0.9550,  Accuracy: 65.25\n",
      "train Epoch: 11  , Loss: 0.8027,  Accuracy: 71.25\n",
      "train Epoch: 12  , Loss: 0.7486,  Accuracy: 73.45\n",
      "train Epoch: 13  , Loss: 0.7654,  Accuracy: 72.35\n",
      "train Epoch: 14  , Loss: 0.6520,  Accuracy: 77.05\n",
      "train Epoch: 15  , Loss: 0.6621,  Accuracy: 76.95\n",
      "val Epoch: 15  , Loss: 0.9281,  Accuracy: 72.75\n",
      "train Epoch: 16  , Loss: 0.6344,  Accuracy: 77.80\n",
      "train Epoch: 17  , Loss: 0.5951,  Accuracy: 78.50\n",
      "train Epoch: 18  , Loss: 0.5897,  Accuracy: 78.85\n",
      "train Epoch: 19  , Loss: 0.5584,  Accuracy: 79.35\n",
      "train Epoch: 20  , Loss: 0.5597,  Accuracy: 80.25\n",
      "val Epoch: 20  , Loss: 0.7264,  Accuracy: 78.75\n",
      "train Epoch: 21  , Loss: 0.5087,  Accuracy: 81.25\n",
      "train Epoch: 22  , Loss: 0.4607,  Accuracy: 83.30\n",
      "train Epoch: 23  , Loss: 0.4468,  Accuracy: 84.50\n",
      "train Epoch: 24  , Loss: 0.4571,  Accuracy: 84.75\n",
      "train Epoch: 25  , Loss: 0.4797,  Accuracy: 82.80\n",
      "val Epoch: 25  , Loss: 0.7785,  Accuracy: 76.75\n",
      "train Epoch: 26  , Loss: 0.4676,  Accuracy: 82.55\n",
      "train Epoch: 27  , Loss: 0.4209,  Accuracy: 84.80\n",
      "train Epoch: 28  , Loss: 0.3899,  Accuracy: 85.40\n",
      "train Epoch: 29  , Loss: 0.4122,  Accuracy: 84.95\n"
     ]
    }
   ],
   "source": [
    "class SequenceClassify(nn.Module):\n",
    "    def __init__(self):\n",
    "        super(SequenceClassify, self).__init__()\n",
    "        ############## 1st To Do (20 points) ##############\n",
    "        ###################################################\n",
    "# self.project_layer = torch.nn.Linear(75,100)\n",
    "# self.recurrent_layer = torch.nn.LSTM(hidden_size = 100, input_size = 100)\n",
    "# self.classify_layer = torch.nn.Linear(100,10)\n",
    "        self.recurrent_layer = nn.LSTM(hidden_size = 200, input_size = 75,num_layers=2,dropout=0.3, batch_first=True, bidirectional=True)\n",
    "        self.recurrent_layer2 = nn.LSTM(hidden_size = 500, input_size = 400,num_layers=4,dropout=0.3, batch_first=True, bidirectional=True)\n",
    "        self.project_layer1 = nn.Linear(1000, 100)\n",
    "        self.project_layer = nn.Linear(100, 10)\n",
    "        ###################################################\n",
    "    \n",
    "    # the size of input is [batch_size, seq_len(15), input_dim(75)]\n",
    "    # the size of logits is [batch_size, num_class]\n",
    "    def forward(self, input, h_t_1=None, c_t_1=None):\n",
    "        # the size of rnn_outputs is [batch_size, seq_len, rnn_size]\n",
    "        rnn_outputs, (hn, cn) = self.recurrent_layer(input)\n",
    "        rnn_outputs, (hn, cn) = self.recurrent_layer2(rnn_outputs)\n",
    "        rnn_outputs = self.project_layer1(rnn_outputs)\n",
    "        # classify the last step of rnn_outpus\n",
    "        # the size of logits is [batch_size, num_class]\n",
    "        \n",
    "        logits = self.project_layer(rnn_outputs[:,-1])\n",
    "        return logits\n",
    "\n",
    "num_epochs = 30\n",
    "model=SequenceClassify()\n",
    "optimizer = torch.optim.Adam(model.parameters(), lr = 1e-3)\n",
    "criterion = torch.nn.CrossEntropyLoss()\n",
    "\n",
    "evaluate_every_epoch = 5\n",
    "for e in range(num_epochs):\n",
    "    run_epoch(trLD, model, criterion, e, True, optimizer)\n",
    "    if e % evaluate_every_epoch == 0:\n",
    "        run_epoch(valLD, model, criterion, e, False, None)\n",
    "\n"
   ]
  },
  {
   "cell_type": "markdown",
   "metadata": {},
   "source": [
    "# 3rd Model"
   ]
  },
  {
   "cell_type": "code",
   "execution_count": 35,
   "metadata": {
    "collapsed": false
   },
   "outputs": [
    {
     "name": "stdout",
     "output_type": "stream",
     "text": [
      "train Epoch: 0  , Loss: 2.2662,  Accuracy: 12.90\n"
     ]
    },
    {
     "name": "stderr",
     "output_type": "stream",
     "text": [
      "/Users/sriramreddy/Downloads/ML/hw7_data/.env/lib/python3.6/site-packages/ipykernel/__main__.py:31: UserWarning: invalid index of a 0-dim tensor. This will be an error in PyTorch 0.5. Use tensor.item() to convert a 0-dim tensor to a Python number\n"
     ]
    },
    {
     "name": "stdout",
     "output_type": "stream",
     "text": [
      "val Epoch: 0  , Loss: 1.9538,  Accuracy: 20.00\n",
      "train Epoch: 1  , Loss: 1.8591,  Accuracy: 27.30\n",
      "train Epoch: 2  , Loss: 1.6337,  Accuracy: 38.30\n",
      "train Epoch: 3  , Loss: 1.3960,  Accuracy: 47.50\n",
      "train Epoch: 4  , Loss: 1.1855,  Accuracy: 56.60\n",
      "train Epoch: 5  , Loss: 1.1782,  Accuracy: 55.75\n",
      "val Epoch: 5  , Loss: 1.1740,  Accuracy: 61.00\n",
      "train Epoch: 6  , Loss: 1.0675,  Accuracy: 59.60\n",
      "train Epoch: 7  , Loss: 1.0056,  Accuracy: 63.90\n",
      "train Epoch: 8  , Loss: 0.9460,  Accuracy: 65.60\n",
      "train Epoch: 9  , Loss: 0.8642,  Accuracy: 68.70\n",
      "train Epoch: 10  , Loss: 0.8551,  Accuracy: 68.80\n",
      "val Epoch: 10  , Loss: 0.9652,  Accuracy: 67.50\n",
      "train Epoch: 11  , Loss: 0.8073,  Accuracy: 70.50\n",
      "train Epoch: 12  , Loss: 0.8327,  Accuracy: 70.00\n",
      "train Epoch: 13  , Loss: 0.7173,  Accuracy: 73.45\n",
      "train Epoch: 14  , Loss: 0.7654,  Accuracy: 72.30\n",
      "train Epoch: 15  , Loss: 0.7337,  Accuracy: 73.70\n",
      "val Epoch: 15  , Loss: 0.7533,  Accuracy: 76.00\n",
      "train Epoch: 16  , Loss: 0.6853,  Accuracy: 74.60\n",
      "train Epoch: 17  , Loss: 0.7267,  Accuracy: 73.95\n",
      "train Epoch: 18  , Loss: 0.6178,  Accuracy: 78.50\n",
      "train Epoch: 19  , Loss: 0.6651,  Accuracy: 75.80\n",
      "train Epoch: 20  , Loss: 0.6026,  Accuracy: 77.75\n",
      "val Epoch: 20  , Loss: 0.8387,  Accuracy: 73.75\n",
      "train Epoch: 21  , Loss: 0.5651,  Accuracy: 80.00\n",
      "train Epoch: 22  , Loss: 0.5314,  Accuracy: 81.25\n",
      "train Epoch: 23  , Loss: 0.5154,  Accuracy: 81.90\n",
      "train Epoch: 24  , Loss: 0.4984,  Accuracy: 82.35\n",
      "train Epoch: 25  , Loss: 0.4746,  Accuracy: 82.10\n",
      "val Epoch: 25  , Loss: 0.8557,  Accuracy: 76.00\n",
      "train Epoch: 26  , Loss: 0.4488,  Accuracy: 83.50\n",
      "train Epoch: 27  , Loss: 0.4685,  Accuracy: 83.05\n",
      "train Epoch: 28  , Loss: 0.5528,  Accuracy: 79.50\n",
      "train Epoch: 29  , Loss: 0.3776,  Accuracy: 85.70\n"
     ]
    }
   ],
   "source": [
    "class SequenceClassify(nn.Module):\n",
    "    def __init__(self):\n",
    "        super(SequenceClassify, self).__init__()\n",
    "        ############## 1st To Do (20 points) ##############\n",
    "        ###################################################\n",
    "# self.project_layer = torch.nn.Linear(75,100)\n",
    "# self.recurrent_layer = torch.nn.LSTM(hidden_size = 100, input_size = 100)\n",
    "# self.classify_layer = torch.nn.Linear(100,10)\n",
    "        self.recurrent_layer = nn.LSTM(hidden_size = 300, input_size = 75,num_layers=2,dropout=0.3, batch_first=True, bidirectional=True)\n",
    "        self.recurrent_layer2 = nn.LSTM(hidden_size = 600, input_size = 600,num_layers=5,dropout=0.3, batch_first=True, bidirectional=True)\n",
    "        self.project_layer = nn.Linear(1200, 10)\n",
    "        ###################################################\n",
    "    \n",
    "    # the size of input is [batch_size, seq_len(15), input_dim(75)]\n",
    "    # the size of logits is [batch_size, num_class]\n",
    "    def forward(self, input, h_t_1=None, c_t_1=None):\n",
    "        # the size of rnn_outputs is [batch_size, seq_len, rnn_size]\n",
    "        rnn_outputs, (hn, cn) = self.recurrent_layer(input)\n",
    "        rnn_outputs, (hn, cn) = self.recurrent_layer2(rnn_outputs)\n",
    "#         rnn_outputs = self.project_layer1(rnn_outputs)\n",
    "        # classify the last step of rnn_outpus\n",
    "        # the size of logits is [batch_size, num_class]\n",
    "        \n",
    "        logits = self.project_layer(rnn_outputs[:,-1])\n",
    "        return logits\n",
    "\n",
    "num_epochs = 30\n",
    "model=SequenceClassify()\n",
    "optimizer = torch.optim.Adam(model.parameters(), lr = 1e-3)\n",
    "criterion = torch.nn.CrossEntropyLoss()\n",
    "\n",
    "evaluate_every_epoch = 5\n",
    "for e in range(num_epochs):\n",
    "    run_epoch(trLD, model, criterion, e, True, optimizer)\n",
    "    if e % evaluate_every_epoch == 0:\n",
    "        run_epoch(valLD, model, criterion, e, False, None)\n",
    "\n"
   ]
  },
  {
   "cell_type": "code",
   "execution_count": 37,
   "metadata": {
    "collapsed": false
   },
   "outputs": [
    {
     "name": "stdout",
     "output_type": "stream",
     "text": [
      "train Epoch: 0  , Loss: 0.3283,  Accuracy: 88.20\n"
     ]
    },
    {
     "name": "stderr",
     "output_type": "stream",
     "text": [
      "/Users/sriramreddy/Downloads/ML/hw7_data/.env/lib/python3.6/site-packages/ipykernel/__main__.py:31: UserWarning: invalid index of a 0-dim tensor. This will be an error in PyTorch 0.5. Use tensor.item() to convert a 0-dim tensor to a Python number\n"
     ]
    },
    {
     "name": "stdout",
     "output_type": "stream",
     "text": [
      "val Epoch: 0  , Loss: 0.7487,  Accuracy: 79.25\n",
      "train Epoch: 1  , Loss: 0.3140,  Accuracy: 88.70\n",
      "train Epoch: 2  , Loss: 0.3079,  Accuracy: 89.35\n",
      "train Epoch: 3  , Loss: 0.3550,  Accuracy: 87.25\n",
      "train Epoch: 4  , Loss: 0.3445,  Accuracy: 86.80\n",
      "train Epoch: 5  , Loss: 0.2608,  Accuracy: 90.35\n",
      "val Epoch: 5  , Loss: 0.7143,  Accuracy: 81.25\n",
      "train Epoch: 6  , Loss: 0.2907,  Accuracy: 89.50\n",
      "train Epoch: 7  , Loss: 0.3243,  Accuracy: 88.60\n",
      "train Epoch: 8  , Loss: 0.2831,  Accuracy: 90.05\n",
      "train Epoch: 9  , Loss: 0.1962,  Accuracy: 93.05\n"
     ]
    }
   ],
   "source": [
    "for e in range(10):\n",
    "    run_epoch(trLD, model, criterion, e, True, optimizer)\n",
    "    if e % evaluate_every_epoch == 0:\n",
    "        run_epoch(valLD, model, criterion, e, False, None)"
   ]
  },
  {
   "cell_type": "markdown",
   "metadata": {},
   "source": [
    "# 4th Model"
   ]
  },
  {
   "cell_type": "code",
   "execution_count": 45,
   "metadata": {
    "collapsed": false
   },
   "outputs": [
    {
     "name": "stdout",
     "output_type": "stream",
     "text": [
      "train Epoch: 0  , Loss: 2.2602,  Accuracy: 13.65\n"
     ]
    },
    {
     "name": "stderr",
     "output_type": "stream",
     "text": [
      "/Users/sriramreddy/Downloads/ML/hw7_data/.env/lib/python3.6/site-packages/ipykernel/__main__.py:31: UserWarning: invalid index of a 0-dim tensor. This will be an error in PyTorch 0.5. Use tensor.item() to convert a 0-dim tensor to a Python number\n"
     ]
    },
    {
     "name": "stdout",
     "output_type": "stream",
     "text": [
      "val Epoch: 0  , Loss: 2.0797,  Accuracy: 18.75\n",
      "train Epoch: 1  , Loss: 1.9401,  Accuracy: 21.15\n",
      "train Epoch: 2  , Loss: 1.5855,  Accuracy: 39.60\n",
      "train Epoch: 3  , Loss: 1.3634,  Accuracy: 49.10\n",
      "train Epoch: 4  , Loss: 1.1488,  Accuracy: 58.10\n",
      "train Epoch: 5  , Loss: 1.0833,  Accuracy: 61.00\n",
      "val Epoch: 5  , Loss: 1.1072,  Accuracy: 59.25\n",
      "train Epoch: 6  , Loss: 0.9091,  Accuracy: 67.30\n",
      "train Epoch: 7  , Loss: 0.8414,  Accuracy: 70.15\n",
      "train Epoch: 8  , Loss: 0.7462,  Accuracy: 74.10\n",
      "train Epoch: 9  , Loss: 0.7590,  Accuracy: 72.35\n",
      "train Epoch: 10  , Loss: 0.6726,  Accuracy: 75.25\n",
      "val Epoch: 10  , Loss: 0.7371,  Accuracy: 79.00\n",
      "train Epoch: 11  , Loss: 0.6187,  Accuracy: 79.10\n",
      "train Epoch: 12  , Loss: 0.5937,  Accuracy: 79.15\n",
      "train Epoch: 13  , Loss: 0.6163,  Accuracy: 77.95\n",
      "train Epoch: 14  , Loss: 0.5987,  Accuracy: 79.10\n",
      "train Epoch: 15  , Loss: 0.5240,  Accuracy: 80.45\n",
      "val Epoch: 15  , Loss: 0.7156,  Accuracy: 80.00\n",
      "train Epoch: 16  , Loss: 0.6982,  Accuracy: 76.90\n",
      "train Epoch: 17  , Loss: 0.5158,  Accuracy: 81.80\n",
      "train Epoch: 18  , Loss: 0.5333,  Accuracy: 81.40\n",
      "train Epoch: 19  , Loss: 0.5434,  Accuracy: 81.00\n",
      "train Epoch: 20  , Loss: 0.4213,  Accuracy: 84.40\n",
      "val Epoch: 20  , Loss: 0.7120,  Accuracy: 79.00\n",
      "train Epoch: 21  , Loss: 0.4317,  Accuracy: 85.35\n",
      "train Epoch: 22  , Loss: 0.4134,  Accuracy: 85.05\n",
      "train Epoch: 23  , Loss: 0.3721,  Accuracy: 86.95\n",
      "train Epoch: 24  , Loss: 0.4459,  Accuracy: 84.60\n",
      "train Epoch: 25  , Loss: 0.3741,  Accuracy: 86.35\n",
      "val Epoch: 25  , Loss: 0.6183,  Accuracy: 82.50\n",
      "train Epoch: 26  , Loss: 0.3415,  Accuracy: 88.15\n",
      "train Epoch: 27  , Loss: 0.4412,  Accuracy: 83.95\n",
      "train Epoch: 28  , Loss: 0.3498,  Accuracy: 87.15\n",
      "train Epoch: 29  , Loss: 0.3755,  Accuracy: 86.90\n",
      "train Epoch: 30  , Loss: 0.3390,  Accuracy: 87.20\n",
      "val Epoch: 30  , Loss: 0.6351,  Accuracy: 82.25\n",
      "train Epoch: 31  , Loss: 0.2740,  Accuracy: 89.60\n",
      "train Epoch: 32  , Loss: 0.2960,  Accuracy: 88.80\n",
      "train Epoch: 33  , Loss: 0.2801,  Accuracy: 89.35\n",
      "train Epoch: 34  , Loss: 0.2885,  Accuracy: 89.90\n",
      "train Epoch: 35  , Loss: 0.3015,  Accuracy: 88.75\n",
      "val Epoch: 35  , Loss: 0.6819,  Accuracy: 82.00\n",
      "train Epoch: 36  , Loss: 0.2178,  Accuracy: 92.50\n",
      "train Epoch: 37  , Loss: 0.2158,  Accuracy: 92.10\n",
      "train Epoch: 38  , Loss: 0.2398,  Accuracy: 90.85\n",
      "train Epoch: 39  , Loss: 0.2675,  Accuracy: 90.75\n",
      "train Epoch: 40  , Loss: 0.2162,  Accuracy: 92.15\n",
      "val Epoch: 40  , Loss: 0.6972,  Accuracy: 81.75\n",
      "train Epoch: 41  , Loss: 0.1806,  Accuracy: 93.30\n",
      "train Epoch: 42  , Loss: 0.1986,  Accuracy: 92.85\n",
      "train Epoch: 43  , Loss: 0.1917,  Accuracy: 93.30\n",
      "train Epoch: 44  , Loss: 0.1706,  Accuracy: 93.65\n",
      "train Epoch: 45  , Loss: 0.1655,  Accuracy: 94.10\n",
      "val Epoch: 45  , Loss: 0.7846,  Accuracy: 79.75\n",
      "train Epoch: 46  , Loss: 0.1440,  Accuracy: 94.95\n",
      "train Epoch: 47  , Loss: 0.1377,  Accuracy: 95.20\n",
      "train Epoch: 48  , Loss: 0.2055,  Accuracy: 93.05\n",
      "train Epoch: 49  , Loss: 0.1747,  Accuracy: 93.90\n"
     ]
    }
   ],
   "source": [
    "class SequenceClassify(nn.Module):\n",
    "    def __init__(self):\n",
    "        super(SequenceClassify, self).__init__()\n",
    "        ############## 1st To Do (20 points) ##############\n",
    "        ###################################################\n",
    "        self.linear_layer = torch.nn.Linear(75,100)\n",
    "        self.recurrent_layer = nn.LSTM(hidden_size = 200, input_size = 100,num_layers=2,dropout=0.3, batch_first=True, bidirectional=True)\n",
    "        self.recurrent_layer2 = nn.LSTM(hidden_size = 500, input_size = 400,num_layers=4,dropout=0.3, batch_first=True, bidirectional=True)\n",
    "        self.project_layer = nn.Linear(1000, 10)\n",
    "#         self.drop=nn.Dropout(p=0.3)\n",
    "        ###################################################\n",
    "    \n",
    "    # the size of input is [batch_size, seq_len(15), input_dim(75)]\n",
    "    # the size of logits is [batch_size, num_class]\n",
    "    def forward(self, input, h_t_1=None, c_t_1=None):\n",
    "        # the size of rnn_outputs is [batch_size, seq_len, rnn_size]\n",
    "        rnn_outputs, (hn, cn) = self.recurrent_layer(self.linear_layer(input))\n",
    "        rnn_outputs, (hn, cn) = self.recurrent_layer2(rnn_outputs)\n",
    "#         rnn_outputs = self.project_layer1(rnn_outputs)\n",
    "        # classify the last step of rnn_outpus\n",
    "        # the size of logits is [batch_size, num_class]\n",
    "        logits = self.project_layer(rnn_outputs[:,-1])\n",
    "        \n",
    "#         logits = self.project_layer(self.drop(rnn_outputs[:,-1]))\n",
    "\n",
    "        return logits\n",
    "\n",
    "num_epochs = 50\n",
    "model=SequenceClassify()\n",
    "optimizer = torch.optim.Adam(model.parameters(), lr = 1e-3)\n",
    "criterion = torch.nn.CrossEntropyLoss()\n",
    "\n",
    "evaluate_every_epoch = 5\n",
    "for e in range(num_epochs):\n",
    "    run_epoch(trLD, model, criterion, e, True, optimizer)\n",
    "    if e % evaluate_every_epoch == 0:\n",
    "        run_epoch(valLD, model, criterion, e, False, None)\n",
    "\n"
   ]
  },
  {
   "cell_type": "code",
   "execution_count": 48,
   "metadata": {
    "collapsed": false
   },
   "outputs": [
    {
     "name": "stdout",
     "output_type": "stream",
     "text": [
      "train Epoch: 0  , Loss: 0.1325,  Accuracy: 95.10\n"
     ]
    },
    {
     "name": "stderr",
     "output_type": "stream",
     "text": [
      "/Users/sriramreddy/Downloads/ML/hw7_data/.env/lib/python3.6/site-packages/ipykernel/__main__.py:31: UserWarning: invalid index of a 0-dim tensor. This will be an error in PyTorch 0.5. Use tensor.item() to convert a 0-dim tensor to a Python number\n"
     ]
    },
    {
     "name": "stdout",
     "output_type": "stream",
     "text": [
      "train Epoch: 1  , Loss: 0.1399,  Accuracy: 95.15\n",
      "train Epoch: 2  , Loss: 0.1262,  Accuracy: 95.40\n",
      "train Epoch: 3  , Loss: 0.1396,  Accuracy: 95.45\n",
      "train Epoch: 4  , Loss: 0.0922,  Accuracy: 96.80\n",
      "train Epoch: 5  , Loss: 0.1577,  Accuracy: 94.15\n"
     ]
    }
   ],
   "source": [
    "for e in range(6):\n",
    "    run_epoch(trLD, model, criterion, e, True, optimizer)"
   ]
  },
  {
   "cell_type": "code",
   "execution_count": 50,
   "metadata": {
    "collapsed": false
   },
   "outputs": [
    {
     "name": "stdout",
     "output_type": "stream",
     "text": [
      "train Epoch: 5  , Loss: 0.2161,  Accuracy: 92.20\n"
     ]
    },
    {
     "name": "stderr",
     "output_type": "stream",
     "text": [
      "/Users/sriramreddy/Downloads/ML/hw7_data/.env/lib/python3.6/site-packages/ipykernel/__main__.py:31: UserWarning: invalid index of a 0-dim tensor. This will be an error in PyTorch 0.5. Use tensor.item() to convert a 0-dim tensor to a Python number\n"
     ]
    },
    {
     "name": "stdout",
     "output_type": "stream",
     "text": [
      "val Epoch: 5  , Loss: 0.9411,  Accuracy: 76.00\n"
     ]
    },
    {
     "data": {
      "text/plain": [
       "76.0"
      ]
     },
     "execution_count": 50,
     "metadata": {},
     "output_type": "execute_result"
    }
   ],
   "source": [
    "run_epoch(trLD, model, criterion, e, True, optimizer)\n",
    "run_epoch(valLD, model, criterion, e, False, None)"
   ]
  },
  {
   "cell_type": "code",
   "execution_count": null,
   "metadata": {
    "collapsed": true
   },
   "outputs": [],
   "source": [
    "# Use your best model to generate results on test set.\n",
    "\n",
    "# generate csv file for test set\n",
    "def predict_on_test(model, data_loader):\n",
    "    model.eval() # Put the model in test mode (the opposite of model.train(), essentially)\n",
    "    results=open('results_5.csv','w')\n",
    "    count=0\n",
    "    results.write('Id'+','+'Class'+'\\n')\n",
    "    for batch_idx, sample in enumerate(data_loader):\n",
    "        sequence = sample['seq']\n",
    "        input_sequence_var = Variable(sequence).type(FloatTensor)\n",
    "        scores = model(input_sequence_var)\n",
    "        _, preds = scores.data.max(1)\n",
    "        for i in range(len(preds)):\n",
    "            results.write(str(count)+','+str(preds[i])+'\\n')\n",
    "            count+=1\n",
    "    results.close()\n",
    "    return count\n",
    "\n",
    "count=predict_on_test(model, tstLD)\n",
    "print(count)"
   ]
  },
  {
   "cell_type": "markdown",
   "metadata": {},
   "source": [
    "# Model 5"
   ]
  },
  {
   "cell_type": "code",
   "execution_count": 55,
   "metadata": {
    "collapsed": true
   },
   "outputs": [],
   "source": [
    "# # \n",
    "# \n",
    "class SequenceClassify(nn.Module):\n",
    "    def __init__(self):\n",
    "        super(SequenceClassify, self).__init__()\n",
    "        ############## 1st To Do (20 points) ##############\n",
    "        ###################################################\n",
    "        self.linear_layer = torch.nn.Linear(75,100)\n",
    "        self.recurrent_layer = nn.LSTM(hidden_size = 200, input_size = 100,num_layers=2,dropout=0.3, batch_first=True, bidirectional=True)\n",
    "        self.recurrent_layer2 = nn.LSTM(hidden_size = 500, input_size = 400,num_layers=4,dropout=0.3, batch_first=True, bidirectional=True)\n",
    "        self.project_layer = nn.Linear(1000, 10)\n",
    "#         self.drop=nn.Dropout(p=0.3)\n",
    "        ###################################################\n",
    "    \n",
    "    # the size of input is [batch_size, seq_len(15), input_dim(75)]\n",
    "    # the size of logits is [batch_size, num_class]\n",
    "    def forward(self, input, h_t_1=None, c_t_1=None):\n",
    "        # the size of rnn_outputs is [batch_size, seq_len, rnn_size]\n",
    "        rnn_outputs, (hn, cn) = self.recurrent_layer(self.linear_layer(input))\n",
    "        rnn_outputs, (hn, cn) = self.recurrent_layer2(rnn_outputs)\n",
    "#         rnn_outputs = self.project_layer1(rnn_outputs)\n",
    "        # classify the last step of rnn_outpus\n",
    "        # the size of logits is [batch_size, num_class]\n",
    "        logits = self.project_layer(rnn_outputs[:,-1])\n",
    "        \n",
    "#         logits = self.project_layer(self.drop(rnn_outputs[:,-1]))\n",
    "\n",
    "        return logits\n",
    "\n",
    "num_epochs = 50\n",
    "model=SequenceClassify()\n",
    "optimizer = torch.optim.Adam(model.parameters(), lr = 1e-3)\n",
    "criterion = torch.nn.CrossEntropyLoss()\n",
    "\n",
    "evaluate_every_epoch = 5\n",
    "for e in range(num_epochs):\n",
    "    run_epoch(trLD, model, criterion, e, True, optimizer)\n",
    "    if e % evaluate_every_epoch == 0:\n",
    "        run_epoch(valLD, model, criterion, e, False, None)\n",
    "\n"
   ]
  },
  {
   "cell_type": "code",
   "execution_count": 44,
   "metadata": {
    "collapsed": false
   },
   "outputs": [
    {
     "name": "stdout",
     "output_type": "stream",
     "text": [
      "1000\n"
     ]
    }
   ],
   "source": [
    "# Use your best model to generate results on test set.\n",
    "\n",
    "# generate csv file for test set\n",
    "def predict_on_test(model, data_loader):\n",
    "    model.eval() # Put the model in test mode (the opposite of model.train(), essentially)\n",
    "    results=open('results_6.csv','w')\n",
    "    count=0\n",
    "    results.write('Id'+','+'Class'+'\\n')\n",
    "    for batch_idx, sample in enumerate(data_loader):\n",
    "        sequence = sample['seq']\n",
    "        input_sequence_var = Variable(sequence).type(FloatTensor)\n",
    "        scores = model(input_sequence_var)\n",
    "        _, preds = scores.data.max(1)\n",
    "        for i in range(len(preds)):\n",
    "            results.write(str(count)+','+str(preds[i])+'\\n')\n",
    "            count+=1\n",
    "    results.close()\n",
    "    return count\n",
    "\n",
    "count=predict_on_test(model, tstLD)\n",
    "print(count)"
   ]
  },
  {
   "cell_type": "markdown",
   "metadata": {},
   "source": [
    "## Report the performance\n",
    "################ 4th To Do  (5 points)##################\n",
    "\n",
    "In this cell, you should write an explanation of what you did (network architecture, optimiziter, learning rate, epochs) and any visualizations or graphs that you make in the process of training and evaluating your network.\n",
    "\n",
    "I have trained five networks as given above. All are behaving in a similar way. \n",
    "Please find the network architecture which is giving the best validation accuracy.\n",
    "\n",
    "1)Linear Layer(75,100)\n",
    "\n",
    "2)Bi Directional LSTM Layer(hidden_size = 200, input_size = 100,num_layers=2,dropout=0.3, batch_first=True, bidirectional=True)\n",
    "\n",
    "3)Bi Directional LSTM(hidden_size = 500, input_size = 400,num_layers=4,dropout=0.3, batch_first=True, bidirectional=True)\n",
    "\n",
    "4)Linear Layer(1000, 10)\n",
    "\n",
    "Initially I used SGD as optimizer. Then I changed to ADAM and RMSprop. But gave faster convergence results. I have used learning rate as 1e-3. It took 60 epochs to converge and the convergence criteria I used is if there is not much change for 5 epochs in training accuracy, it stops running the next epoch. \n",
    "\n",
    "Report your Kaggle Performance here:\n",
    "0.822 --- Rank 17."
   ]
  },
  {
   "cell_type": "code",
   "execution_count": 51,
   "metadata": {
    "collapsed": false
   },
   "outputs": [
    {
     "data": {
      "image/png": "[encoded data removed]",
      "text/plain": [
       "<IPython.core.display.Image object>"
      ]
     },
     "execution_count": 51,
     "metadata": {
      "image/png": {
       "height": 800,
       "width": 600
      }
     },
     "output_type": "execute_result"
    }
   ],
   "source": [
    "import numpy as np\n",
    "from IPython.display import Image\n",
    "Image('/Users/sriramreddy/Desktop/kag.png',width=600, height=800)"
   ]
  },
  {
   "cell_type": "code",
   "execution_count": null,
   "metadata": {
    "collapsed": true
   },
   "outputs": [],
   "source": []
  }
 ],
 "metadata": {
  "kernelspec": {
   "display_name": "Python 3",
   "language": "python",
   "name": "python3"
  },
  "language_info": {
   "codemirror_mode": {
    "name": "ipython",
    "version": 3
   },
   "file_extension": ".py",
   "mimetype": "text/x-python",
   "name": "python",
   "nbconvert_exporter": "python",
   "pygments_lexer": "ipython3",
   "version": "3.6.6"
  }
 },
 "nbformat": 4,
 "nbformat_minor": 2
}
