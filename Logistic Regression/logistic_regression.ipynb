{
 "cells": [
  {
   "cell_type": "markdown",
   "metadata": {},
   "source": [
    "## Logistic Regression with SGD"
   ]
  },
  {
   "cell_type": "markdown",
   "metadata": {},
   "source": [
    "To begin you first need to install all dependencies, using:\n",
    "\n",
    "    pip install -r requirements.txt"
   ]
  },
  {
   "cell_type": "code",
   "execution_count": 1,
   "metadata": {
    "collapsed": true
   },
   "outputs": [],
   "source": [
    "import numpy as np\n",
    "import matplotlib.pyplot as plt\n",
    "\n",
    "from math import exp, log\n",
    "import os\n",
    "import pickle\n",
    "\n",
    "from skimage import io\n",
    "from skimage.color import rgb2gray\n",
    "from skimage.feature import hog\n",
    "\n",
    "from sklearn.metrics import accuracy_score\n",
    "from sklearn.metrics import precision_recall_curve\n",
    "from sklearn.metrics import roc_curve"
   ]
  },
  {
   "cell_type": "code",
   "execution_count": null,
   "metadata": {
    "collapsed": true
   },
   "outputs": [],
   "source": [
    "%matplotlib inline"
   ]
  },
  {
   "cell_type": "markdown",
   "metadata": {},
   "source": [
    "### load the dataset"
   ]
  },
  {
   "cell_type": "code",
   "execution_count": 2,
   "metadata": {
    "collapsed": true
   },
   "outputs": [],
   "source": [
    "### set your image dir here\n",
    "# IMAGE_DIR = \"./data/\"\n",
    "IMAGE_DIR = \"/Users/sriramreddy/Downloads/ML/3/all/\""
   ]
  },
  {
   "cell_type": "code",
   "execution_count": 3,
   "metadata": {
    "collapsed": true
   },
   "outputs": [],
   "source": [
    "def load_dataset(subset=\"train\"):\n",
    "    \"\"\"\n",
    "    1. subset = \"train\", \"val\", \"test\"\n",
    "    2. About the dataset: in \"train\",\"val\" subset, the first half of images are images of hands, the rest half are images of not-hand. \n",
    "    3. extract features from HoG\n",
    "    \"\"\"\n",
    "    path = os.path.join(IMAGE_DIR,subset)\n",
    "    name_list = os.listdir(path)\n",
    "    print(\"Number of images in {}-set: {}\".format(subset, len(name_list)))\n",
    "    #HoG returns 324 features\n",
    "    X = np.zeros(shape=(len(name_list), 324))\n",
    "\n",
    "    if subset == \"train\" or subset == \"val\":\n",
    "        #Make sure that we have equal number of positive and negative class images\n",
    "        assert len(name_list)%2 == 0\n",
    "        count = len(name_list)//2\n",
    "        y = np.array(count*[1] + count*[0])\n",
    "        for idx_true in range(count):\n",
    "            img_name = os.path.join(path,str(idx_true)+\".png\")\n",
    "            img = io.imread(img_name)\n",
    "            img = rgb2gray(img)\n",
    "            vec = hog(img)\n",
    "            X[idx_true, :] = vec\n",
    "        \n",
    "        for idx in range(count):\n",
    "            idx_false = idx + count\n",
    "            img_name = os.path.join(path,str(idx_false)+\".png\")\n",
    "            img = io.imread(img_name)\n",
    "            img = rgb2gray(img)\n",
    "            vec = hog(img)\n",
    "            X[idx_false, :] = vec\n",
    "        return X, y        \n",
    "    else:\n",
    "        for idx in range(len(name_list)):\n",
    "            img_name = os.path.join(path, str(idx)+\".png\")\n",
    "            img = io.imread(img_name)\n",
    "            img = rgb2gray(img)\n",
    "            vec = hog(img)\n",
    "            X[idx, :] = vec\n",
    "        return X"
   ]
  },
  {
   "cell_type": "markdown",
   "metadata": {},
   "source": [
    "### load the data"
   ]
  },
  {
   "cell_type": "code",
   "execution_count": 4,
   "metadata": {},
   "outputs": [
    {
     "name": "stdout",
     "output_type": "stream",
     "text": [
      "Number of images in train-set: 8170\n"
     ]
    },
    {
     "name": "stderr",
     "output_type": "stream",
     "text": [
      "/Users/sriramreddy/anaconda3/lib/python3.6/site-packages/skimage/feature/_hog.py:119: skimage_deprecation: Default value of `block_norm`==`L1` is deprecated and will be changed to `L2-Hys` in v0.15\n",
      "  'be changed to `L2-Hys` in v0.15', skimage_deprecation)\n"
     ]
    },
    {
     "name": "stdout",
     "output_type": "stream",
     "text": [
      "Number of images in val-set: 2724\n",
      "Number of images in test-set: 5542\n"
     ]
    }
   ],
   "source": [
    "X_train, y_train = load_dataset(\"train\")\n",
    "X_val, y_val = load_dataset(\"val\")\n",
    "X_test = load_dataset(\"test\")"
   ]
  },
  {
   "cell_type": "markdown",
   "metadata": {},
   "source": [
    "### displaying images"
   ]
  },
  {
   "cell_type": "code",
   "execution_count": 5,
   "metadata": {
    "collapsed": true
   },
   "outputs": [],
   "source": [
    "def display(img_path):\n",
    "    \"\"\"\n",
    "    visualize the img\n",
    "    \"\"\"\n",
    "    img = io.imread(img_path)\n",
    "    print(img_path)\n",
    "    io.imshow(img)\n",
    "    io.show()"
   ]
  },
  {
   "cell_type": "code",
   "execution_count": 6,
   "metadata": {},
   "outputs": [
    {
     "name": "stdout",
     "output_type": "stream",
     "text": [
      "/Users/sriramreddy/Downloads/ML/3/all/train/1.png\n"
     ]
    },
    {
     "name": "stderr",
     "output_type": "stream",
     "text": [
      "/Users/sriramreddy/anaconda3/lib/python3.6/site-packages/skimage/io/_plugins/matplotlib_plugin.py:51: FutureWarning: Conversion of the second argument of issubdtype from `float` to `np.floating` is deprecated. In future, it will be treated as `np.float64 == np.dtype(float).type`.\n",
      "  out_of_range_float = (np.issubdtype(image.dtype, np.float) and\n"
     ]
    },
    {
     "data": {
      "image/png": "[encoded data removed]",
      "text/plain": [
       "<matplotlib.figure.Figure at 0x1c19279f98>"
      ]
     },
     "metadata": {},
     "output_type": "display_data"
    }
   ],
   "source": [
    "display(IMAGE_DIR+\"train/1.png\")"
   ]
  },
  {
   "cell_type": "markdown",
   "metadata": {},
   "source": [
    "### Logistic regression"
   ]
  },
  {
   "cell_type": "markdown",
   "metadata": {},
   "source": [
    "#### Main function in the class\n",
    "1. \\__init\\__() which sets the hyper parameters\n",
    "2. sigmoid()\n",
    "3. __init_param(), initializes the parameters .\n",
    "4. fit(): train the data\n",
    "5. predict_proba(): predict the probability of the sample belonging to the positive class\n",
    "6. predict(): classify the sample\n",
    "\n",
    "\n",
    "Feel free to overlook the rest of the parts of the code, it's just for convenience.\n"
   ]
  },
  {
   "cell_type": "code",
   "execution_count": 28,
   "metadata": {
    "collapsed": true
   },
   "outputs": [],
   "source": [
    "# global Loss_epoch\n",
    "from sklearn.utils import shuffle\n",
    "class LogisticRegression:\n",
    "    \"\"\"\n",
    "    Logistic Regression\n",
    "    \"\"\"\n",
    "    def __init__(self, eta0=0.1, eta1=1, m=16, max_epoch=1000, delta=0.0001):\n",
    "        \"\"\"\n",
    "        m is the batch_size\n",
    "        \"\"\"\n",
    "        self.__init = True\n",
    "        self.__eta0 = eta0\n",
    "        self.__eta1 = eta1\n",
    "        self.__delta = delta\n",
    "        self.__m = m\n",
    "        self.__max_epoch = max_epoch\n",
    "        self.w_epoch=[]\n",
    "    def __sigmoid(self, x):\n",
    "        return 1.0/(1 + np.exp(-x))\n",
    "    def sigmoid_fun(self, x):\n",
    "        return 1.0/(1 + np.exp(-x))\n",
    "    def __init_param(self):\n",
    "        \"\"\"\n",
    "        Weights initialized using a normal distribution here: you can change the distribution.\n",
    "        \"\"\"\n",
    "        d = self.__dimension\n",
    "        self.__wt = np.random.randn(1,d)\n",
    "        self.__bias = np.random.randn()\n",
    "        return self.__wt,self.__bias\n",
    "    def fit(self, X, y, X_val=None, y_val=None):\n",
    "        \"\"\"\n",
    "        Recommended input:\n",
    "        X: n x d array,\n",
    "        y: n x 1 array or list\n",
    "        \"\"\"\n",
    "        Loss_epoch=[np.Infinity]\n",
    "        n, d = X.shape\n",
    "#         print(\"n examples and d dimensions\", n,d)\n",
    "        self.__dimension = d\n",
    "        if self.__init:\n",
    "            self.__init_param()\n",
    "        self.__w = np.asmatrix(np.vstack((self.__wt.T,np.matrix([self.__bias]))))\n",
    "        \n",
    "        X=np.asmatrix(np.hstack((X,np.ones((n,1)))))\n",
    "        def loss(X,y):\n",
    "            loss=0\n",
    "            for i in range(n):\n",
    "                p_1=(self.__sigmoid(np.dot(X[i],self.__w)))\n",
    "                p_0=1-(p_1)\n",
    "#                 loss=loss + y[i]*(p_1) + (1-y[i])*(p_0)\n",
    "                loss=loss + y[i]*np.log(p_1) + (1-y[i])*np.log(p_0)\n",
    "#                 print(p_1,p_0,loss)\n",
    "#             print(\"loss for a epoch\",loss*(-1/np.float(n)))\n",
    "            return np.divide(-loss,n)\n",
    "        for epoch in range(1,self.__max_epoch+1):\n",
    "            learning_rate= (self.__eta0/(self.__eta1 + epoch))\n",
    "#             This one thing, I have to check\n",
    "            X,y=shuffle(X,y)\n",
    "            m=self.__m\n",
    "            batches=n//m\n",
    "#             print(batches)\n",
    "            y=np.asmatrix(y.reshape(n,1))\n",
    "            for i in range(batches):\n",
    "                X_i=X[i*m:(i+1)*m,]\n",
    "                y_i=y[i*m:(i+1)*m]\n",
    "                y_i=np.asmatrix(y_i.reshape(m,1))\n",
    "                k=np.dot(X_i,self.__w)\n",
    "                l=self.__sigmoid(k)\n",
    "                b2=y_i-l\n",
    "                grad=np.asmatrix(np.zeros_like(self.__w))\n",
    "#                 for j in range(m):\n",
    "#                     grad = grad + np.asscalar(b2[j])*(X_i[j].T)\n",
    "#                     print(\"shape of X_i[j]\",X_i[j].shape)\n",
    "#                 t = self.__w + grad*(np.float(learning_rate)/np.float(m))\n",
    "                self.__w = self.__w + (np.float(learning_rate)/np.float(m))*(X_i.T*b2)\n",
    "#                 print(\"value of t\", t[0:10])\n",
    "#                 print(\"value of self.__w\", self.__w[0:10])\n",
    "#             lot_loss = (loss(X,y))\n",
    "            Loss_all=np.divide(-(np.dot(y.T,np.log(self.__sigmoid(np.dot(X,self.__w)))) + np.dot((1-y).T,(np.log(1-self.__sigmoid(np.dot(X,self.__w)))))),np.float((n)))\n",
    "#             kill=(-1/n)*(np.dot(y.T,np.log(self.__sigmoid(np.dot(X,self.__w)))) + np.dot((1-y).T,(np.log(1-self.__sigmoid(np.dot(X,self.__w))))))\n",
    "#             kill2=(-1/np.float(n))*(np.dot(y.T,np.log(self.__sigmoid(np.dot(X,self.__w)))) + np.dot((1-y).T,(np.log(1-self.__sigmoid(np.dot(X,self.__w))))))\n",
    "# #             print(\"shape of (1-y).T and 1-np.log(self)\",(1-y).T.shape, (1-np.log(self.__sigmoid(np.dot(X,self.__w)))).shape)\n",
    "#             print(\"Loss_all,epoch\",Loss_all,epoch+1)\n",
    "#             print(\"kill_loss and kill2\",lot_loss, epoch+1)\n",
    "            Loss_epoch.append(Loss_all)\n",
    "            self.w_epoch.append(self.__w)\n",
    "        \n",
    "#  Values are given below\n",
    "#             ('Loss_all,epoch', matrix([[1.20834098]]), 2)\n",
    "# ('kill_loss and kill2', matrix([[9872.14579606]]), matrix([[1.20834098]]), 2)\n",
    "            if Loss_all > (1-self.__delta)*Loss_epoch[-2]:\n",
    "#                 print(\"epochs it took to converge\",epoch+1)\n",
    "                break\n",
    "#             if np.abs(Loss_all - Loss_epoch[-1] ) <= self.__delta/100:\n",
    "#                 print(\"epochs it took to converge\",epoch+1)\n",
    "#                 break\n",
    "        return Loss_epoch\n",
    "    \n",
    "    def predict_proba(self, X):\n",
    "        \"\"\"\n",
    "        predict the probility of the sample\n",
    "        You can refer to my code below\n",
    "        \"\"\"\n",
    "        n, d = X.shape\n",
    "        X=np.hstack((X,np.ones((n,1))))\n",
    "        return self.__sigmoid(np.dot(X,self.__w))\n",
    "    def predict(self, X):\n",
    "        \"\"\"\n",
    "        Classify the sample\n",
    "        \"\"\"\n",
    "        return (self.predict_proba(X) >= 0.5).astype(int)\n",
    "    def get_param(self):\n",
    "        \"\"\"\n",
    "        output:\n",
    "            parameters: wt(1*d array), b(scalar)\n",
    "        \"\"\"\n",
    "        return [self.__wt, self.__bias]\n",
    "    def save_model(self, save_file):\n",
    "        \"\"\"\n",
    "        save model to .pkl file\n",
    "        \"\"\"\n",
    "        with open(save_file,\"wb\") as file:\n",
    "            pickle.dump([self.__wt, self.__bias],file)\n",
    "    def load_model(self, load_file):\n",
    "        \"\"\"\n",
    "        load model from .pkl file\n",
    "        \"\"\"\n",
    "        with open(load_file,\"rb\") as file:\n",
    "            param = pickle.load(file)\n",
    "        self.__wt = param[0]\n",
    "        self.__bias = param[1]\n",
    "        self.__init = False\n",
    "        return self.__wt, self.__bias"
   ]
  },
  {
   "cell_type": "markdown",
   "metadata": {},
   "source": [
    "## Question 2.3"
   ]
  },
  {
   "cell_type": "markdown",
   "metadata": {
    "scrolled": true
   },
   "source": [
    "### 1. Baseline Model"
   ]
  },
  {
   "cell_type": "code",
   "execution_count": 13,
   "metadata": {
    "scrolled": true
   },
   "outputs": [],
   "source": [
    "LR = LogisticRegression()\n",
    "p=LR.fit(X_train,y_train)"
   ]
  },
  {
   "cell_type": "code",
   "execution_count": 18,
   "metadata": {},
   "outputs": [
    {
     "name": "stdout",
     "output_type": "stream",
     "text": [
      "380 [[0.52885375]]\n"
     ]
    }
   ],
   "source": [
    "print(len(p)-1,p[-1])"
   ]
  },
  {
   "cell_type": "markdown",
   "metadata": {},
   "source": [
    "(a) Number of epochs till termination = 380_"
   ]
  },
  {
   "cell_type": "code",
   "execution_count": 21,
   "metadata": {},
   "outputs": [
    {
     "data": {
      "image/png": "[encoded data removed]",
      "text/plain": [
       "<matplotlib.figure.Figure at 0x1c1d210438>"
      ]
     },
     "metadata": {},
     "output_type": "display_data"
    }
   ],
   "source": [
    "# (b) Plot L(theta) vs num_epochs\n",
    "\n",
    "LR = LogisticRegression()\n",
    "Loss_train = LR.fit(X_train,y_train)\n",
    "Loss_val=[]\n",
    "n, d = X_val.shape\n",
    "# X=np.asmatrix(np.vstack((X_val,np.ones((n,1)))))\n",
    "X=np.asmatrix(np.hstack((X_val,np.ones((n,1)))))\n",
    "for i in range(len(LR.w_epoch)):\n",
    "    W=np.asmatrix(LR.w_epoch[i])\n",
    "    Loss_all=np.divide(-(np.dot(y_val.T,np.log(LR.sigmoid_fun(np.dot(X,W)))) + np.dot((1-y_val).T,(np.log(1-LR.sigmoid_fun(np.dot(X,W)))))),np.float((n)))\n",
    "    Loss_val.append(np.asscalar(Loss_all))\n",
    "# I need to restructure my code for getting the parameters per epoch\n",
    "#I'm assuming that the plot requested is Loss v/s epochs for a fixed set of eta0 and eta1 and the loss incurred before converging to the optimum loss value\n",
    "plt.plot(range(1,len(Loss_train)+1),Loss_train,'r')\n",
    "#In case if you need validation, you can uncomment the above line.\n",
    "# plt.plot(range(1,len(Loss_val)+1),Loss_val,'g')\n",
    "#By using the theta parameters generated during training, we can generate the loss \n",
    "#Loss_val is the loss calculated for the validation set\n",
    "# \n",
    "plt.ylabel('Loss_train')\n",
    "plt.xlabel('Epochs')\n",
    "plt.show()\n"
   ]
  },
  {
   "cell_type": "markdown",
   "metadata": {},
   "source": [
    "(c) Final value of L($\\theta$) after optimization = 0.52885375__"
   ]
  },
  {
   "cell_type": "markdown",
   "metadata": {},
   "source": [
    "### 2. Experimenting with ($\\eta_0$,$\\eta_1$)"
   ]
  },
  {
   "cell_type": "code",
   "execution_count": 20,
   "metadata": {},
   "outputs": [
    {
     "name": "stdout",
     "output_type": "stream",
     "text": [
      "hyper_parameter eta0 0.0001 hyper_parameter eta1 0.0001   epoch  2   Loss parameter  [[0.68762008]]\n",
      "hyper_parameter eta0 0.0001 hyper_parameter eta1 0.001   epoch  43   Loss parameter  [[0.88858402]]\n",
      "hyper_parameter eta0 0.0001 hyper_parameter eta1 0.01   epoch  49   Loss parameter  [[0.89036777]]\n",
      "hyper_parameter eta0 0.0001 hyper_parameter eta1 0.1   epoch  4   Loss parameter  [[0.75022136]]\n",
      "hyper_parameter eta0 0.0001 hyper_parameter eta1 1   epoch  2   Loss parameter  [[0.67400974]]\n",
      "hyper_parameter eta0 0.0001 hyper_parameter eta1 10   epoch  2   Loss parameter  [[0.8052938]]\n",
      "hyper_parameter eta0 0.0001 hyper_parameter eta1 100   epoch  2   Loss parameter  [[0.70617764]]\n",
      "hyper_parameter eta0 0.0001 hyper_parameter eta1 1000   epoch  2   Loss parameter  [[0.72050121]]\n",
      "hyper_parameter eta0 0.001 hyper_parameter eta1 0.0001   epoch  96   Loss parameter  [[0.6795561]]\n",
      "hyper_parameter eta0 0.001 hyper_parameter eta1 0.001   epoch  13   Loss parameter  [[0.7453953]]\n",
      "hyper_parameter eta0 0.001 hyper_parameter eta1 0.01   epoch  39   Loss parameter  [[0.6941008]]\n",
      "hyper_parameter eta0 0.001 hyper_parameter eta1 0.1   epoch  14   Loss parameter  [[0.67950765]]\n",
      "hyper_parameter eta0 0.001 hyper_parameter eta1 1   epoch  10   Loss parameter  [[0.74821801]]\n",
      "hyper_parameter eta0 0.001 hyper_parameter eta1 10   epoch  92   Loss parameter  [[0.70619353]]\n",
      "hyper_parameter eta0 0.001 hyper_parameter eta1 100   epoch  2   Loss parameter  [[0.72091873]]\n",
      "hyper_parameter eta0 0.001 hyper_parameter eta1 1000   epoch  2   Loss parameter  [[0.80424422]]\n",
      "hyper_parameter eta0 0.01 hyper_parameter eta1 0.0001   epoch  90   Loss parameter  [[0.72415342]]\n",
      "hyper_parameter eta0 0.01 hyper_parameter eta1 0.001   epoch  88   Loss parameter  [[0.6758908]]\n",
      "hyper_parameter eta0 0.01 hyper_parameter eta1 0.01   epoch  93   Loss parameter  [[0.65671455]]\n",
      "hyper_parameter eta0 0.01 hyper_parameter eta1 0.1   epoch  99   Loss parameter  [[0.69130348]]\n",
      "hyper_parameter eta0 0.01 hyper_parameter eta1 1   epoch  84   Loss parameter  [[0.6892818]]\n",
      "hyper_parameter eta0 0.01 hyper_parameter eta1 10   epoch  98   Loss parameter  [[0.73812214]]\n",
      "hyper_parameter eta0 0.01 hyper_parameter eta1 100   epoch  88   Loss parameter  [[0.65520622]]\n",
      "hyper_parameter eta0 0.01 hyper_parameter eta1 1000   epoch  507   Loss parameter  [[0.7714816]]\n",
      "hyper_parameter eta0 0.1 hyper_parameter eta1 0.0001   epoch  333   Loss parameter  [[0.50416145]]\n",
      "hyper_parameter eta0 0.1 hyper_parameter eta1 0.001   epoch  337   Loss parameter  [[0.50371779]]\n",
      "hyper_parameter eta0 0.1 hyper_parameter eta1 0.01   epoch  343   Loss parameter  [[0.51804076]]\n",
      "hyper_parameter eta0 0.1 hyper_parameter eta1 0.1   epoch  327   Loss parameter  [[0.5032873]]\n",
      "hyper_parameter eta0 0.1 hyper_parameter eta1 1   epoch  382   Loss parameter  [[0.5256986]]\n",
      "hyper_parameter eta0 0.1 hyper_parameter eta1 10   epoch  451   Loss parameter  [[0.54923781]]\n",
      "hyper_parameter eta0 0.1 hyper_parameter eta1 100   epoch  452   Loss parameter  [[0.6104038]]\n",
      "hyper_parameter eta0 0.1 hyper_parameter eta1 1000   epoch  233   Loss parameter  [[0.70990286]]\n",
      "hyper_parameter eta0 1 hyper_parameter eta1 0.0001   epoch  246   Loss parameter  [[0.32099359]]\n",
      "hyper_parameter eta0 1 hyper_parameter eta1 0.001   epoch  254   Loss parameter  [[0.32358033]]\n",
      "hyper_parameter eta0 1 hyper_parameter eta1 0.01   epoch  254   Loss parameter  [[0.3233859]]\n",
      "hyper_parameter eta0 1 hyper_parameter eta1 0.1   epoch  259   Loss parameter  [[0.32221972]]\n",
      "hyper_parameter eta0 1 hyper_parameter eta1 1   epoch  295   Loss parameter  [[0.32842297]]\n",
      "hyper_parameter eta0 1 hyper_parameter eta1 10   epoch  449   Loss parameter  [[0.34811911]]\n",
      "hyper_parameter eta0 1 hyper_parameter eta1 100   epoch  820   Loss parameter  [[0.39018389]]\n",
      "hyper_parameter eta0 1 hyper_parameter eta1 1000   epoch  1000   Loss parameter  [[0.49411154]]\n",
      "hyper_parameter eta0 10 hyper_parameter eta1 0.0001   epoch  4   Loss parameter  [[0.28598107]]\n",
      "hyper_parameter eta0 10 hyper_parameter eta1 0.001   epoch  4   Loss parameter  [[0.28735857]]\n",
      "hyper_parameter eta0 10 hyper_parameter eta1 0.01   epoch  3   Loss parameter  [[0.30114667]]\n",
      "hyper_parameter eta0 10 hyper_parameter eta1 0.1   epoch  9   Loss parameter  [[0.27523609]]\n",
      "hyper_parameter eta0 10 hyper_parameter eta1 1   epoch  9   Loss parameter  [[0.28361854]]\n",
      "hyper_parameter eta0 10 hyper_parameter eta1 10   epoch  11   Loss parameter  [[0.31853662]]\n",
      "hyper_parameter eta0 10 hyper_parameter eta1 100   epoch  140   Loss parameter  [[0.30641732]]\n",
      "hyper_parameter eta0 10 hyper_parameter eta1 1000   epoch  1000   Loss parameter  [[0.31607081]]\n",
      "hyper_parameter eta0 100 hyper_parameter eta1 0.0001   epoch  5   Loss parameter  [[0.47089349]]\n"
     ]
    },
    {
     "name": "stderr",
     "output_type": "stream",
     "text": [
      "/Users/sriramreddy/anaconda3/lib/python3.6/site-packages/ipykernel_launcher.py:79: RuntimeWarning: divide by zero encountered in log\n"
     ]
    },
    {
     "name": "stdout",
     "output_type": "stream",
     "text": [
      "hyper_parameter eta0 100 hyper_parameter eta1 0.001   epoch  7   Loss parameter  [[0.46024032]]\n",
      "hyper_parameter eta0 100 hyper_parameter eta1 0.01   epoch  5   Loss parameter  [[0.41538894]]\n",
      "hyper_parameter eta0 100 hyper_parameter eta1 0.1   epoch  8   Loss parameter  [[0.33787625]]\n",
      "hyper_parameter eta0 100 hyper_parameter eta1 1   epoch  6   Loss parameter  [[0.28133041]]\n",
      "hyper_parameter eta0 100 hyper_parameter eta1 10   epoch  5   Loss parameter  [[0.2706866]]\n",
      "hyper_parameter eta0 100 hyper_parameter eta1 100   epoch  15   Loss parameter  [[0.29171708]]\n",
      "hyper_parameter eta0 100 hyper_parameter eta1 1000   epoch  85   Loss parameter  [[0.30920232]]\n"
     ]
    },
    {
     "name": "stderr",
     "output_type": "stream",
     "text": [
      "/Users/sriramreddy/anaconda3/lib/python3.6/site-packages/ipykernel_launcher.py:19: RuntimeWarning: overflow encountered in exp\n"
     ]
    },
    {
     "name": "stdout",
     "output_type": "stream",
     "text": [
      "hyper_parameter eta0 1000 hyper_parameter eta1 0.0001   epoch  96   Loss parameter  [[0.39310327]]\n",
      "hyper_parameter eta0 1000 hyper_parameter eta1 0.001   epoch  92   Loss parameter  [[0.40068188]]\n",
      "hyper_parameter eta0 1000 hyper_parameter eta1 0.01   epoch  90   Loss parameter  [[0.43796087]]\n",
      "hyper_parameter eta0 1000 hyper_parameter eta1 0.1   epoch  79   Loss parameter  [[0.37371804]]\n",
      "hyper_parameter eta0 1000 hyper_parameter eta1 1   epoch  31   Loss parameter  [[0.40503408]]\n",
      "hyper_parameter eta0 1000 hyper_parameter eta1 10   epoch  7   Loss parameter  [[1.14003903]]\n",
      "hyper_parameter eta0 1000 hyper_parameter eta1 100   epoch  5   Loss parameter  [[0.31615577]]\n",
      "hyper_parameter eta0 1000 hyper_parameter eta1 1000   epoch  10   Loss parameter  [[0.30543696]]\n"
     ]
    }
   ],
   "source": [
    "# Experimentation code goes here\n",
    "# Experimentation code goes here\n",
    "hyper_eta_0=[0.0001,0.001,0.01,0.1,1,10,100,1000]\n",
    "hyper_eta_1=[0.0001,0.001,0.01,0.1,1,10,100,1000]\n",
    "#This range is taken arbitarily. \n",
    "# Once we can refine the range, then we can tweak the parameters again.\n",
    "for i in range(len(hyper_eta_0)):\n",
    "    for j in range(len(hyper_eta_1)):\n",
    "        LR = LogisticRegression(hyper_eta_0[i],hyper_eta_1[j])\n",
    "        hyper_loss=LR.fit(X_train,y_train)\n",
    "        print(\"hyper_parameter eta0\",hyper_eta_0[i],\"hyper_parameter eta1\",hyper_eta_1[j],\"  epoch \",len(hyper_loss)-1,\"  Loss parameter \",hyper_loss[-1])"
   ]
  },
  {
   "cell_type": "code",
   "execution_count": null,
   "metadata": {
    "collapsed": true
   },
   "outputs": [],
   "source": [
    "# Experimentation code goes here\n",
    "hyper_eta_0=[50]\n",
    "hyper_eta_1=[4]\n",
    "#This range is taken arbitarily. \n",
    "# Once we can refine the range, then we can tweak the parameters again.\n",
    "for i in range(len(hyper_eta_0)):\n",
    "    for j in range(len(hyper_eta_1)):\n",
    "        LR = LogisticRegression(hyper_eta_0[i],hyper_eta_1[j])\n",
    "        hyper_loss=LR.fit(X_train,y_train)\n",
    "        print(\"hyper_parameter eta0\",hyper_eta_0[i],\"hyper_parameter eta0\",hyper_eta_1[j],\"  epoch \",len(hyper_loss)-1,\"  Loss parameter \",hyper_loss[-1])"
   ]
  },
  {
   "cell_type": "markdown",
   "metadata": {},
   "source": [
    "(a) Best value for, $\\eta_0$ = \\_100_, $\\eta_1$ = \\10_\n",
    "\n",
    "Number of epochs for training = 5__\n",
    "\n",
    "Final value of L($\\theta$) = 0.2706866_"
   ]
  },
  {
   "cell_type": "code",
   "execution_count": 26,
   "metadata": {},
   "outputs": [
    {
     "data": {
      "image/png": "[encoded data removed]",
      "text/plain": [
       "<matplotlib.figure.Figure at 0x1c192797f0>"
      ]
     },
     "metadata": {},
     "output_type": "display_data"
    }
   ],
   "source": [
    "# (b) For best (eta_0, eta_1) plot L(theta) vs num_epochs\n",
    "# global Loss_epoch\n",
    "from sklearn.utils import shuffle\n",
    "class LogisticRegression:\n",
    "    \"\"\"\n",
    "    Logistic Regression\n",
    "    \"\"\"\n",
    "    def __init__(self, eta0=100, eta1=10, m=16, max_epoch=1000, delta=0.0001):\n",
    "        \"\"\"\n",
    "        m is the batch_size\n",
    "        \"\"\"\n",
    "        self.__init = True\n",
    "        self.__eta0 = eta0\n",
    "        self.__eta1 = eta1\n",
    "        self.__delta = delta\n",
    "        self.__m = m\n",
    "        self.__max_epoch = max_epoch\n",
    "        self.w_epoch=[]\n",
    "    def __sigmoid(self, x):\n",
    "        return 1.0/(1 + np.exp(-x))\n",
    "    def sigmoid_fun(self, x):\n",
    "        return 1.0/(1 + np.exp(-x))\n",
    "    def __init_param(self):\n",
    "        \"\"\"\n",
    "        Weights initialized using a normal distribution here: you can change the distribution.\n",
    "        \"\"\"\n",
    "        d = self.__dimension\n",
    "        self.__wt = np.random.randn(1,d)\n",
    "        self.__bias = np.random.randn()\n",
    "        return self.__wt,self.__bias\n",
    "    def fit(self, X, y, X_val=None, y_val=None):\n",
    "        \"\"\"\n",
    "        Recommended input:\n",
    "        X: n x d array,\n",
    "        y: n x 1 array or list\n",
    "        \"\"\"\n",
    "        Loss_epoch=[np.Infinity]\n",
    "        n, d = X.shape\n",
    "#         print(\"n examples and d dimensions\", n,d)\n",
    "        self.__dimension = d\n",
    "        if self.__init:\n",
    "            self.__init_param()\n",
    "        self.__w = np.asmatrix(np.vstack((self.__wt.T,np.matrix([self.__bias]))))\n",
    "        \n",
    "        X=np.asmatrix(np.hstack((X,np.ones((n,1)))))\n",
    "        def loss(X,y):\n",
    "            loss=0\n",
    "            for i in range(n):\n",
    "                p_1=(self.__sigmoid(np.dot(X[i],self.__w)))\n",
    "                p_0=1-(p_1)\n",
    "#                 loss=loss + y[i]*(p_1) + (1-y[i])*(p_0)\n",
    "                loss=loss + y[i]*np.log(p_1) + (1-y[i])*np.log(p_0)\n",
    "#                 print(p_1,p_0,loss)\n",
    "#             print(\"loss for a epoch\",loss*(-1/np.float(n)))\n",
    "            return np.divide(-loss,n)\n",
    "        for epoch in range(1,self.__max_epoch+1):\n",
    "            learning_rate= (self.__eta0/(self.__eta1 + epoch))\n",
    "#             This one thing, I have to check\n",
    "            X,y=shuffle(X,y)\n",
    "            m=self.__m\n",
    "            batches=n//m\n",
    "#             print(batches)\n",
    "            y=np.asmatrix(y.reshape(n,1))\n",
    "            for i in range(batches):\n",
    "                X_i=X[i*m:(i+1)*m,]\n",
    "                y_i=y[i*m:(i+1)*m]\n",
    "                y_i=np.asmatrix(y_i.reshape(m,1))\n",
    "                k=np.dot(X_i,self.__w)\n",
    "                l=self.__sigmoid(k)\n",
    "                b2=y_i-l\n",
    "                grad=np.asmatrix(np.zeros_like(self.__w))\n",
    "#                 for j in range(m):\n",
    "#                     grad = grad + np.asscalar(b2[j])*(X_i[j].T)\n",
    "#                     print(\"shape of X_i[j]\",X_i[j].shape)\n",
    "#                 t = self.__w + grad*(np.float(learning_rate)/np.float(m))\n",
    "                self.__w = self.__w + (np.float(learning_rate)/np.float(m))*(X_i.T*b2)\n",
    "#                 print(\"value of t\", t[0:10])\n",
    "#                 print(\"value of self.__w\", self.__w[0:10])\n",
    "#             lot_loss = (loss(X,y))\n",
    "            Loss_all=np.divide(-(np.dot(y.T,np.log(self.__sigmoid(np.dot(X,self.__w)))) + np.dot((1-y).T,(np.log(1-self.__sigmoid(np.dot(X,self.__w)))))),np.float((n)))\n",
    "#             kill=(-1/n)*(np.dot(y.T,np.log(self.__sigmoid(np.dot(X,self.__w)))) + np.dot((1-y).T,(np.log(1-self.__sigmoid(np.dot(X,self.__w))))))\n",
    "#             kill2=(-1/np.float(n))*(np.dot(y.T,np.log(self.__sigmoid(np.dot(X,self.__w)))) + np.dot((1-y).T,(np.log(1-self.__sigmoid(np.dot(X,self.__w))))))\n",
    "# #             print(\"shape of (1-y).T and 1-np.log(self)\",(1-y).T.shape, (1-np.log(self.__sigmoid(np.dot(X,self.__w)))).shape)\n",
    "#             print(\"Loss_all,epoch\",Loss_all,epoch+1)\n",
    "#             print(\"kill_loss and kill2\",lot_loss, epoch+1)\n",
    "            Loss_epoch.append(Loss_all)\n",
    "            self.w_epoch.append(self.__w)\n",
    "        \n",
    "#  Values are given below\n",
    "#             ('Loss_all,epoch', matrix([[1.20834098]]), 2)\n",
    "# ('kill_loss and kill2', matrix([[9872.14579606]]), matrix([[1.20834098]]), 2)\n",
    "            if Loss_all > (1-self.__delta)*Loss_epoch[-2]:\n",
    "#                 print(\"epochs it took to converge\",epoch+1)\n",
    "                break\n",
    "#             if np.abs(Loss_all - Loss_epoch[-1] ) <= self.__delta/100:\n",
    "#                 print(\"epochs it took to converge\",epoch+1)\n",
    "#                 break\n",
    "        return Loss_epoch\n",
    "    \n",
    "    def predict_proba(self, X):\n",
    "        \"\"\"\n",
    "        predict the probility of the sample\n",
    "        You can refer to my code below\n",
    "        \"\"\"\n",
    "        n, d = X.shape\n",
    "        X=np.hstack((X,np.ones((n,1))))\n",
    "        return self.__sigmoid(np.dot(X,self.__w))\n",
    "    def predict(self, X):\n",
    "        \"\"\"\n",
    "        Classify the sample\n",
    "        \"\"\"\n",
    "        return (self.predict_proba(X) >= 0.5).astype(int)\n",
    "    def get_param(self):\n",
    "        \"\"\"\n",
    "        output:\n",
    "            parameters: wt(1*d array), b(scalar)\n",
    "        \"\"\"\n",
    "        return [self.__wt, self.__bias]\n",
    "    def save_model(self, save_file):\n",
    "        \"\"\"\n",
    "        save model to .pkl file\n",
    "        \"\"\"\n",
    "        with open(save_file,\"wb\") as file:\n",
    "            pickle.dump([self.__wt, self.__bias],file)\n",
    "    def load_model(self, load_file):\n",
    "        \"\"\"\n",
    "        load model from .pkl file\n",
    "        \"\"\"\n",
    "        with open(load_file,\"rb\") as file:\n",
    "            param = pickle.load(file)\n",
    "        self.__wt = param[0]\n",
    "        self.__bias = param[1]\n",
    "        self.__init = False\n",
    "        return self.__wt, self.__bias\n",
    "\n",
    "LR= LogisticRegression()\n",
    "p=LR.fit(X_train,y_train)\n",
    "#In case if you need validation, you can uncomment the above line.\n",
    "plt.plot(range(1,len(p)+1),p,'g')\n",
    "#By using the theta parameters generated during training, we can generate the loss \n",
    "#Loss_val is the loss calculated for the validation set\n",
    "plt.ylabel('Loss_train')\n",
    "plt.xlabel('Epochs')\n",
    "plt.show()"
   ]
  },
  {
   "cell_type": "markdown",
   "metadata": {},
   "source": [
    "### 3. Evaluating on validation set"
   ]
  },
  {
   "cell_type": "code",
   "execution_count": 41,
   "metadata": {},
   "outputs": [
    {
     "data": {
      "image/png": "[encoded data removed]",
      "text/plain": [
       "<matplotlib.figure.Figure at 0x1c23012e10>"
      ]
     },
     "metadata": {},
     "output_type": "display_data"
    }
   ],
   "source": [
    "# (a) Plot L(theta) vs num_epochs for both training and validation set on the same figure\n",
    "\n",
    "\n",
    "\n",
    "\n",
    "LR = LogisticRegression()\n",
    "Loss_train = LR.fit(X_train,y_train)\n",
    "Loss_val=[]\n",
    "n, d = X_val.shape\n",
    "# X=np.asmatrix(np.vstack((X_val,np.ones((n,1)))))\n",
    "X=np.asmatrix(np.hstack((X_val,np.ones((n,1)))))\n",
    "for i in range(len(LR.w_epoch)):\n",
    "    W=np.asmatrix(LR.w_epoch[i])\n",
    "    Loss_all=np.divide(-(np.dot(y_val.T,np.log(LR.sigmoid_fun(np.dot(X,W)))) + np.dot((1-y_val).T,(np.log(1-LR.sigmoid_fun(np.dot(X,W)))))),np.float((n)))\n",
    "    Loss_val.append(np.asscalar(Loss_all))\n",
    "# I need to restructure my code for getting the parameters per epoch\n",
    "#I'm assuming that the plot requested is Loss v/s epochs for a fixed set of eta0 and eta1 and the loss incurred before converging to the optimum loss value\n",
    "plt.plot(range(1,len(Loss_train)+1),Loss_train,'r',label=\"Training_loss\")\n",
    "#In case if you need validation, you can uncomment the above line.\n",
    "plt.plot(range(1,len(Loss_val)+1),Loss_val,'g',label=\"Validation_loss\")\n",
    "leg = plt.legend( shadow=True, fontsize='x-large')\n",
    "#By using the theta parameters generated during training, we can generate the loss \n",
    "#Loss_val is the loss calculated for the validation set\n",
    "\n",
    "plt.ylabel('Loss')\n",
    "plt.xlabel('Epochs')\n",
    "plt.show()\n"
   ]
  },
  {
   "cell_type": "code",
   "execution_count": 30,
   "metadata": {},
   "outputs": [
    {
     "data": {
      "image/png": "[encoded data removed]",
      "text/plain": [
       "<matplotlib.figure.Figure at 0x10c2371d0>"
      ]
     },
     "metadata": {},
     "output_type": "display_data"
    }
   ],
   "source": [
    "# (b) Plot Accuracy vs num_epochs for both training and validation set on the same figure\n",
    "from sklearn.metrics import accuracy_score\n",
    "LR = LogisticRegression()\n",
    "Loss_train = LR.fit(X_train,y_train)\n",
    "n_v= X_val.shape[0]\n",
    "n_t=X_train.shape[0]\n",
    "\n",
    "X_val_c=np.asmatrix(np.hstack((X_val,np.ones((n_v,1)))))\n",
    "X_train_c=np.asmatrix(np.hstack((X_train,np.ones((n_t,1)))))\n",
    "Training_acc=[]\n",
    "Validation_acc=[]\n",
    "for i in range(len(LR.w_epoch)):\n",
    "    y_pred_train =(LR.sigmoid_fun(np.dot(X_train_c,LR.w_epoch[i]))>= 0.5).astype(int)\n",
    "    y_pred_val =(LR.sigmoid_fun(np.dot(X_val_c,LR.w_epoch[i]))>= 0.5).astype(int)\n",
    "    Training_acc.append(accuracy_score(y_pred_train,y_train))\n",
    "    Validation_acc.append(accuracy_score(y_pred_val,y_val))\n",
    "    \n",
    "plt.plot(range(1,len(Training_acc)+1),Training_acc,'r',label=\"Training_acc\")\n",
    "plt.plot(range(1,len(Validation_acc)+1),Validation_acc,'g',label=\"Validation_acc\")\n",
    "leg = plt.legend( shadow=True, fontsize='x-large')\n",
    "#                  loc='best', ncol=2, mode=\"expand\", shadow=True, fancybox=True)\n",
    "leg.get_frame().set_alpha(0.5)\n",
    "plt.ylabel('Accuracy')\n",
    "plt.show()"
   ]
  },
  {
   "cell_type": "markdown",
   "metadata": {},
   "source": [
    "### 4. ROC and Precision-Recall curves"
   ]
  },
  {
   "cell_type": "code",
   "execution_count": 37,
   "metadata": {},
   "outputs": [
    {
     "data": {
      "image/png": "[encoded data removed]",
      "text/plain": [
       "<matplotlib.figure.Figure at 0x1c23012e80>"
      ]
     },
     "metadata": {},
     "output_type": "display_data"
    },
    {
     "data": {
      "image/png": "[encoded data removed]",
      "text/plain": [
       "<matplotlib.figure.Figure at 0x1c230345f8>"
      ]
     },
     "metadata": {},
     "output_type": "display_data"
    },
    {
     "name": "stdout",
     "output_type": "stream",
     "text": [
      "Area Under Curve for fpr and tpr 0.8955787571615552\n"
     ]
    }
   ],
   "source": [
    "#(a) Plot ROC curve on validation data\n",
    "\n",
    "from sklearn.metrics import roc_curve\n",
    "from sklearn.metrics import auc\n",
    "from sklearn.metrics import average_precision_score\n",
    "\n",
    "LR = LogisticRegression()\n",
    "Loss_train = LR.fit(X_train,y_train)\n",
    "n_v= X_val.shape[0]\n",
    "n_t=X_train.shape[0]\n",
    "X_val_c=np.asmatrix(np.hstack((X_val,np.ones((n_v,1)))))\n",
    "X_train_c=np.asmatrix(np.hstack((X_train,np.ones((n_t,1)))))\n",
    "y_pred_train =(LR.sigmoid_fun(np.dot(X_train_c,LR.w_epoch[-1])))\n",
    "y_pred_val =(LR.sigmoid_fun(np.dot(X_val_c,LR.w_epoch[-1])))\n",
    "\n",
    "false_positive_rate, true_positive_rate,threshold = roc_curve(y_val,y_pred_val)\n",
    "precision, recall, threshold = precision_recall_curve(y_val,y_pred_val)\n",
    "plt.plot(false_positive_rate, true_positive_rate,'r',label=\"ROC curve tpr v/s fpr\")\n",
    "plt.plot([0,1],[0,1],'g--')\n",
    "plt.xlabel('False_positive_rate')\n",
    "plt.ylabel('True_positive_rate')\n",
    "\n",
    "# leg = plt.legend(loc='best', ncol=2, mode=\"expand\", shadow=True, fancybox=True)\n",
    "# leg.get_frame().set_alpha(0.5)\n",
    "legend = plt.legend( shadow=True, fontsize='x-large')\n",
    "\n",
    "# Put a nicer background color on the legend.\n",
    "legend.get_frame().set_facecolor('C0')\n",
    "plt.show()\n",
    "\n",
    "# https://en.wikipedia.org/wiki/Receiver_operating_characteristic\n",
    "#Area Under Curve as specified, I have imported from sklearn.\n",
    "plt.plot(recall, precision, 'g', label=\"Precision Recall curve \")\n",
    "plt.ylabel('Precision')\n",
    "plt.xlabel('Recall')\n",
    "# leg = plt.legend(ncol=2, mode=\"expand\", shadow=True, fancybox=True)\n",
    "# leg.get_frame().set_alpha(0.5) loc='upper center',\n",
    "legend = plt.legend( shadow=True, fontsize='x-large')\n",
    "\n",
    "# Put a nicer background color on the legend.\n",
    "legend.get_frame().set_facecolor('C0')\n",
    "plt.show()\n",
    "print(average_precision_score(y_val,y_pred_val))\n",
    "print(\"Area Under Curve for fpr and tpr\", auc(false_positive_rate, true_positive_rate))"
   ]
  },
  {
   "cell_type": "markdown",
   "metadata": {},
   "source": [
    "Area under curve = 0.89557__"
   ]
  },
  {
   "cell_type": "code",
   "execution_count": 39,
   "metadata": {},
   "outputs": [
    {
     "name": "stdout",
     "output_type": "stream",
     "text": [
      "Average precision curve 0.8586262157642053\n"
     ]
    }
   ],
   "source": [
    "#(a) Plot Precision-Recall curve on validation data\n",
    "print(\"Average precision curve\",average_precision_score(y_val,y_pred_val))"
   ]
  },
  {
   "cell_type": "code",
   "execution_count": null,
   "metadata": {
    "collapsed": true
   },
   "outputs": [],
   "source": [
    "Average Precision = 0.85862__"
   ]
  },
  {
   "cell_type": "markdown",
   "metadata": {},
   "source": [
    "## Question 2.4"
   ]
  },
  {
   "cell_type": "markdown",
   "metadata": {},
   "source": [
    "### 1. Submission"
   ]
  },
  {
   "cell_type": "code",
   "execution_count": 36,
   "metadata": {
    "collapsed": true
   },
   "outputs": [],
   "source": [
    "import pandas as pd\n",
    "def submission(y_pred):\n",
    "    \"\"\"\n",
    "    generate the submission.csv for kaggle\n",
    "    input args:\n",
    "        y_pred: 5542x1 array or list contains 5542 elements\n",
    "        \n",
    "    \"\"\"\n",
    "    save_file = pd.DataFrame(columns=[\"Id\",\"Class\"])\n",
    "    id = np.array([idx for idx in range(5542)])\n",
    "    save_file[\"Id\"] = id\n",
    "    save_file[\"Class\"]= y_pred\n",
    "    save_file.to_csv(\"submission.csv\",index=0)       "
   ]
  },
  {
   "cell_type": "markdown",
   "metadata": {},
   "source": [
    "#### Generate the submission.csv"
   ]
  },
  {
   "cell_type": "code",
   "execution_count": 40,
   "metadata": {
    "collapsed": true
   },
   "outputs": [],
   "source": [
    "# code goes here\n",
    "y_pred=LR.predict(X_test)\n",
    "submission(y_pred)"
   ]
  },
  {
   "cell_type": "markdown",
   "metadata": {},
   "source": [
    "Best obtained accuracy on Public Leader-board = 0.88127\n",
    "6\n",
    "__%"
   ]
  },
  {
   "cell_type": "code",
   "execution_count": null,
   "metadata": {
    "collapsed": true
   },
   "outputs": [],
   "source": []
  }
 ],
 "metadata": {
  "kernelspec": {
   "display_name": "Python 3",
   "language": "python",
   "name": "python3"
  },
  "language_info": {
   "codemirror_mode": {
    "name": "ipython",
    "version": 3
   },
   "file_extension": ".py",
   "mimetype": "text/x-python",
   "name": "python",
   "nbconvert_exporter": "python",
   "pygments_lexer": "ipython3",
   "version": "3.6.6"
  }
 },
 "nbformat": 4,
 "nbformat_minor": 2
}
